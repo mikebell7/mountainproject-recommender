{
 "cells": [
  {
   "cell_type": "markdown",
   "metadata": {},
   "source": [
    "# 3. Exploratory Data Analysis\n",
    "\n",
    "In this notebook, we explore basic metrics of the collected routes and areas."
   ]
  },
  {
   "cell_type": "code",
   "execution_count": 1,
   "metadata": {},
   "outputs": [],
   "source": [
    "import numpy as np\n",
    "import pandas as pd\n",
    "import seaborn as sns\n",
    "import matplotlib.pyplot as plt\n",
    "import ast\n",
    "import pickle\n",
    "import warnings\n",
    "\n",
    "import requests\n",
    "from bs4 import BeautifulSoup\n",
    "import functools\n",
    "import operator\n",
    "import os\n",
    "from MPAreaTree import MPAreaTree\n",
    "pd.set_option('display.max_colwidth', 4000)\n",
    "warnings.filterwarnings('ignore')"
   ]
  },
  {
   "cell_type": "code",
   "execution_count": 2,
   "metadata": {},
   "outputs": [],
   "source": [
    "routes = pd.read_csv('./data/routes.csv')\n",
    "areas = pd.read_csv('./data/areas.csv')\n",
    "ratings = pd.read_csv('./data/ratings.csv')\n",
    "area_tree = pickle.load(open('./pickle/area_tree.pkl', 'rb'))"
   ]
  },
  {
   "cell_type": "code",
   "execution_count": 3,
   "metadata": {},
   "outputs": [
    {
     "data": {
      "text/plain": [
       "2.383954171987567"
      ]
     },
     "execution_count": 3,
     "metadata": {},
     "output_type": "execute_result"
    }
   ],
   "source": [
    "# average score/route\n",
    "routes['score'].mean()"
   ]
  },
  {
   "cell_type": "code",
   "execution_count": 4,
   "metadata": {},
   "outputs": [
    {
     "data": {
      "text/plain": [
       "13.17930029154519"
      ]
     },
     "execution_count": 4,
     "metadata": {},
     "output_type": "execute_result"
    }
   ],
   "source": [
    "# average number of votes/route\n",
    "routes['votes'].mean()"
   ]
  },
  {
   "cell_type": "code",
   "execution_count": 5,
   "metadata": {},
   "outputs": [
    {
     "data": {
      "text/plain": [
       "2.7212617496989218"
      ]
     },
     "execution_count": 5,
     "metadata": {},
     "output_type": "execute_result"
    }
   ],
   "source": [
    "# average rating / vote\n",
    "ratings['user_rating'].mean()"
   ]
  },
  {
   "cell_type": "code",
   "execution_count": 6,
   "metadata": {},
   "outputs": [
    {
     "data": {
      "text/plain": [
       "36.84080253151974"
      ]
     },
     "execution_count": 6,
     "metadata": {},
     "output_type": "execute_result"
    }
   ],
   "source": [
    "# average routes rated / user\n",
    "ratings.groupby('user_id')['route_id'].count().mean()"
   ]
  },
  {
   "cell_type": "code",
   "execution_count": 7,
   "metadata": {},
   "outputs": [
    {
     "data": {
      "text/plain": [
       "count    60359.000000\n",
       "mean        36.840803\n",
       "std        118.345071\n",
       "min          1.000000\n",
       "25%          2.000000\n",
       "50%          5.000000\n",
       "75%         22.000000\n",
       "max       4703.000000\n",
       "Name: route_id, dtype: float64"
      ]
     },
     "execution_count": 7,
     "metadata": {},
     "output_type": "execute_result"
    }
   ],
   "source": [
    "ratings.groupby('user_id')['route_id'].count().describe()"
   ]
  },
  {
   "cell_type": "code",
   "execution_count": 14,
   "metadata": {},
   "outputs": [
    {
     "data": {
      "image/png": "[encoded data removed]",
      "text/plain": [
       "<Figure size 432x288 with 1 Axes>"
      ]
     },
     "metadata": {
      "needs_background": "light"
     },
     "output_type": "display_data"
    }
   ],
   "source": [
    "# Histogram of the rating distributions\n",
    "ratings['user_rating'].hist(bins = np.arange(6)-.5, grid=False,edgecolor = 'black', density = False)\n",
    "plt.xlabel('Star Rating');"
   ]
  },
  {
   "cell_type": "code",
   "execution_count": 18,
   "metadata": {},
   "outputs": [
    {
     "data": {
      "text/plain": [
       "<matplotlib.collections.PathCollection at 0x1259d0438>"
      ]
     },
     "execution_count": 18,
     "metadata": {},
     "output_type": "execute_result"
    },
    {
     "data": {
      "image/png": "[encoded data removed]",
      "text/plain": [
       "<Figure size 432x288 with 1 Axes>"
      ]
     },
     "metadata": {
      "needs_background": "light"
     },
     "output_type": "display_data"
    }
   ],
   "source": [
    "plt.scatter( y = ratings.groupby('user_id').count()['user_rating'], x = ratings.groupby('user_id')['user_rating'].mean())"
   ]
  },
  {
   "cell_type": "code",
   "execution_count": 37,
   "metadata": {},
   "outputs": [
    {
     "data": {
      "image/png": "[encoded data removed]",
      "text/plain": [
       "<Figure size 432x288 with 1 Axes>"
      ]
     },
     "metadata": {
      "needs_background": "light"
     },
     "output_type": "display_data"
    }
   ],
   "source": [
    "routes['score'].hist(bins = np.arange(0,5,.5)-.25, edgecolor = 'black', grid = False, density = 1)\n",
    "plt.xticks(np.arange(0,4.5,.5));"
   ]
  },
  {
   "cell_type": "code",
   "execution_count": 42,
   "metadata": {},
   "outputs": [
    {
     "data": {
      "text/plain": [
       "<matplotlib.axes._subplots.AxesSubplot at 0x137991dd8>"
      ]
     },
     "execution_count": 42,
     "metadata": {},
     "output_type": "execute_result"
    },
    {
     "data": {
      "image/png": "[encoded data removed]",
      "text/plain": [
       "<Figure size 432x288 with 1 Axes>"
      ]
     },
     "metadata": {
      "needs_background": "light"
     },
     "output_type": "display_data"
    }
   ],
   "source": [
    "# number of pitches of each route\n",
    "routes['pitches'].hist(bins = 30, grid = False, density = True)"
   ]
  },
  {
   "cell_type": "code",
   "execution_count": 43,
   "metadata": {},
   "outputs": [
    {
     "data": {
      "text/plain": [
       "1     155716\n",
       "2       5398\n",
       "3       2238\n",
       "4       1116\n",
       "5        616\n",
       "6        346\n",
       "7        181\n",
       "8        133\n",
       "10        73\n",
       "9         66\n",
       "12        35\n",
       "11        24\n",
       "13        15\n",
       "14        14\n",
       "15         7\n",
       "18         7\n",
       "17         6\n",
       "19         4\n",
       "20         3\n",
       "16         2\n",
       "21         2\n",
       "23         2\n",
       "25         2\n",
       "30         2\n",
       "29         1\n",
       "44         1\n",
       "22         1\n",
       "90         1\n",
       "Name: pitches, dtype: int64"
      ]
     },
     "execution_count": 43,
     "metadata": {},
     "output_type": "execute_result"
    }
   ],
   "source": [
    "routes['pitches'].value_counts().sort_values('index', ascending = False)"
   ]
  },
  {
   "cell_type": "code",
   "execution_count": 44,
   "metadata": {},
   "outputs": [
    {
     "data": {
      "text/html": [
       "<div>\n",
       "<style scoped>\n",
       "    .dataframe tbody tr th:only-of-type {\n",
       "        vertical-align: middle;\n",
       "    }\n",
       "\n",
       "    .dataframe tbody tr th {\n",
       "        vertical-align: top;\n",
       "    }\n",
       "\n",
       "    .dataframe thead th {\n",
       "        text-align: right;\n",
       "    }\n",
       "</style>\n",
       "<table border=\"1\" class=\"dataframe\">\n",
       "  <thead>\n",
       "    <tr style=\"text-align: right;\">\n",
       "      <th></th>\n",
       "      <th>route_id</th>\n",
       "      <th>area_id</th>\n",
       "      <th>pitches</th>\n",
       "      <th>score</th>\n",
       "      <th>votes</th>\n",
       "      <th>grade_numeric</th>\n",
       "      <th>Unnamed: 0</th>\n",
       "    </tr>\n",
       "  </thead>\n",
       "  <tbody>\n",
       "    <tr>\n",
       "      <th>count</th>\n",
       "      <td>1.660120e+05</td>\n",
       "      <td>1.660120e+05</td>\n",
       "      <td>166012.000000</td>\n",
       "      <td>166012.000000</td>\n",
       "      <td>166012.000000</td>\n",
       "      <td>166012.000000</td>\n",
       "      <td>51231.000000</td>\n",
       "    </tr>\n",
       "    <tr>\n",
       "      <th>mean</th>\n",
       "      <td>1.107607e+08</td>\n",
       "      <td>1.094098e+08</td>\n",
       "      <td>1.135219</td>\n",
       "      <td>2.383954</td>\n",
       "      <td>13.179300</td>\n",
       "      <td>20.084024</td>\n",
       "      <td>12111.554293</td>\n",
       "    </tr>\n",
       "    <tr>\n",
       "      <th>std</th>\n",
       "      <td>4.667773e+06</td>\n",
       "      <td>4.358136e+06</td>\n",
       "      <td>0.766569</td>\n",
       "      <td>0.810050</td>\n",
       "      <td>38.472284</td>\n",
       "      <td>12.059338</td>\n",
       "      <td>7384.375816</td>\n",
       "    </tr>\n",
       "    <tr>\n",
       "      <th>min</th>\n",
       "      <td>1.057147e+08</td>\n",
       "      <td>1.057143e+08</td>\n",
       "      <td>1.000000</td>\n",
       "      <td>0.000000</td>\n",
       "      <td>1.000000</td>\n",
       "      <td>0.000000</td>\n",
       "      <td>0.000000</td>\n",
       "    </tr>\n",
       "    <tr>\n",
       "      <th>25%</th>\n",
       "      <td>1.066480e+08</td>\n",
       "      <td>1.059820e+08</td>\n",
       "      <td>1.000000</td>\n",
       "      <td>2.000000</td>\n",
       "      <td>1.000000</td>\n",
       "      <td>10.000000</td>\n",
       "      <td>5591.500000</td>\n",
       "    </tr>\n",
       "    <tr>\n",
       "      <th>50%</th>\n",
       "      <td>1.088637e+08</td>\n",
       "      <td>1.072862e+08</td>\n",
       "      <td>1.000000</td>\n",
       "      <td>2.300000</td>\n",
       "      <td>3.000000</td>\n",
       "      <td>18.000000</td>\n",
       "      <td>12117.000000</td>\n",
       "    </tr>\n",
       "    <tr>\n",
       "      <th>75%</th>\n",
       "      <td>1.142265e+08</td>\n",
       "      <td>1.120275e+08</td>\n",
       "      <td>1.000000</td>\n",
       "      <td>3.000000</td>\n",
       "      <td>9.000000</td>\n",
       "      <td>28.000000</td>\n",
       "      <td>18615.500000</td>\n",
       "    </tr>\n",
       "    <tr>\n",
       "      <th>max</th>\n",
       "      <td>1.200644e+08</td>\n",
       "      <td>1.200624e+08</td>\n",
       "      <td>90.000000</td>\n",
       "      <td>4.000000</td>\n",
       "      <td>1842.000000</td>\n",
       "      <td>76.000000</td>\n",
       "      <td>25760.000000</td>\n",
       "    </tr>\n",
       "  </tbody>\n",
       "</table>\n",
       "</div>"
      ],
      "text/plain": [
       "           route_id       area_id        pitches          score  \\\n",
       "count  1.660120e+05  1.660120e+05  166012.000000  166012.000000   \n",
       "mean   1.107607e+08  1.094098e+08       1.135219       2.383954   \n",
       "std    4.667773e+06  4.358136e+06       0.766569       0.810050   \n",
       "min    1.057147e+08  1.057143e+08       1.000000       0.000000   \n",
       "25%    1.066480e+08  1.059820e+08       1.000000       2.000000   \n",
       "50%    1.088637e+08  1.072862e+08       1.000000       2.300000   \n",
       "75%    1.142265e+08  1.120275e+08       1.000000       3.000000   \n",
       "max    1.200644e+08  1.200624e+08      90.000000       4.000000   \n",
       "\n",
       "               votes  grade_numeric    Unnamed: 0  \n",
       "count  166012.000000  166012.000000  51231.000000  \n",
       "mean       13.179300      20.084024  12111.554293  \n",
       "std        38.472284      12.059338   7384.375816  \n",
       "min         1.000000       0.000000      0.000000  \n",
       "25%         1.000000      10.000000   5591.500000  \n",
       "50%         3.000000      18.000000  12117.000000  \n",
       "75%         9.000000      28.000000  18615.500000  \n",
       "max      1842.000000      76.000000  25760.000000  "
      ]
     },
     "execution_count": 44,
     "metadata": {},
     "output_type": "execute_result"
    }
   ],
   "source": [
    "routes.describe()"
   ]
  },
  {
   "cell_type": "code",
   "execution_count": null,
   "metadata": {},
   "outputs": [],
   "source": []
  }
 ],
 "metadata": {
  "kernelspec": {
   "display_name": "Python 3",
   "language": "python",
   "name": "python3"
  },
  "language_info": {
   "codemirror_mode": {
    "name": "ipython",
    "version": 3
   },
   "file_extension": ".py",
   "mimetype": "text/x-python",
   "name": "python",
   "nbconvert_exporter": "python",
   "pygments_lexer": "ipython3",
   "version": "3.9.5"
  }
 },
 "nbformat": 4,
 "nbformat_minor": 4
}
