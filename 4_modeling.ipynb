{
 "cells": [
  {
   "cell_type": "markdown",
   "metadata": {},
   "source": [
    "# 4. Modeling\n",
    "\n",
    "We use the Surprise package to train a matrix-factorization based collaborative filtering recommender system. "
   ]
  },
  {
   "cell_type": "code",
   "execution_count": 3,
   "metadata": {},
   "outputs": [],
   "source": [
    "import numpy as np\n",
    "import pandas as pd\n",
    "import seaborn as sns\n",
    "import matplotlib.pyplot as plt\n",
    "import ast\n",
    "import pickle\n",
    "import warnings\n",
    "\n",
    "import requests\n",
    "from bs4 import BeautifulSoup\n",
    "import functools\n",
    "import operator\n",
    "import os\n",
    "from MPAreaTree import MPAreaTree\n",
    "\n",
    "\n",
    "from surprise import SVD, KNNBasic,KNNWithMeans, SVDpp, NMF, BaselineOnly\n",
    "from surprise import Dataset, Reader\n",
    "from surprise import accuracy\n",
    "from surprise.model_selection import train_test_split, GridSearchCV\n",
    "\n",
    "\n",
    "pd.set_option('display.max_colwidth', 4000)\n",
    "warnings.filterwarnings('ignore')"
   ]
  },
  {
   "cell_type": "code",
   "execution_count": 2,
   "metadata": {},
   "outputs": [],
   "source": [
    "routes = pd.read_csv('./data/routes.csv')\n",
    "areas = pd.read_csv('./data/areas.csv')\n",
    "ratings = pd.read_csv('./data/ratings.csv')\n",
    "area_tree = pickle.load(open('./pickle/area_tree.pkl', 'rb'))"
   ]
  },
  {
   "cell_type": "code",
   "execution_count": null,
   "metadata": {},
   "outputs": [],
   "source": [
    "\n",
    "df = ratings[['user_id', 'route_id', 'user_rating']]\n",
    "reader = Reader(rating_scale = (0,4))\n",
    "data = Dataset.load_from_df(df, reader = reader)\n"
   ]
  },
  {
   "cell_type": "code",
   "execution_count": null,
   "metadata": {},
   "outputs": [],
   "source": [
    "if False:\n",
    "    trainset, testset = train_test_split(data, test_size=.25)\n",
    "\n",
    "    baseline = BaselineOnly()\n",
    "    svd = SVD()\n",
    "    svdpp = SVDpp()\n",
    "    knn = KNNBasic()\n",
    "    knnwithmeans = KNNWithMeans()\n",
    "    nmf = NMF()\n",
    "\n",
    "    for  name, algo in [('Baseline', baseline), ('SVD', svd), ('KNNBasic',knn), \n",
    "                 ('KNNWithMeans',knnwithmeans), ('NMF',nmf)]:\n",
    "\n",
    "        algo.fit(trainset)\n",
    "        predictions = algo.test(testset)\n",
    "\n",
    "\n",
    "        print(f'{name}:')\n",
    "        accuracy.rmse(predictions)"
   ]
  },
  {
   "cell_type": "code",
   "execution_count": null,
   "metadata": {},
   "outputs": [],
   "source": [
    "trainset, testset = train_test_split(data, test_size=.25)"
   ]
  },
  {
   "cell_type": "code",
   "execution_count": 5,
   "metadata": {},
   "outputs": [
    {
     "data": {
      "text/plain": [
       "10232        3595\n",
       "10185        3413\n",
       "14537        2988\n",
       "106098789    2737\n",
       "13115        2567\n",
       "             ... \n",
       "107146050      50\n",
       "10692          50\n",
       "111732234      50\n",
       "106697280      50\n",
       "111774025      50\n",
       "Name: user_id, Length: 6365, dtype: int64"
      ]
     },
     "execution_count": 5,
     "metadata": {},
     "output_type": "execute_result"
    }
   ],
   "source": [
    "ratings[ratings.groupby('user_id')['user_id'].transform('size') >= 50]['user_id'].value_counts()"
   ]
  },
  {
   "cell_type": "code",
   "execution_count": null,
   "metadata": {},
   "outputs": [],
   "source": []
  }
 ],
 "metadata": {
  "kernelspec": {
   "display_name": "Python 3",
   "language": "python",
   "name": "python3"
  },
  "language_info": {
   "codemirror_mode": {
    "name": "ipython",
    "version": 3
   },
   "file_extension": ".py",
   "mimetype": "text/x-python",
   "name": "python",
   "nbconvert_exporter": "python",
   "pygments_lexer": "ipython3",
   "version": "3.9.5"
  }
 },
 "nbformat": 4,
 "nbformat_minor": 4
}
