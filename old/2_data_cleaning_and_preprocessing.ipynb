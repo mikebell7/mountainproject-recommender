{
 "cells": [
  {
   "cell_type": "markdown",
   "metadata": {},
   "source": [
    "# 2. Data Cleaning\n",
    "\n",
    "This notebook contains code which reads in area/route information gathered during the scraping process. \n"
   ]
  },
  {
   "cell_type": "code",
   "execution_count": 30,
   "metadata": {},
   "outputs": [],
   "source": [
    "import numpy as np\n",
    "import pandas as pd\n",
    "import seaborn as sns\n",
    "import matplotlib.pyplot as plt\n",
    "import ast\n",
    "import pickle\n",
    "import warnings\n",
    "\n",
    "import requests\n",
    "from bs4 import BeautifulSoup\n",
    "import functools\n",
    "import operator\n",
    "import os\n",
    "from MPAreaTree import MPAreaTree\n",
    "pd.set_option('display.max_colwidth', 4000)\n",
    "warnings.filterwarnings('ignore')"
   ]
  },
  {
   "cell_type": "markdown",
   "metadata": {},
   "source": [
    "# Data Cleaning and Preprocessing"
   ]
  },
  {
   "cell_type": "code",
   "execution_count": 31,
   "metadata": {},
   "outputs": [],
   "source": [
    "def clean_routes(routes, drop_unrated = True):\n",
    "    cleaned_routes = routes.drop_duplicates()\n",
    "    \n",
    "    if drop_unrated:\n",
    "        cleaned_routes = cleaned_routes[~cleaned_routes.star_ratings.isnull()]\n",
    "        cleaned_routes = cleaned_routes[cleaned_routes['star_ratings'] != '{}']\n",
    "        \n",
    "    cleaned_routes['description'] = cleaned_routes['description'].fillna('')\n",
    "    cleaned_routes['id'] = cleaned_routes['id'].astype(int)\n",
    "    cleaned_routes = cleaned_routes.rename(columns = {'id' : 'route_id', 'name' : 'route_name'})\n",
    "    cleaned_routes['area_id'] = cleaned_routes['area_id'].astype(int)\n",
    "    cleaned_routes['pitches'] = cleaned_routes['pitches'].astype(int)\n",
    "    cleaned_routes['votes'] = cleaned_routes['votes'].astype(int)\n",
    "    cleaned_routes['route_name'] = cleaned_routes['route_name'].fillna('Unnamed')\n",
    "    cleaned_routes['height'] = cleaned_routes['height'].map(lambda x: 'Unspecified' if x == 0 else x)\n",
    "    # dictionary of user ratings is saved as a string, convert to a python dict\n",
    "    cleaned_routes['star_ratings'] = cleaned_routes['star_ratings'].map(lambda x: ast.literal_eval(x))\n",
    "    \n",
    "    \n",
    "    # add ordinal grading for sorting\n",
    "    boulder_grades = pd.read_csv('./data/boulder_grades.csv')\n",
    "    climb_grades = pd.read_csv('./data/climb_grades.csv')\n",
    "    \n",
    "    \n",
    "    grade_dict = {v:k for k,v in boulder_grades.to_dict()['grade'].items()}\n",
    "    grade_dict.update({v:k for k,v in climb_grades.to_dict()['grade'].items()})\n",
    "    \n",
    "    # remove ungraded routes for now\n",
    "    cleaned_routes = cleaned_routes[~cleaned_routes['grade'].isin(['5.?', 'V?', ''])]\n",
    "    cleaned_routes = cleaned_routes[cleaned_routes['grade'].isin(grade_dict.keys())]\n",
    "    \n",
    "    cleaned_routes = cleaned_routes[cleaned_routes['pitches'] != 80]\n",
    "    cleaned_routes['grade_numeric'] = cleaned_routes['grade'].map(grade_dict).astype(int)\n",
    "    return cleaned_routes\n",
    "\n",
    "def clean_area(areas):\n",
    "    cleaned_areas = areas.drop_duplicates()\n",
    "    \n",
    "    cleaned_areas['parent_id'] = cleaned_areas['parent_id'].fillna(0)\n",
    "    cleaned_areas['parent_id'] = cleaned_areas['parent_id'].astype(int)\n",
    "    cleaned_areas = cleaned_areas.rename(columns = {'id' : 'area_id', 'name' : 'area_name'})\n",
    "    return cleaned_areas"
   ]
  },
  {
   "cell_type": "code",
   "execution_count": 32,
   "metadata": {},
   "outputs": [],
   "source": [
    "def get_ratings(routes):\n",
    "    ratings = []\n",
    "    for i,row in routes.iterrows():\n",
    "        for user, stars in row['star_ratings'].items():\n",
    "            ratings.append({'user_id': user, 'route_id' : row['route_id'], 'user_rating' : stars})\n",
    "\n",
    "    ratings = pd.DataFrame(ratings)\n",
    "    \n",
    "    return pd.merge(ratings, routes, left_on = 'route_id', right_on='route_id').drop(columns = 'star_ratings')"
   ]
  },
  {
   "cell_type": "code",
   "execution_count": null,
   "metadata": {},
   "outputs": [],
   "source": []
  },
  {
   "cell_type": "code",
   "execution_count": 34,
   "metadata": {},
   "outputs": [],
   "source": [
    "def load_state_routes_areas(states):\n",
    "    routes = []\n",
    "    areas = []\n",
    "    for state in states:\n",
    "        if os.path.exists(f'./data/{state}_routes.csv') and os.path.exists(f'./data/{state}_areas.csv'):\n",
    "            print(f'Found route/area data for {state}.')\n",
    "            r = clean_routes(pd.read_csv(f'./data/{state}_routes.csv',quoting=2, error_bad_lines=False))        \n",
    "            a = clean_area(pd.read_csv(f'./data/{state}_areas.csv'))\n",
    "\n",
    "            r['state'] = state\n",
    "            a['state'] = state\n",
    "            r = r.merge(a[['area_id', 'area_name']], left_on = 'area_id', right_on = 'area_id')\n",
    "            routes.append(r)\n",
    "            areas.append(a)            \n",
    "    \n",
    "    routes = pd.concat(routes).reset_index(drop = True)\n",
    "    areas = pd.concat(areas).reset_index(drop = True)\n",
    "    print(f'Loaded route/area data for {areas[\"state\"].unique().shape[0]} states.')\n",
    "    print(f\"Found {routes['route_id'].unique().shape[0]} unique routes in {areas['area_id'].unique().shape[0]} unique areas.\")\n",
    "    return routes, areas"
   ]
  },
  {
   "cell_type": "code",
   "execution_count": 35,
   "metadata": {},
   "outputs": [
    {
     "name": "stdout",
     "output_type": "stream",
     "text": [
      "Found route/area data for Alaska.\n",
      "Found route/area data for Alabama.\n",
      "Found route/area data for Arkansas.\n",
      "Found route/area data for Arizona.\n",
      "Found route/area data for California.\n",
      "Found route/area data for Colorado.\n",
      "Found route/area data for Connecticut.\n",
      "Found route/area data for Delaware.\n",
      "Found route/area data for Florida.\n",
      "Found route/area data for Georgia.\n",
      "Found route/area data for Hawaii.\n",
      "Found route/area data for Iowa.\n",
      "Found route/area data for Idaho.\n",
      "Found route/area data for Illinois.\n",
      "Found route/area data for Indiana.\n",
      "Found route/area data for Kansas.\n",
      "Found route/area data for Kentucky.\n",
      "Found route/area data for Louisiana.\n",
      "Found route/area data for Massachusetts.\n",
      "Found route/area data for Maryland.\n",
      "Found route/area data for Maine.\n",
      "Found route/area data for Michigan.\n",
      "Found route/area data for Minnesota.\n",
      "Found route/area data for Missouri.\n",
      "Found route/area data for Mississippi.\n",
      "Found route/area data for Montana.\n",
      "Found route/area data for North Carolina.\n",
      "Found route/area data for North Dakota.\n",
      "Found route/area data for Nebraska.\n",
      "Found route/area data for New Hampshire.\n",
      "Found route/area data for New Jersey.\n",
      "Found route/area data for New Mexico.\n",
      "Found route/area data for Nevada.\n",
      "Found route/area data for New York.\n",
      "Found route/area data for Ohio.\n",
      "Found route/area data for Oklahoma.\n",
      "Found route/area data for Oregon.\n",
      "Found route/area data for Pennsylvania.\n",
      "Found route/area data for Rhode Island.\n",
      "Found route/area data for South Carolina.\n",
      "Found route/area data for South Dakota.\n",
      "Found route/area data for Tennessee.\n",
      "Found route/area data for Texas.\n",
      "Found route/area data for Utah.\n",
      "Found route/area data for Virginia.\n",
      "Found route/area data for Vermont.\n",
      "Found route/area data for Washington.\n",
      "Found route/area data for Wisconsin.\n",
      "Found route/area data for West Virginia.\n",
      "Found route/area data for Wyoming.\n",
      "Loaded route/area data for 50 states.\n",
      "Found 164799 unique routes in 43299 unique areas.\n"
     ]
    }
   ],
   "source": [
    "state_names = [\"Alaska\", \"Alabama\", \"Arkansas\", \"Arizona\", \"California\", \"Colorado\", \"Connecticut\", \n",
    "               \"Delaware\", \"Florida\", \"Georgia\",  \"Hawaii\", \"Iowa\", \"Idaho\", \"Illinois\", \"Indiana\", \"Kansas\",\n",
    "               \"Kentucky\", \"Louisiana\", \"Massachusetts\", \"Maryland\", \"Maine\", \"Michigan\", \"Minnesota\", \"Missouri\", \n",
    "               \"Mississippi\", \"Montana\", \"North Carolina\",  \"North Dakota\", \"Nebraska\", \"New Hampshire\", \n",
    "               \"New Jersey\", \"New Mexico\", \"Nevada\", \"New York\", \"Ohio\", \"Oklahoma\", \"Oregon\", \n",
    "               \"Pennsylvania\", \"Rhode Island\", \"South Carolina\", \"South Dakota\", \n",
    "               \"Tennessee\", \"Texas\", \"Utah\", \"Virginia\",  \"Vermont\", \n",
    "               \"Washington\", \"Wisconsin\", \"West Virginia\", \"Wyoming\"]\n",
    "routes, areas = load_state_routes_areas(state_names)"
   ]
  },
  {
   "cell_type": "code",
   "execution_count": 36,
   "metadata": {},
   "outputs": [],
   "source": [
    "area_tree = MPAreaTree(areas)\n",
    "ratings = get_ratings(routes)"
   ]
  },
  {
   "cell_type": "code",
   "execution_count": 37,
   "metadata": {},
   "outputs": [
    {
     "data": {
      "text/plain": [
       "(2223674, 15)"
      ]
     },
     "execution_count": 37,
     "metadata": {},
     "output_type": "execute_result"
    }
   ],
   "source": [
    "ratings.shape"
   ]
  },
  {
   "cell_type": "code",
   "execution_count": 38,
   "metadata": {},
   "outputs": [],
   "source": [
    "routes.to_csv('./data/routes.csv', index = False)\n",
    "areas.to_csv('./data/areas.csv', index = False)\n",
    "ratings.to_csv('./data/ratings.csv', index = False)"
   ]
  },
  {
   "cell_type": "code",
   "execution_count": 39,
   "metadata": {},
   "outputs": [],
   "source": [
    "pickle.dump(area_tree, open('./pickle/area_tree.pkl', 'wb'))"
   ]
  },
  {
   "cell_type": "code",
   "execution_count": 40,
   "metadata": {},
   "outputs": [
    {
     "data": {
      "text/plain": [
       "2.383954171987567"
      ]
     },
     "execution_count": 40,
     "metadata": {},
     "output_type": "execute_result"
    }
   ],
   "source": [
    "routes['score'].mean()"
   ]
  },
  {
   "cell_type": "code",
   "execution_count": 41,
   "metadata": {},
   "outputs": [
    {
     "data": {
      "text/plain": [
       "13.17930029154519"
      ]
     },
     "execution_count": 41,
     "metadata": {},
     "output_type": "execute_result"
    }
   ],
   "source": [
    "routes['votes'].mean()"
   ]
  },
  {
   "cell_type": "code",
   "execution_count": 42,
   "metadata": {},
   "outputs": [
    {
     "data": {
      "text/plain": [
       "2.7212617496989218"
      ]
     },
     "execution_count": 42,
     "metadata": {},
     "output_type": "execute_result"
    }
   ],
   "source": [
    "ratings['user_rating'].mean()"
   ]
  },
  {
   "cell_type": "code",
   "execution_count": 43,
   "metadata": {},
   "outputs": [
    {
     "data": {
      "text/html": [
       "<div>\n",
       "<style scoped>\n",
       "    .dataframe tbody tr th:only-of-type {\n",
       "        vertical-align: middle;\n",
       "    }\n",
       "\n",
       "    .dataframe tbody tr th {\n",
       "        vertical-align: top;\n",
       "    }\n",
       "\n",
       "    .dataframe thead th {\n",
       "        text-align: right;\n",
       "    }\n",
       "</style>\n",
       "<table border=\"1\" class=\"dataframe\">\n",
       "  <thead>\n",
       "    <tr style=\"text-align: right;\">\n",
       "      <th></th>\n",
       "      <th>route_name</th>\n",
       "      <th>route_id</th>\n",
       "      <th>type</th>\n",
       "      <th>area_id</th>\n",
       "      <th>grade</th>\n",
       "      <th>height</th>\n",
       "      <th>pitches</th>\n",
       "      <th>score</th>\n",
       "      <th>votes</th>\n",
       "      <th>description</th>\n",
       "      <th>star_ratings</th>\n",
       "      <th>grade_numeric</th>\n",
       "      <th>state</th>\n",
       "      <th>area_name</th>\n",
       "    </tr>\n",
       "  </thead>\n",
       "  <tbody>\n",
       "    <tr>\n",
       "      <th>0</th>\n",
       "      <td>Kachemak Crack</td>\n",
       "      <td>107324402</td>\n",
       "      <td>Trad</td>\n",
       "      <td>107320915</td>\n",
       "      <td>5.7</td>\n",
       "      <td>70</td>\n",
       "      <td>1</td>\n",
       "      <td>1.0</td>\n",
       "      <td>1</td>\n",
       "      <td>Cruxy start with poor placement for the first 10-15 feet coupled with a nasty area to land if you do happen to peel off.  Then cruise up the veiny cracks to the chains.</td>\n",
       "      <td>{106771928: 1}</td>\n",
       "      <td>10</td>\n",
       "      <td>Alaska</td>\n",
       "      <td>Homer</td>\n",
       "    </tr>\n",
       "    <tr>\n",
       "      <th>1</th>\n",
       "      <td>Salty Dawg</td>\n",
       "      <td>107324612</td>\n",
       "      <td>Trad</td>\n",
       "      <td>107320915</td>\n",
       "      <td>5.10a</td>\n",
       "      <td>115</td>\n",
       "      <td>1</td>\n",
       "      <td>2.0</td>\n",
       "      <td>1</td>\n",
       "      <td>Start up the steppy corner staying in the dihedral as much as possible.  6 bolts, bring cams for longer run out sections.  Crux about midway at an overhanging slab.  Work left at the top of climb.</td>\n",
       "      <td>{106771928: 2}</td>\n",
       "      <td>18</td>\n",
       "      <td>Alaska</td>\n",
       "      <td>Homer</td>\n",
       "    </tr>\n",
       "    <tr>\n",
       "      <th>2</th>\n",
       "      <td>Nameless for now....</td>\n",
       "      <td>116613597</td>\n",
       "      <td>Boulder</td>\n",
       "      <td>116613587</td>\n",
       "      <td>V2-3</td>\n",
       "      <td>13</td>\n",
       "      <td>1</td>\n",
       "      <td>3.0</td>\n",
       "      <td>1</td>\n",
       "      <td>Looking at the crack, start with one hand in the triangle hold in the crack, and the other on a jug about three feet from the ground. Work your way up the arete with holds on both sides. The top is still mossy, so it can’t be topped. There is potential to top it, it just needs to be cleaned.</td>\n",
       "      <td>{200331485: 3}</td>\n",
       "      <td>12</td>\n",
       "      <td>Alaska</td>\n",
       "      <td>Barbara Falls</td>\n",
       "    </tr>\n",
       "    <tr>\n",
       "      <th>3</th>\n",
       "      <td>Fluffy Muff</td>\n",
       "      <td>110446548</td>\n",
       "      <td>Boulder</td>\n",
       "      <td>106906353</td>\n",
       "      <td>V10</td>\n",
       "      <td>15</td>\n",
       "      <td>1</td>\n",
       "      <td>2.0</td>\n",
       "      <td>1</td>\n",
       "      <td>Line up the middle of the main face, very shoulder intensive.    Stand start with right hand on a small sharp incut crimp just above head height and left hand on one of several holds to the left at head height.  Move left hand up to a gaston, and reach right to the big hold in the middle of the face, match finish straight over the bulge on the same finish as Powder Puff.    The sit start is V11 and starts with left hand on a good pinch, right hand on a crappy side-pull.</td>\n",
       "      <td>{107322604: 2}</td>\n",
       "      <td>42</td>\n",
       "      <td>Alaska</td>\n",
       "      <td>The House of Bouldering</td>\n",
       "    </tr>\n",
       "    <tr>\n",
       "      <th>4</th>\n",
       "      <td>Groovy Movie</td>\n",
       "      <td>106906373</td>\n",
       "      <td>Boulder</td>\n",
       "      <td>106906353</td>\n",
       "      <td>V9-10</td>\n",
       "      <td>11</td>\n",
       "      <td>1</td>\n",
       "      <td>2.0</td>\n",
       "      <td>2</td>\n",
       "      <td>Start low on small crimps either making a large move left to the top, or using small intermediate to hit the same ending point. Short and Tall beta is possible.</td>\n",
       "      <td>{106325793: 2, 107322604: 2}</td>\n",
       "      <td>40</td>\n",
       "      <td>Alaska</td>\n",
       "      <td>The House of Bouldering</td>\n",
       "    </tr>\n",
       "  </tbody>\n",
       "</table>\n",
       "</div>"
      ],
      "text/plain": [
       "             route_name   route_id     type    area_id  grade height  pitches  \\\n",
       "0        Kachemak Crack  107324402     Trad  107320915    5.7     70        1   \n",
       "1            Salty Dawg  107324612     Trad  107320915  5.10a    115        1   \n",
       "2  Nameless for now....  116613597  Boulder  116613587   V2-3     13        1   \n",
       "3           Fluffy Muff  110446548  Boulder  106906353    V10     15        1   \n",
       "4          Groovy Movie  106906373  Boulder  106906353  V9-10     11        1   \n",
       "\n",
       "   score  votes  \\\n",
       "0    1.0      1   \n",
       "1    2.0      1   \n",
       "2    3.0      1   \n",
       "3    2.0      1   \n",
       "4    2.0      2   \n",
       "\n",
       "                                                                                                                                                                                                                                                                                                                                                                                                                                                                                  description  \\\n",
       "0                                                                                                                                                                                                                                                                                                                    Cruxy start with poor placement for the first 10-15 feet coupled with a nasty area to land if you do happen to peel off.  Then cruise up the veiny cracks to the chains.   \n",
       "1                                                                                                                                                                                                                                                                                        Start up the steppy corner staying in the dihedral as much as possible.  6 bolts, bring cams for longer run out sections.  Crux about midway at an overhanging slab.  Work left at the top of climb.   \n",
       "2                                                                                                                                                                                        Looking at the crack, start with one hand in the triangle hold in the crack, and the other on a jug about three feet from the ground. Work your way up the arete with holds on both sides. The top is still mossy, so it can’t be topped. There is potential to top it, it just needs to be cleaned.   \n",
       "3  Line up the middle of the main face, very shoulder intensive.    Stand start with right hand on a small sharp incut crimp just above head height and left hand on one of several holds to the left at head height.  Move left hand up to a gaston, and reach right to the big hold in the middle of the face, match finish straight over the bulge on the same finish as Powder Puff.    The sit start is V11 and starts with left hand on a good pinch, right hand on a crappy side-pull.   \n",
       "4                                                                                                                                                                                                                                                                                                                            Start low on small crimps either making a large move left to the top, or using small intermediate to hit the same ending point. Short and Tall beta is possible.   \n",
       "\n",
       "                   star_ratings  grade_numeric   state  \\\n",
       "0                {106771928: 1}             10  Alaska   \n",
       "1                {106771928: 2}             18  Alaska   \n",
       "2                {200331485: 3}             12  Alaska   \n",
       "3                {107322604: 2}             42  Alaska   \n",
       "4  {106325793: 2, 107322604: 2}             40  Alaska   \n",
       "\n",
       "                 area_name  \n",
       "0                    Homer  \n",
       "1                    Homer  \n",
       "2            Barbara Falls  \n",
       "3  The House of Bouldering  \n",
       "4  The House of Bouldering  "
      ]
     },
     "execution_count": 43,
     "metadata": {},
     "output_type": "execute_result"
    }
   ],
   "source": [
    "routes.head()"
   ]
  },
  {
   "cell_type": "code",
   "execution_count": 44,
   "metadata": {},
   "outputs": [
    {
     "data": {
      "text/plain": [
       "route_id         36.840803\n",
       "user_rating      36.840803\n",
       "route_name       36.840803\n",
       "type             36.840803\n",
       "area_id          36.840803\n",
       "grade            36.840803\n",
       "height           36.840803\n",
       "pitches          36.840803\n",
       "score            36.840803\n",
       "votes            36.840803\n",
       "description      36.840803\n",
       "grade_numeric    36.840803\n",
       "state            36.840803\n",
       "area_name        36.840803\n",
       "dtype: float64"
      ]
     },
     "execution_count": 44,
     "metadata": {},
     "output_type": "execute_result"
    }
   ],
   "source": [
    "ratings.groupby('user_id').count().mean()"
   ]
  },
  {
   "cell_type": "code",
   "execution_count": 45,
   "metadata": {},
   "outputs": [
    {
     "data": {
      "text/plain": [
       "<matplotlib.axes._subplots.AxesSubplot at 0x13647b160>"
      ]
     },
     "execution_count": 45,
     "metadata": {},
     "output_type": "execute_result"
    },
    {
     "data": {
      "image/png": "[encoded data removed]",
      "text/plain": [
       "<Figure size 432x288 with 1 Axes>"
      ]
     },
     "metadata": {
      "needs_background": "light"
     },
     "output_type": "display_data"
    }
   ],
   "source": [
    "sns.regplot(data = routes, x = 'score', y = 'votes')"
   ]
  },
  {
   "cell_type": "code",
   "execution_count": 46,
   "metadata": {},
   "outputs": [
    {
     "data": {
      "text/plain": [
       "Text(0, 0.5, 'P')"
      ]
     },
     "execution_count": 46,
     "metadata": {},
     "output_type": "execute_result"
    },
    {
     "data": {
      "image/png": "[encoded data removed]",
      "text/plain": [
       "<Figure size 432x288 with 1 Axes>"
      ]
     },
     "metadata": {
      "needs_background": "light"
     },
     "output_type": "display_data"
    }
   ],
   "source": [
    "#myarray = ratings['user_rating']\n",
    "#weights = np.ones_like(myarray)/float(len(myarray))\n",
    "#plt.hist(myarray, weights=weights, edgecolor = 'black')\n",
    "ratings['user_rating'].hist(bins = 10, grid=False,edgecolor = 'black', density = False)\n",
    "plt.xlabel('Star Rating')\n",
    "plt.ylabel('P')"
   ]
  },
  {
   "cell_type": "code",
   "execution_count": 47,
   "metadata": {},
   "outputs": [
    {
     "data": {
      "text/html": [
       "<div>\n",
       "<style scoped>\n",
       "    .dataframe tbody tr th:only-of-type {\n",
       "        vertical-align: middle;\n",
       "    }\n",
       "\n",
       "    .dataframe tbody tr th {\n",
       "        vertical-align: top;\n",
       "    }\n",
       "\n",
       "    .dataframe thead th {\n",
       "        text-align: right;\n",
       "    }\n",
       "</style>\n",
       "<table border=\"1\" class=\"dataframe\">\n",
       "  <thead>\n",
       "    <tr style=\"text-align: right;\">\n",
       "      <th></th>\n",
       "      <th>route_id</th>\n",
       "      <th>user_rating</th>\n",
       "      <th>route_name</th>\n",
       "      <th>type</th>\n",
       "      <th>area_id</th>\n",
       "      <th>grade</th>\n",
       "      <th>height</th>\n",
       "      <th>pitches</th>\n",
       "      <th>score</th>\n",
       "      <th>votes</th>\n",
       "      <th>description</th>\n",
       "      <th>grade_numeric</th>\n",
       "      <th>state</th>\n",
       "      <th>area_name</th>\n",
       "    </tr>\n",
       "    <tr>\n",
       "      <th>user_id</th>\n",
       "      <th></th>\n",
       "      <th></th>\n",
       "      <th></th>\n",
       "      <th></th>\n",
       "      <th></th>\n",
       "      <th></th>\n",
       "      <th></th>\n",
       "      <th></th>\n",
       "      <th></th>\n",
       "      <th></th>\n",
       "      <th></th>\n",
       "      <th></th>\n",
       "      <th></th>\n",
       "      <th></th>\n",
       "    </tr>\n",
       "  </thead>\n",
       "  <tbody>\n",
       "    <tr>\n",
       "      <th>10101</th>\n",
       "      <td>88</td>\n",
       "      <td>88</td>\n",
       "      <td>88</td>\n",
       "      <td>88</td>\n",
       "      <td>88</td>\n",
       "      <td>88</td>\n",
       "      <td>88</td>\n",
       "      <td>88</td>\n",
       "      <td>88</td>\n",
       "      <td>88</td>\n",
       "      <td>88</td>\n",
       "      <td>88</td>\n",
       "      <td>88</td>\n",
       "      <td>88</td>\n",
       "    </tr>\n",
       "    <tr>\n",
       "      <th>10102</th>\n",
       "      <td>176</td>\n",
       "      <td>176</td>\n",
       "      <td>176</td>\n",
       "      <td>176</td>\n",
       "      <td>176</td>\n",
       "      <td>176</td>\n",
       "      <td>176</td>\n",
       "      <td>176</td>\n",
       "      <td>176</td>\n",
       "      <td>176</td>\n",
       "      <td>176</td>\n",
       "      <td>176</td>\n",
       "      <td>176</td>\n",
       "      <td>176</td>\n",
       "    </tr>\n",
       "    <tr>\n",
       "      <th>10103</th>\n",
       "      <td>4</td>\n",
       "      <td>4</td>\n",
       "      <td>4</td>\n",
       "      <td>4</td>\n",
       "      <td>4</td>\n",
       "      <td>4</td>\n",
       "      <td>4</td>\n",
       "      <td>4</td>\n",
       "      <td>4</td>\n",
       "      <td>4</td>\n",
       "      <td>4</td>\n",
       "      <td>4</td>\n",
       "      <td>4</td>\n",
       "      <td>4</td>\n",
       "    </tr>\n",
       "    <tr>\n",
       "      <th>10104</th>\n",
       "      <td>9</td>\n",
       "      <td>9</td>\n",
       "      <td>9</td>\n",
       "      <td>9</td>\n",
       "      <td>9</td>\n",
       "      <td>9</td>\n",
       "      <td>9</td>\n",
       "      <td>9</td>\n",
       "      <td>9</td>\n",
       "      <td>9</td>\n",
       "      <td>9</td>\n",
       "      <td>9</td>\n",
       "      <td>9</td>\n",
       "      <td>9</td>\n",
       "    </tr>\n",
       "    <tr>\n",
       "      <th>10105</th>\n",
       "      <td>8</td>\n",
       "      <td>8</td>\n",
       "      <td>8</td>\n",
       "      <td>8</td>\n",
       "      <td>8</td>\n",
       "      <td>8</td>\n",
       "      <td>8</td>\n",
       "      <td>8</td>\n",
       "      <td>8</td>\n",
       "      <td>8</td>\n",
       "      <td>8</td>\n",
       "      <td>8</td>\n",
       "      <td>8</td>\n",
       "      <td>8</td>\n",
       "    </tr>\n",
       "    <tr>\n",
       "      <th>...</th>\n",
       "      <td>...</td>\n",
       "      <td>...</td>\n",
       "      <td>...</td>\n",
       "      <td>...</td>\n",
       "      <td>...</td>\n",
       "      <td>...</td>\n",
       "      <td>...</td>\n",
       "      <td>...</td>\n",
       "      <td>...</td>\n",
       "      <td>...</td>\n",
       "      <td>...</td>\n",
       "      <td>...</td>\n",
       "      <td>...</td>\n",
       "      <td>...</td>\n",
       "    </tr>\n",
       "    <tr>\n",
       "      <th>200992330</th>\n",
       "      <td>1</td>\n",
       "      <td>1</td>\n",
       "      <td>1</td>\n",
       "      <td>1</td>\n",
       "      <td>1</td>\n",
       "      <td>1</td>\n",
       "      <td>1</td>\n",
       "      <td>1</td>\n",
       "      <td>1</td>\n",
       "      <td>1</td>\n",
       "      <td>1</td>\n",
       "      <td>1</td>\n",
       "      <td>1</td>\n",
       "      <td>1</td>\n",
       "    </tr>\n",
       "    <tr>\n",
       "      <th>200992512</th>\n",
       "      <td>1</td>\n",
       "      <td>1</td>\n",
       "      <td>1</td>\n",
       "      <td>1</td>\n",
       "      <td>1</td>\n",
       "      <td>1</td>\n",
       "      <td>1</td>\n",
       "      <td>1</td>\n",
       "      <td>1</td>\n",
       "      <td>1</td>\n",
       "      <td>1</td>\n",
       "      <td>1</td>\n",
       "      <td>1</td>\n",
       "      <td>1</td>\n",
       "    </tr>\n",
       "    <tr>\n",
       "      <th>200992608</th>\n",
       "      <td>1</td>\n",
       "      <td>1</td>\n",
       "      <td>1</td>\n",
       "      <td>1</td>\n",
       "      <td>1</td>\n",
       "      <td>1</td>\n",
       "      <td>1</td>\n",
       "      <td>1</td>\n",
       "      <td>1</td>\n",
       "      <td>1</td>\n",
       "      <td>1</td>\n",
       "      <td>1</td>\n",
       "      <td>1</td>\n",
       "      <td>1</td>\n",
       "    </tr>\n",
       "    <tr>\n",
       "      <th>200993003</th>\n",
       "      <td>6</td>\n",
       "      <td>6</td>\n",
       "      <td>6</td>\n",
       "      <td>6</td>\n",
       "      <td>6</td>\n",
       "      <td>6</td>\n",
       "      <td>6</td>\n",
       "      <td>6</td>\n",
       "      <td>6</td>\n",
       "      <td>6</td>\n",
       "      <td>6</td>\n",
       "      <td>6</td>\n",
       "      <td>6</td>\n",
       "      <td>6</td>\n",
       "    </tr>\n",
       "    <tr>\n",
       "      <th>200993351</th>\n",
       "      <td>4</td>\n",
       "      <td>4</td>\n",
       "      <td>4</td>\n",
       "      <td>4</td>\n",
       "      <td>4</td>\n",
       "      <td>4</td>\n",
       "      <td>4</td>\n",
       "      <td>4</td>\n",
       "      <td>4</td>\n",
       "      <td>4</td>\n",
       "      <td>4</td>\n",
       "      <td>4</td>\n",
       "      <td>4</td>\n",
       "      <td>4</td>\n",
       "    </tr>\n",
       "  </tbody>\n",
       "</table>\n",
       "<p>60359 rows × 14 columns</p>\n",
       "</div>"
      ],
      "text/plain": [
       "           route_id  user_rating  route_name  type  area_id  grade  height  \\\n",
       "user_id                                                                      \n",
       "10101            88           88          88    88       88     88      88   \n",
       "10102           176          176         176   176      176    176     176   \n",
       "10103             4            4           4     4        4      4       4   \n",
       "10104             9            9           9     9        9      9       9   \n",
       "10105             8            8           8     8        8      8       8   \n",
       "...             ...          ...         ...   ...      ...    ...     ...   \n",
       "200992330         1            1           1     1        1      1       1   \n",
       "200992512         1            1           1     1        1      1       1   \n",
       "200992608         1            1           1     1        1      1       1   \n",
       "200993003         6            6           6     6        6      6       6   \n",
       "200993351         4            4           4     4        4      4       4   \n",
       "\n",
       "           pitches  score  votes  description  grade_numeric  state  area_name  \n",
       "user_id                                                                         \n",
       "10101           88     88     88           88             88     88         88  \n",
       "10102          176    176    176          176            176    176        176  \n",
       "10103            4      4      4            4              4      4          4  \n",
       "10104            9      9      9            9              9      9          9  \n",
       "10105            8      8      8            8              8      8          8  \n",
       "...            ...    ...    ...          ...            ...    ...        ...  \n",
       "200992330        1      1      1            1              1      1          1  \n",
       "200992512        1      1      1            1              1      1          1  \n",
       "200992608        1      1      1            1              1      1          1  \n",
       "200993003        6      6      6            6              6      6          6  \n",
       "200993351        4      4      4            4              4      4          4  \n",
       "\n",
       "[60359 rows x 14 columns]"
      ]
     },
     "execution_count": 47,
     "metadata": {},
     "output_type": "execute_result"
    }
   ],
   "source": [
    "ratings.groupby('user_id').count()"
   ]
  },
  {
   "cell_type": "code",
   "execution_count": 48,
   "metadata": {},
   "outputs": [
    {
     "data": {
      "text/plain": [
       "<matplotlib.collections.PathCollection at 0x134fe4240>"
      ]
     },
     "execution_count": 48,
     "metadata": {},
     "output_type": "execute_result"
    },
    {
     "data": {
      "image/png": "[encoded data removed]",
      "text/plain": [
       "<Figure size 432x288 with 1 Axes>"
      ]
     },
     "metadata": {
      "needs_background": "light"
     },
     "output_type": "display_data"
    }
   ],
   "source": [
    "plt.scatter( x = ratings.groupby('user_id').count()['user_rating'], y = ratings.groupby('user_id')['user_rating'].mean())"
   ]
  },
  {
   "cell_type": "code",
   "execution_count": null,
   "metadata": {},
   "outputs": [],
   "source": []
  },
  {
   "cell_type": "code",
   "execution_count": null,
   "metadata": {},
   "outputs": [],
   "source": []
  },
  {
   "cell_type": "code",
   "execution_count": 49,
   "metadata": {},
   "outputs": [
    {
     "data": {
      "text/plain": [
       "3    0.387398\n",
       "2    0.307793\n",
       "4    0.215014\n",
       "1    0.083423\n",
       "0    0.006371\n",
       "Name: user_rating, dtype: float64"
      ]
     },
     "execution_count": 49,
     "metadata": {},
     "output_type": "execute_result"
    }
   ],
   "source": [
    "ratings['user_rating'].value_counts(normalize=True)"
   ]
  },
  {
   "cell_type": "code",
   "execution_count": 50,
   "metadata": {},
   "outputs": [
    {
     "data": {
      "text/plain": [
       "<matplotlib.axes._subplots.AxesSubplot at 0x13e17f748>"
      ]
     },
     "execution_count": 50,
     "metadata": {},
     "output_type": "execute_result"
    },
    {
     "data": {
      "image/png": "[encoded data removed]",
      "text/plain": [
       "<Figure size 432x288 with 1 Axes>"
      ]
     },
     "metadata": {
      "needs_background": "light"
     },
     "output_type": "display_data"
    }
   ],
   "source": [
    "routes['score'].hist(bins = 10, grid = False, density = 1)"
   ]
  },
  {
   "cell_type": "code",
   "execution_count": 51,
   "metadata": {},
   "outputs": [
    {
     "data": {
      "text/plain": [
       "<matplotlib.axes._subplots.AxesSubplot at 0x1328a44e0>"
      ]
     },
     "execution_count": 51,
     "metadata": {},
     "output_type": "execute_result"
    },
    {
     "data": {
      "image/png": "[encoded data removed]",
      "text/plain": [
       "<Figure size 432x288 with 1 Axes>"
      ]
     },
     "metadata": {
      "needs_background": "light"
     },
     "output_type": "display_data"
    }
   ],
   "source": [
    "routes['pitches'].hist(bins = 20, grid = False)"
   ]
  },
  {
   "cell_type": "code",
   "execution_count": 52,
   "metadata": {},
   "outputs": [
    {
     "data": {
      "text/plain": [
       "1     155716\n",
       "2       5398\n",
       "3       2238\n",
       "4       1116\n",
       "5        616\n",
       "6        346\n",
       "7        181\n",
       "8        133\n",
       "10        73\n",
       "9         66\n",
       "12        35\n",
       "11        24\n",
       "13        15\n",
       "14        14\n",
       "15         7\n",
       "18         7\n",
       "17         6\n",
       "19         4\n",
       "20         3\n",
       "16         2\n",
       "21         2\n",
       "23         2\n",
       "25         2\n",
       "30         2\n",
       "29         1\n",
       "44         1\n",
       "22         1\n",
       "90         1\n",
       "Name: pitches, dtype: int64"
      ]
     },
     "execution_count": 52,
     "metadata": {},
     "output_type": "execute_result"
    }
   ],
   "source": [
    "routes['pitches'].value_counts().sort_values('index', ascending = False)"
   ]
  },
  {
   "cell_type": "code",
   "execution_count": 53,
   "metadata": {},
   "outputs": [
    {
     "name": "stdout",
     "output_type": "stream",
     "text": [
      "<class 'pandas.core.frame.DataFrame'>\n",
      "RangeIndex: 166012 entries, 0 to 166011\n",
      "Data columns (total 14 columns):\n",
      " #   Column         Non-Null Count   Dtype  \n",
      "---  ------         --------------   -----  \n",
      " 0   route_name     166012 non-null  object \n",
      " 1   route_id       166012 non-null  int64  \n",
      " 2   type           166012 non-null  object \n",
      " 3   area_id        166012 non-null  int64  \n",
      " 4   grade          166012 non-null  object \n",
      " 5   height         166012 non-null  object \n",
      " 6   pitches        166012 non-null  int64  \n",
      " 7   score          166012 non-null  float64\n",
      " 8   votes          166012 non-null  int64  \n",
      " 9   description    166012 non-null  object \n",
      " 10  star_ratings   166012 non-null  object \n",
      " 11  grade_numeric  166012 non-null  int64  \n",
      " 12  state          166012 non-null  object \n",
      " 13  area_name      166012 non-null  object \n",
      "dtypes: float64(1), int64(5), object(8)\n",
      "memory usage: 17.7+ MB\n"
     ]
    }
   ],
   "source": [
    "routes.info()"
   ]
  },
  {
   "cell_type": "code",
   "execution_count": 54,
   "metadata": {},
   "outputs": [
    {
     "name": "stdout",
     "output_type": "stream",
     "text": [
      "<class 'pandas.core.frame.DataFrame'>\n",
      "RangeIndex: 43668 entries, 0 to 43667\n",
      "Data columns (total 7 columns):\n",
      " #   Column     Non-Null Count  Dtype  \n",
      "---  ------     --------------  -----  \n",
      " 0   area_name  43668 non-null  object \n",
      " 1   area_id    43668 non-null  int64  \n",
      " 2   parent_id  43668 non-null  int64  \n",
      " 3   elevation  35451 non-null  object \n",
      " 4   latitude   43668 non-null  float64\n",
      " 5   longitude  43668 non-null  float64\n",
      " 6   state      43668 non-null  object \n",
      "dtypes: float64(2), int64(2), object(3)\n",
      "memory usage: 2.3+ MB\n"
     ]
    }
   ],
   "source": [
    "areas.info()"
   ]
  },
  {
   "cell_type": "code",
   "execution_count": 55,
   "metadata": {},
   "outputs": [
    {
     "name": "stdout",
     "output_type": "stream",
     "text": [
      "<class 'pandas.core.frame.DataFrame'>\n",
      "Int64Index: 2223674 entries, 0 to 2223673\n",
      "Data columns (total 15 columns):\n",
      " #   Column         Dtype  \n",
      "---  ------         -----  \n",
      " 0   user_id        int64  \n",
      " 1   route_id       int64  \n",
      " 2   user_rating    int64  \n",
      " 3   route_name     object \n",
      " 4   type           object \n",
      " 5   area_id        int64  \n",
      " 6   grade          object \n",
      " 7   height         object \n",
      " 8   pitches        int64  \n",
      " 9   score          float64\n",
      " 10  votes          int64  \n",
      " 11  description    object \n",
      " 12  grade_numeric  int64  \n",
      " 13  state          object \n",
      " 14  area_name      object \n",
      "dtypes: float64(1), int64(7), object(7)\n",
      "memory usage: 271.4+ MB\n"
     ]
    }
   ],
   "source": [
    "ratings.info()"
   ]
  },
  {
   "cell_type": "code",
   "execution_count": 56,
   "metadata": {},
   "outputs": [
    {
     "data": {
      "text/plain": [
       "106132929    2\n",
       "112213115    2\n",
       "110684319    2\n",
       "106060983    2\n",
       "111726081    2\n",
       "            ..\n",
       "119134702    1\n",
       "105759213    1\n",
       "107071980    1\n",
       "106820075    1\n",
       "108003328    1\n",
       "Name: route_id, Length: 164799, dtype: int64"
      ]
     },
     "execution_count": 56,
     "metadata": {},
     "output_type": "execute_result"
    }
   ],
   "source": [
    "routes['route_id'].value_counts()"
   ]
  },
  {
   "cell_type": "code",
   "execution_count": 57,
   "metadata": {},
   "outputs": [
    {
     "data": {
      "text/html": [
       "<div>\n",
       "<style scoped>\n",
       "    .dataframe tbody tr th:only-of-type {\n",
       "        vertical-align: middle;\n",
       "    }\n",
       "\n",
       "    .dataframe tbody tr th {\n",
       "        vertical-align: top;\n",
       "    }\n",
       "\n",
       "    .dataframe thead th {\n",
       "        text-align: right;\n",
       "    }\n",
       "</style>\n",
       "<table border=\"1\" class=\"dataframe\">\n",
       "  <thead>\n",
       "    <tr style=\"text-align: right;\">\n",
       "      <th></th>\n",
       "      <th>user_id</th>\n",
       "      <th>route_id</th>\n",
       "      <th>user_rating</th>\n",
       "      <th>route_name</th>\n",
       "      <th>type</th>\n",
       "      <th>area_id</th>\n",
       "      <th>grade</th>\n",
       "      <th>height</th>\n",
       "      <th>pitches</th>\n",
       "      <th>score</th>\n",
       "      <th>votes</th>\n",
       "      <th>description</th>\n",
       "      <th>grade_numeric</th>\n",
       "      <th>state</th>\n",
       "      <th>area_name</th>\n",
       "    </tr>\n",
       "  </thead>\n",
       "  <tbody>\n",
       "    <tr>\n",
       "      <th>0</th>\n",
       "      <td>106771928</td>\n",
       "      <td>107324402</td>\n",
       "      <td>1</td>\n",
       "      <td>Kachemak Crack</td>\n",
       "      <td>Trad</td>\n",
       "      <td>107320915</td>\n",
       "      <td>5.7</td>\n",
       "      <td>70</td>\n",
       "      <td>1</td>\n",
       "      <td>1.0</td>\n",
       "      <td>1</td>\n",
       "      <td>Cruxy start with poor placement for the first 10-15 feet coupled with a nasty area to land if you do happen to peel off.  Then cruise up the veiny cracks to the chains.</td>\n",
       "      <td>10</td>\n",
       "      <td>Alaska</td>\n",
       "      <td>Homer</td>\n",
       "    </tr>\n",
       "    <tr>\n",
       "      <th>1</th>\n",
       "      <td>106771928</td>\n",
       "      <td>107324612</td>\n",
       "      <td>2</td>\n",
       "      <td>Salty Dawg</td>\n",
       "      <td>Trad</td>\n",
       "      <td>107320915</td>\n",
       "      <td>5.10a</td>\n",
       "      <td>115</td>\n",
       "      <td>1</td>\n",
       "      <td>2.0</td>\n",
       "      <td>1</td>\n",
       "      <td>Start up the steppy corner staying in the dihedral as much as possible.  6 bolts, bring cams for longer run out sections.  Crux about midway at an overhanging slab.  Work left at the top of climb.</td>\n",
       "      <td>18</td>\n",
       "      <td>Alaska</td>\n",
       "      <td>Homer</td>\n",
       "    </tr>\n",
       "    <tr>\n",
       "      <th>2</th>\n",
       "      <td>200331485</td>\n",
       "      <td>116613597</td>\n",
       "      <td>3</td>\n",
       "      <td>Nameless for now....</td>\n",
       "      <td>Boulder</td>\n",
       "      <td>116613587</td>\n",
       "      <td>V2-3</td>\n",
       "      <td>13</td>\n",
       "      <td>1</td>\n",
       "      <td>3.0</td>\n",
       "      <td>1</td>\n",
       "      <td>Looking at the crack, start with one hand in the triangle hold in the crack, and the other on a jug about three feet from the ground. Work your way up the arete with holds on both sides. The top is still mossy, so it can’t be topped. There is potential to top it, it just needs to be cleaned.</td>\n",
       "      <td>12</td>\n",
       "      <td>Alaska</td>\n",
       "      <td>Barbara Falls</td>\n",
       "    </tr>\n",
       "    <tr>\n",
       "      <th>3</th>\n",
       "      <td>107322604</td>\n",
       "      <td>110446548</td>\n",
       "      <td>2</td>\n",
       "      <td>Fluffy Muff</td>\n",
       "      <td>Boulder</td>\n",
       "      <td>106906353</td>\n",
       "      <td>V10</td>\n",
       "      <td>15</td>\n",
       "      <td>1</td>\n",
       "      <td>2.0</td>\n",
       "      <td>1</td>\n",
       "      <td>Line up the middle of the main face, very shoulder intensive.    Stand start with right hand on a small sharp incut crimp just above head height and left hand on one of several holds to the left at head height.  Move left hand up to a gaston, and reach right to the big hold in the middle of the face, match finish straight over the bulge on the same finish as Powder Puff.    The sit start is V11 and starts with left hand on a good pinch, right hand on a crappy side-pull.</td>\n",
       "      <td>42</td>\n",
       "      <td>Alaska</td>\n",
       "      <td>The House of Bouldering</td>\n",
       "    </tr>\n",
       "    <tr>\n",
       "      <th>4</th>\n",
       "      <td>106325793</td>\n",
       "      <td>106906373</td>\n",
       "      <td>2</td>\n",
       "      <td>Groovy Movie</td>\n",
       "      <td>Boulder</td>\n",
       "      <td>106906353</td>\n",
       "      <td>V9-10</td>\n",
       "      <td>11</td>\n",
       "      <td>1</td>\n",
       "      <td>2.0</td>\n",
       "      <td>2</td>\n",
       "      <td>Start low on small crimps either making a large move left to the top, or using small intermediate to hit the same ending point. Short and Tall beta is possible.</td>\n",
       "      <td>40</td>\n",
       "      <td>Alaska</td>\n",
       "      <td>The House of Bouldering</td>\n",
       "    </tr>\n",
       "  </tbody>\n",
       "</table>\n",
       "</div>"
      ],
      "text/plain": [
       "     user_id   route_id  user_rating            route_name     type  \\\n",
       "0  106771928  107324402            1        Kachemak Crack     Trad   \n",
       "1  106771928  107324612            2            Salty Dawg     Trad   \n",
       "2  200331485  116613597            3  Nameless for now....  Boulder   \n",
       "3  107322604  110446548            2           Fluffy Muff  Boulder   \n",
       "4  106325793  106906373            2          Groovy Movie  Boulder   \n",
       "\n",
       "     area_id  grade height  pitches  score  votes  \\\n",
       "0  107320915    5.7     70        1    1.0      1   \n",
       "1  107320915  5.10a    115        1    2.0      1   \n",
       "2  116613587   V2-3     13        1    3.0      1   \n",
       "3  106906353    V10     15        1    2.0      1   \n",
       "4  106906353  V9-10     11        1    2.0      2   \n",
       "\n",
       "                                                                                                                                                                                                                                                                                                                                                                                                                                                                                  description  \\\n",
       "0                                                                                                                                                                                                                                                                                                                    Cruxy start with poor placement for the first 10-15 feet coupled with a nasty area to land if you do happen to peel off.  Then cruise up the veiny cracks to the chains.   \n",
       "1                                                                                                                                                                                                                                                                                        Start up the steppy corner staying in the dihedral as much as possible.  6 bolts, bring cams for longer run out sections.  Crux about midway at an overhanging slab.  Work left at the top of climb.   \n",
       "2                                                                                                                                                                                        Looking at the crack, start with one hand in the triangle hold in the crack, and the other on a jug about three feet from the ground. Work your way up the arete with holds on both sides. The top is still mossy, so it can’t be topped. There is potential to top it, it just needs to be cleaned.   \n",
       "3  Line up the middle of the main face, very shoulder intensive.    Stand start with right hand on a small sharp incut crimp just above head height and left hand on one of several holds to the left at head height.  Move left hand up to a gaston, and reach right to the big hold in the middle of the face, match finish straight over the bulge on the same finish as Powder Puff.    The sit start is V11 and starts with left hand on a good pinch, right hand on a crappy side-pull.   \n",
       "4                                                                                                                                                                                                                                                                                                                            Start low on small crimps either making a large move left to the top, or using small intermediate to hit the same ending point. Short and Tall beta is possible.   \n",
       "\n",
       "   grade_numeric   state                area_name  \n",
       "0             10  Alaska                    Homer  \n",
       "1             18  Alaska                    Homer  \n",
       "2             12  Alaska            Barbara Falls  \n",
       "3             42  Alaska  The House of Bouldering  \n",
       "4             40  Alaska  The House of Bouldering  "
      ]
     },
     "execution_count": 57,
     "metadata": {},
     "output_type": "execute_result"
    }
   ],
   "source": [
    "ratings.head()"
   ]
  },
  {
   "cell_type": "code",
   "execution_count": 58,
   "metadata": {},
   "outputs": [
    {
     "data": {
      "text/plain": [
       "164799"
      ]
     },
     "execution_count": 58,
     "metadata": {},
     "output_type": "execute_result"
    }
   ],
   "source": [
    "len(routes['route_id'].unique()) "
   ]
  },
  {
   "cell_type": "code",
   "execution_count": null,
   "metadata": {},
   "outputs": [],
   "source": [
    "ratings.groupby('route_id')['user_rating'].mean().sort_values(ascending = False)"
   ]
  },
  {
   "cell_type": "code",
   "execution_count": null,
   "metadata": {},
   "outputs": [],
   "source": [
    "ratings[ratings['user_id'] == 10232]"
   ]
  },
  {
   "cell_type": "code",
   "execution_count": null,
   "metadata": {},
   "outputs": [],
   "source": [
    "ratings.groupby('user_id')['user_id'].count().sort_values()"
   ]
  },
  {
   "cell_type": "code",
   "execution_count": null,
   "metadata": {},
   "outputs": [],
   "source": [
    "from surprise import Reader, Dataset"
   ]
  },
  {
   "cell_type": "code",
   "execution_count": null,
   "metadata": {},
   "outputs": [],
   "source": [
    "ratings_10 = ratings[ratings.groupby('user_id')['user_id'].transform('size') >= 50]"
   ]
  },
  {
   "cell_type": "code",
   "execution_count": null,
   "metadata": {},
   "outputs": [],
   "source": [
    "(ratings_10['user_id'].value_counts() > 10)"
   ]
  },
  {
   "cell_type": "code",
   "execution_count": null,
   "metadata": {},
   "outputs": [],
   "source": [
    "ratings_10['user_id'].value_counts()"
   ]
  },
  {
   "cell_type": "code",
   "execution_count": null,
   "metadata": {},
   "outputs": [],
   "source": []
  },
  {
   "cell_type": "markdown",
   "metadata": {},
   "source": [
    "# Modeling"
   ]
  },
  {
   "cell_type": "code",
   "execution_count": 16,
   "metadata": {},
   "outputs": [],
   "source": []
  },
  {
   "cell_type": "code",
   "execution_count": null,
   "metadata": {},
   "outputs": [],
   "source": []
  },
  {
   "cell_type": "markdown",
   "metadata": {},
   "source": [
    "Gridsearching"
   ]
  },
  {
   "cell_type": "code",
   "execution_count": 17,
   "metadata": {},
   "outputs": [],
   "source": []
  },
  {
   "cell_type": "code",
   "execution_count": 19,
   "metadata": {},
   "outputs": [
    {
     "name": "stdout",
     "output_type": "stream",
     "text": [
      "RMSE: 0.6618\n"
     ]
    },
    {
     "data": {
      "text/plain": [
       "0.661771521533543"
      ]
     },
     "execution_count": 19,
     "metadata": {},
     "output_type": "execute_result"
    }
   ],
   "source": [
    "algo = SVD()\n",
    "algo.fit(trainset)\n",
    "predictions = algo.test(testset)\n",
    "accuracy.rmse(predictions)"
   ]
  },
  {
   "cell_type": "code",
   "execution_count": 20,
   "metadata": {},
   "outputs": [
    {
     "name": "stdout",
     "output_type": "stream",
     "text": [
      "RMSE: 0.6534\n"
     ]
    },
    {
     "data": {
      "text/plain": [
       "0.6533688514829742"
      ]
     },
     "execution_count": 20,
     "metadata": {},
     "output_type": "execute_result"
    }
   ],
   "source": [
    "algo = SVD(n_factors = 5)\n",
    "algo.fit(trainset)\n",
    "predictions = algo.test(testset)\n",
    "accuracy.rmse(predictions)"
   ]
  },
  {
   "cell_type": "code",
   "execution_count": null,
   "metadata": {},
   "outputs": [],
   "source": []
  },
  {
   "cell_type": "code",
   "execution_count": 21,
   "metadata": {},
   "outputs": [
    {
     "name": "stdout",
     "output_type": "stream",
     "text": [
      "RMSE: 0.6538\n"
     ]
    },
    {
     "data": {
      "text/plain": [
       "0.6537837565807548"
      ]
     },
     "execution_count": 21,
     "metadata": {},
     "output_type": "execute_result"
    }
   ],
   "source": [
    "algo = SVD(n_factors = 10)\n",
    "algo.fit(trainset)\n",
    "predictions = algo.test(testset)\n",
    "accuracy.rmse(predictions)"
   ]
  },
  {
   "cell_type": "code",
   "execution_count": null,
   "metadata": {},
   "outputs": [],
   "source": []
  },
  {
   "cell_type": "code",
   "execution_count": 22,
   "metadata": {},
   "outputs": [
    {
     "name": "stdout",
     "output_type": "stream",
     "text": [
      "RMSE: 0.6548\n"
     ]
    },
    {
     "data": {
      "text/plain": [
       "0.6547928753906894"
      ]
     },
     "execution_count": 22,
     "metadata": {},
     "output_type": "execute_result"
    }
   ],
   "source": [
    "algo = SVD(n_factors = 20)\n",
    "algo.fit(trainset)\n",
    "predictions = algo.test(testset)\n",
    "accuracy.rmse(predictions)"
   ]
  },
  {
   "cell_type": "code",
   "execution_count": 23,
   "metadata": {},
   "outputs": [
    {
     "name": "stdout",
     "output_type": "stream",
     "text": [
      "RMSE: 0.6532\n"
     ]
    },
    {
     "data": {
      "text/plain": [
       "0.6531728870779083"
      ]
     },
     "execution_count": 23,
     "metadata": {},
     "output_type": "execute_result"
    }
   ],
   "source": [
    "algo = SVD(n_factors = 5, reg_all=0.01)\n",
    "algo.fit(trainset)\n",
    "predictions = algo.test(testset)\n",
    "accuracy.rmse(predictions)"
   ]
  },
  {
   "cell_type": "code",
   "execution_count": 24,
   "metadata": {},
   "outputs": [
    {
     "name": "stdout",
     "output_type": "stream",
     "text": [
      "RMSE: 0.6536\n"
     ]
    },
    {
     "data": {
      "text/plain": [
       "0.6536330929683618"
      ]
     },
     "execution_count": 24,
     "metadata": {},
     "output_type": "execute_result"
    }
   ],
   "source": [
    "algo = SVD(n_factors = 5, reg_all=0.03)\n",
    "algo.fit(trainset)\n",
    "predictions = algo.test(testset)\n",
    "accuracy.rmse(predictions)"
   ]
  },
  {
   "cell_type": "code",
   "execution_count": null,
   "metadata": {},
   "outputs": [],
   "source": []
  },
  {
   "cell_type": "code",
   "execution_count": 25,
   "metadata": {},
   "outputs": [
    {
     "name": "stdout",
     "output_type": "stream",
     "text": [
      "RMSE: 0.6528\n"
     ]
    },
    {
     "data": {
      "text/plain": [
       "0.6528282085791746"
      ]
     },
     "execution_count": 25,
     "metadata": {},
     "output_type": "execute_result"
    }
   ],
   "source": [
    "algo = SVD(n_factors = 5, n_epochs = 50, reg_all=0.001)\n",
    "algo.fit(trainset)\n",
    "predictions = algo.test(testset)\n",
    "accuracy.rmse(predictions)"
   ]
  },
  {
   "cell_type": "code",
   "execution_count": null,
   "metadata": {},
   "outputs": [],
   "source": []
  },
  {
   "cell_type": "code",
   "execution_count": null,
   "metadata": {},
   "outputs": [],
   "source": []
  },
  {
   "cell_type": "code",
   "execution_count": null,
   "metadata": {},
   "outputs": [],
   "source": []
  },
  {
   "cell_type": "code",
   "execution_count": 26,
   "metadata": {},
   "outputs": [
    {
     "name": "stdout",
     "output_type": "stream",
     "text": [
      "RMSE: 0.6801\n"
     ]
    },
    {
     "data": {
      "text/plain": [
       "0.680139548882692"
      ]
     },
     "execution_count": 26,
     "metadata": {},
     "output_type": "execute_result"
    }
   ],
   "source": [
    "#{'n_epochs': 20, 'lr_all': 0.009, 'reg_all': 0.4}\n",
    "algo = SVD(n_factors = 100, n_epochs = 20,lr_all = 0.009, reg_all=0.5)\n",
    "algo.fit(trainset)\n",
    "predictions = algo.test(testset)\n",
    "accuracy.rmse(predictions)"
   ]
  },
  {
   "cell_type": "code",
   "execution_count": null,
   "metadata": {},
   "outputs": [],
   "source": []
  },
  {
   "cell_type": "code",
   "execution_count": 27,
   "metadata": {},
   "outputs": [
    {
     "ename": "KeyboardInterrupt",
     "evalue": "",
     "output_type": "error",
     "traceback": [
      "\u001b[0;31m---------------------------------------------------------------------------\u001b[0m",
      "\u001b[0;31mKeyboardInterrupt\u001b[0m                         Traceback (most recent call last)",
      "\u001b[0;32m<ipython-input-27-f68a49f39923>\u001b[0m in \u001b[0;36m<module>\u001b[0;34m\u001b[0m\n\u001b[1;32m      1\u001b[0m \u001b[0;31m#{'n_epochs': 20, 'lr_all': 0.009, 'reg_all': 0.4}\u001b[0m\u001b[0;34m\u001b[0m\u001b[0;34m\u001b[0m\u001b[0;34m\u001b[0m\u001b[0m\n\u001b[1;32m      2\u001b[0m \u001b[0malgo\u001b[0m \u001b[0;34m=\u001b[0m \u001b[0mSVD\u001b[0m\u001b[0;34m(\u001b[0m\u001b[0mn_factors\u001b[0m \u001b[0;34m=\u001b[0m \u001b[0;36m130\u001b[0m\u001b[0;34m,\u001b[0m \u001b[0mn_epochs\u001b[0m \u001b[0;34m=\u001b[0m \u001b[0;36m100\u001b[0m\u001b[0;34m,\u001b[0m \u001b[0mreg_all\u001b[0m\u001b[0;34m=\u001b[0m\u001b[0;36m0.1\u001b[0m\u001b[0;34m)\u001b[0m\u001b[0;34m\u001b[0m\u001b[0;34m\u001b[0m\u001b[0m\n\u001b[0;32m----> 3\u001b[0;31m \u001b[0malgo\u001b[0m\u001b[0;34m.\u001b[0m\u001b[0mfit\u001b[0m\u001b[0;34m(\u001b[0m\u001b[0mtrainset\u001b[0m\u001b[0;34m)\u001b[0m\u001b[0;34m\u001b[0m\u001b[0;34m\u001b[0m\u001b[0m\n\u001b[0m\u001b[1;32m      4\u001b[0m \u001b[0mpredictions\u001b[0m \u001b[0;34m=\u001b[0m \u001b[0malgo\u001b[0m\u001b[0;34m.\u001b[0m\u001b[0mtest\u001b[0m\u001b[0;34m(\u001b[0m\u001b[0mtestset\u001b[0m\u001b[0;34m)\u001b[0m\u001b[0;34m\u001b[0m\u001b[0;34m\u001b[0m\u001b[0m\n\u001b[1;32m      5\u001b[0m \u001b[0maccuracy\u001b[0m\u001b[0;34m.\u001b[0m\u001b[0mrmse\u001b[0m\u001b[0;34m(\u001b[0m\u001b[0mpredictions\u001b[0m\u001b[0;34m)\u001b[0m\u001b[0;34m\u001b[0m\u001b[0;34m\u001b[0m\u001b[0m\n",
      "\u001b[0;32m/Library/Frameworks/Python.framework/Versions/3.7/lib/python3.7/site-packages/surprise/prediction_algorithms/matrix_factorization.pyx\u001b[0m in \u001b[0;36msurprise.prediction_algorithms.matrix_factorization.SVD.fit\u001b[0;34m()\u001b[0m\n",
      "\u001b[0;32m/Library/Frameworks/Python.framework/Versions/3.7/lib/python3.7/site-packages/surprise/prediction_algorithms/matrix_factorization.pyx\u001b[0m in \u001b[0;36msurprise.prediction_algorithms.matrix_factorization.SVD.sgd\u001b[0;34m()\u001b[0m\n",
      "\u001b[0;32m/Library/Frameworks/Python.framework/Versions/3.7/lib/python3.7/site-packages/surprise/trainset.py\u001b[0m in \u001b[0;36mall_ratings\u001b[0;34m(self)\u001b[0m\n\u001b[1;32m    187\u001b[0m         \u001b[0;32mfor\u001b[0m \u001b[0mu\u001b[0m\u001b[0;34m,\u001b[0m \u001b[0mu_ratings\u001b[0m \u001b[0;32min\u001b[0m \u001b[0miteritems\u001b[0m\u001b[0;34m(\u001b[0m\u001b[0mself\u001b[0m\u001b[0;34m.\u001b[0m\u001b[0mur\u001b[0m\u001b[0;34m)\u001b[0m\u001b[0;34m:\u001b[0m\u001b[0;34m\u001b[0m\u001b[0;34m\u001b[0m\u001b[0m\n\u001b[1;32m    188\u001b[0m             \u001b[0;32mfor\u001b[0m \u001b[0mi\u001b[0m\u001b[0;34m,\u001b[0m \u001b[0mr\u001b[0m \u001b[0;32min\u001b[0m \u001b[0mu_ratings\u001b[0m\u001b[0;34m:\u001b[0m\u001b[0;34m\u001b[0m\u001b[0;34m\u001b[0m\u001b[0m\n\u001b[0;32m--> 189\u001b[0;31m                 \u001b[0;32myield\u001b[0m \u001b[0mu\u001b[0m\u001b[0;34m,\u001b[0m \u001b[0mi\u001b[0m\u001b[0;34m,\u001b[0m \u001b[0mr\u001b[0m\u001b[0;34m\u001b[0m\u001b[0;34m\u001b[0m\u001b[0m\n\u001b[0m\u001b[1;32m    190\u001b[0m \u001b[0;34m\u001b[0m\u001b[0m\n\u001b[1;32m    191\u001b[0m     \u001b[0;32mdef\u001b[0m \u001b[0mbuild_testset\u001b[0m\u001b[0;34m(\u001b[0m\u001b[0mself\u001b[0m\u001b[0;34m)\u001b[0m\u001b[0;34m:\u001b[0m\u001b[0;34m\u001b[0m\u001b[0;34m\u001b[0m\u001b[0m\n",
      "\u001b[0;31mKeyboardInterrupt\u001b[0m: "
     ]
    }
   ],
   "source": [
    "#{'n_epochs': 20, 'lr_all': 0.009, 'reg_all': 0.4}\n",
    "algo = SVD(n_factors = 130, n_epochs = 100, reg_all=0.1, job)\n",
    "algo.fit(trainset)\n",
    "predictions = algo.test(testset)\n",
    "accuracy.rmse(predictions)"
   ]
  },
  {
   "cell_type": "code",
   "execution_count": 28,
   "metadata": {},
   "outputs": [
    {
     "name": "stderr",
     "output_type": "stream",
     "text": [
      "[Parallel(n_jobs=2)]: Using backend LokyBackend with 2 concurrent workers.\n",
      "[Parallel(n_jobs=2)]: Done   1 tasks      | elapsed:  1.2min\n",
      "[Parallel(n_jobs=2)]: Done   4 tasks      | elapsed:  3.0min\n",
      "[Parallel(n_jobs=2)]: Done   9 tasks      | elapsed:  5.7min\n",
      "[Parallel(n_jobs=2)]: Done  14 tasks      | elapsed:  8.8min\n",
      "[Parallel(n_jobs=2)]: Done  21 tasks      | elapsed: 14.7min\n"
     ]
    },
    {
     "ename": "KeyboardInterrupt",
     "evalue": "",
     "output_type": "error",
     "traceback": [
      "\u001b[0;31m---------------------------------------------------------------------------\u001b[0m",
      "\u001b[0;31mKeyboardInterrupt\u001b[0m                         Traceback (most recent call last)",
      "\u001b[0;32m<ipython-input-28-8c765cf195f3>\u001b[0m in \u001b[0;36m<module>\u001b[0;34m\u001b[0m\n\u001b[1;32m      1\u001b[0m \u001b[0mparam_grid\u001b[0m \u001b[0;34m=\u001b[0m \u001b[0;34m{\u001b[0m\u001b[0;34m'n_factors'\u001b[0m\u001b[0;34m:\u001b[0m \u001b[0;34m[\u001b[0m\u001b[0;36m2\u001b[0m\u001b[0;34m,\u001b[0m\u001b[0;36m5\u001b[0m\u001b[0;34m,\u001b[0m\u001b[0;36m30\u001b[0m\u001b[0;34m,\u001b[0m\u001b[0;36m50\u001b[0m\u001b[0;34m,\u001b[0m\u001b[0;36m70\u001b[0m\u001b[0;34m,\u001b[0m \u001b[0;36m100\u001b[0m\u001b[0;34m,\u001b[0m  \u001b[0;36m120\u001b[0m\u001b[0;34m,\u001b[0m \u001b[0;36m140\u001b[0m\u001b[0;34m,\u001b[0m  \u001b[0;36m160\u001b[0m\u001b[0;34m]\u001b[0m\u001b[0;34m,\u001b[0m \u001b[0;34m'n_epochs'\u001b[0m\u001b[0;34m:\u001b[0m \u001b[0;34m[\u001b[0m\u001b[0;36m20\u001b[0m\u001b[0;34m]\u001b[0m\u001b[0;34m,\u001b[0m \u001b[0;34m'reg_all'\u001b[0m\u001b[0;34m:\u001b[0m \u001b[0;34m[\u001b[0m\u001b[0;36m0.1\u001b[0m\u001b[0;34m]\u001b[0m\u001b[0;34m}\u001b[0m\u001b[0;34m\u001b[0m\u001b[0;34m\u001b[0m\u001b[0m\n\u001b[1;32m      2\u001b[0m \u001b[0mgs_svd\u001b[0m \u001b[0;34m=\u001b[0m \u001b[0mGridSearchCV\u001b[0m\u001b[0;34m(\u001b[0m\u001b[0mSVD\u001b[0m\u001b[0;34m,\u001b[0m \u001b[0mparam_grid\u001b[0m\u001b[0;34m,\u001b[0m \u001b[0mmeasures\u001b[0m\u001b[0;34m=\u001b[0m\u001b[0;34m[\u001b[0m\u001b[0;34m'rmse'\u001b[0m\u001b[0;34m,\u001b[0m \u001b[0;34m'mae'\u001b[0m\u001b[0;34m]\u001b[0m\u001b[0;34m,\u001b[0m \u001b[0mcv\u001b[0m\u001b[0;34m=\u001b[0m\u001b[0;36m5\u001b[0m\u001b[0;34m,\u001b[0m\u001b[0mjoblib_verbose\u001b[0m\u001b[0;34m=\u001b[0m\u001b[0;36m10\u001b[0m\u001b[0;34m,\u001b[0m \u001b[0mn_jobs\u001b[0m\u001b[0;34m=\u001b[0m\u001b[0;36m2\u001b[0m \u001b[0;34m)\u001b[0m\u001b[0;34m\u001b[0m\u001b[0;34m\u001b[0m\u001b[0m\n\u001b[0;32m----> 3\u001b[0;31m \u001b[0mgs_svd\u001b[0m\u001b[0;34m.\u001b[0m\u001b[0mfit\u001b[0m\u001b[0;34m(\u001b[0m\u001b[0mdata\u001b[0m\u001b[0;34m)\u001b[0m\u001b[0;34m\u001b[0m\u001b[0;34m\u001b[0m\u001b[0m\n\u001b[0m",
      "\u001b[0;32m/Library/Frameworks/Python.framework/Versions/3.7/lib/python3.7/site-packages/surprise/model_selection/search.py\u001b[0m in \u001b[0;36mfit\u001b[0;34m(self, data)\u001b[0m\n\u001b[1;32m     88\u001b[0m         out = Parallel(n_jobs=self.n_jobs,\n\u001b[1;32m     89\u001b[0m                        \u001b[0mpre_dispatch\u001b[0m\u001b[0;34m=\u001b[0m\u001b[0mself\u001b[0m\u001b[0;34m.\u001b[0m\u001b[0mpre_dispatch\u001b[0m\u001b[0;34m,\u001b[0m\u001b[0;34m\u001b[0m\u001b[0;34m\u001b[0m\u001b[0m\n\u001b[0;32m---> 90\u001b[0;31m                        verbose=self.joblib_verbose)(delayed_list)\n\u001b[0m\u001b[1;32m     91\u001b[0m \u001b[0;34m\u001b[0m\u001b[0m\n\u001b[1;32m     92\u001b[0m         (test_measures_dicts,\n",
      "\u001b[0;32m/Library/Frameworks/Python.framework/Versions/3.7/lib/python3.7/site-packages/joblib/parallel.py\u001b[0m in \u001b[0;36m__call__\u001b[0;34m(self, iterable)\u001b[0m\n\u001b[1;32m   1015\u001b[0m \u001b[0;34m\u001b[0m\u001b[0m\n\u001b[1;32m   1016\u001b[0m             \u001b[0;32mwith\u001b[0m \u001b[0mself\u001b[0m\u001b[0;34m.\u001b[0m\u001b[0m_backend\u001b[0m\u001b[0;34m.\u001b[0m\u001b[0mretrieval_context\u001b[0m\u001b[0;34m(\u001b[0m\u001b[0;34m)\u001b[0m\u001b[0;34m:\u001b[0m\u001b[0;34m\u001b[0m\u001b[0;34m\u001b[0m\u001b[0m\n\u001b[0;32m-> 1017\u001b[0;31m                 \u001b[0mself\u001b[0m\u001b[0;34m.\u001b[0m\u001b[0mretrieve\u001b[0m\u001b[0;34m(\u001b[0m\u001b[0;34m)\u001b[0m\u001b[0;34m\u001b[0m\u001b[0;34m\u001b[0m\u001b[0m\n\u001b[0m\u001b[1;32m   1018\u001b[0m             \u001b[0;31m# Make sure that we get a last message telling us we are done\u001b[0m\u001b[0;34m\u001b[0m\u001b[0;34m\u001b[0m\u001b[0;34m\u001b[0m\u001b[0m\n\u001b[1;32m   1019\u001b[0m             \u001b[0melapsed_time\u001b[0m \u001b[0;34m=\u001b[0m \u001b[0mtime\u001b[0m\u001b[0;34m.\u001b[0m\u001b[0mtime\u001b[0m\u001b[0;34m(\u001b[0m\u001b[0;34m)\u001b[0m \u001b[0;34m-\u001b[0m \u001b[0mself\u001b[0m\u001b[0;34m.\u001b[0m\u001b[0m_start_time\u001b[0m\u001b[0;34m\u001b[0m\u001b[0;34m\u001b[0m\u001b[0m\n",
      "\u001b[0;32m/Library/Frameworks/Python.framework/Versions/3.7/lib/python3.7/site-packages/joblib/parallel.py\u001b[0m in \u001b[0;36mretrieve\u001b[0;34m(self)\u001b[0m\n\u001b[1;32m    907\u001b[0m             \u001b[0;32mtry\u001b[0m\u001b[0;34m:\u001b[0m\u001b[0;34m\u001b[0m\u001b[0;34m\u001b[0m\u001b[0m\n\u001b[1;32m    908\u001b[0m                 \u001b[0;32mif\u001b[0m \u001b[0mgetattr\u001b[0m\u001b[0;34m(\u001b[0m\u001b[0mself\u001b[0m\u001b[0;34m.\u001b[0m\u001b[0m_backend\u001b[0m\u001b[0;34m,\u001b[0m \u001b[0;34m'supports_timeout'\u001b[0m\u001b[0;34m,\u001b[0m \u001b[0;32mFalse\u001b[0m\u001b[0;34m)\u001b[0m\u001b[0;34m:\u001b[0m\u001b[0;34m\u001b[0m\u001b[0;34m\u001b[0m\u001b[0m\n\u001b[0;32m--> 909\u001b[0;31m                     \u001b[0mself\u001b[0m\u001b[0;34m.\u001b[0m\u001b[0m_output\u001b[0m\u001b[0;34m.\u001b[0m\u001b[0mextend\u001b[0m\u001b[0;34m(\u001b[0m\u001b[0mjob\u001b[0m\u001b[0;34m.\u001b[0m\u001b[0mget\u001b[0m\u001b[0;34m(\u001b[0m\u001b[0mtimeout\u001b[0m\u001b[0;34m=\u001b[0m\u001b[0mself\u001b[0m\u001b[0;34m.\u001b[0m\u001b[0mtimeout\u001b[0m\u001b[0;34m)\u001b[0m\u001b[0;34m)\u001b[0m\u001b[0;34m\u001b[0m\u001b[0;34m\u001b[0m\u001b[0m\n\u001b[0m\u001b[1;32m    910\u001b[0m                 \u001b[0;32melse\u001b[0m\u001b[0;34m:\u001b[0m\u001b[0;34m\u001b[0m\u001b[0;34m\u001b[0m\u001b[0m\n\u001b[1;32m    911\u001b[0m                     \u001b[0mself\u001b[0m\u001b[0;34m.\u001b[0m\u001b[0m_output\u001b[0m\u001b[0;34m.\u001b[0m\u001b[0mextend\u001b[0m\u001b[0;34m(\u001b[0m\u001b[0mjob\u001b[0m\u001b[0;34m.\u001b[0m\u001b[0mget\u001b[0m\u001b[0;34m(\u001b[0m\u001b[0;34m)\u001b[0m\u001b[0;34m)\u001b[0m\u001b[0;34m\u001b[0m\u001b[0;34m\u001b[0m\u001b[0m\n",
      "\u001b[0;32m/Library/Frameworks/Python.framework/Versions/3.7/lib/python3.7/site-packages/joblib/_parallel_backends.py\u001b[0m in \u001b[0;36mwrap_future_result\u001b[0;34m(future, timeout)\u001b[0m\n\u001b[1;32m    560\u001b[0m         AsyncResults.get from multiprocessing.\"\"\"\n\u001b[1;32m    561\u001b[0m         \u001b[0;32mtry\u001b[0m\u001b[0;34m:\u001b[0m\u001b[0;34m\u001b[0m\u001b[0;34m\u001b[0m\u001b[0m\n\u001b[0;32m--> 562\u001b[0;31m             \u001b[0;32mreturn\u001b[0m \u001b[0mfuture\u001b[0m\u001b[0;34m.\u001b[0m\u001b[0mresult\u001b[0m\u001b[0;34m(\u001b[0m\u001b[0mtimeout\u001b[0m\u001b[0;34m=\u001b[0m\u001b[0mtimeout\u001b[0m\u001b[0;34m)\u001b[0m\u001b[0;34m\u001b[0m\u001b[0;34m\u001b[0m\u001b[0m\n\u001b[0m\u001b[1;32m    563\u001b[0m         \u001b[0;32mexcept\u001b[0m \u001b[0mLokyTimeoutError\u001b[0m\u001b[0;34m:\u001b[0m\u001b[0;34m\u001b[0m\u001b[0;34m\u001b[0m\u001b[0m\n\u001b[1;32m    564\u001b[0m             \u001b[0;32mraise\u001b[0m \u001b[0mTimeoutError\u001b[0m\u001b[0;34m(\u001b[0m\u001b[0;34m)\u001b[0m\u001b[0;34m\u001b[0m\u001b[0;34m\u001b[0m\u001b[0m\n",
      "\u001b[0;32m/Library/Frameworks/Python.framework/Versions/3.7/lib/python3.7/concurrent/futures/_base.py\u001b[0m in \u001b[0;36mresult\u001b[0;34m(self, timeout)\u001b[0m\n\u001b[1;32m    425\u001b[0m                 \u001b[0;32mreturn\u001b[0m \u001b[0mself\u001b[0m\u001b[0;34m.\u001b[0m\u001b[0m__get_result\u001b[0m\u001b[0;34m(\u001b[0m\u001b[0;34m)\u001b[0m\u001b[0;34m\u001b[0m\u001b[0;34m\u001b[0m\u001b[0m\n\u001b[1;32m    426\u001b[0m \u001b[0;34m\u001b[0m\u001b[0m\n\u001b[0;32m--> 427\u001b[0;31m             \u001b[0mself\u001b[0m\u001b[0;34m.\u001b[0m\u001b[0m_condition\u001b[0m\u001b[0;34m.\u001b[0m\u001b[0mwait\u001b[0m\u001b[0;34m(\u001b[0m\u001b[0mtimeout\u001b[0m\u001b[0;34m)\u001b[0m\u001b[0;34m\u001b[0m\u001b[0;34m\u001b[0m\u001b[0m\n\u001b[0m\u001b[1;32m    428\u001b[0m \u001b[0;34m\u001b[0m\u001b[0m\n\u001b[1;32m    429\u001b[0m             \u001b[0;32mif\u001b[0m \u001b[0mself\u001b[0m\u001b[0;34m.\u001b[0m\u001b[0m_state\u001b[0m \u001b[0;32min\u001b[0m \u001b[0;34m[\u001b[0m\u001b[0mCANCELLED\u001b[0m\u001b[0;34m,\u001b[0m \u001b[0mCANCELLED_AND_NOTIFIED\u001b[0m\u001b[0;34m]\u001b[0m\u001b[0;34m:\u001b[0m\u001b[0;34m\u001b[0m\u001b[0;34m\u001b[0m\u001b[0m\n",
      "\u001b[0;32m/Library/Frameworks/Python.framework/Versions/3.7/lib/python3.7/threading.py\u001b[0m in \u001b[0;36mwait\u001b[0;34m(self, timeout)\u001b[0m\n\u001b[1;32m    294\u001b[0m         \u001b[0;32mtry\u001b[0m\u001b[0;34m:\u001b[0m    \u001b[0;31m# restore state no matter what (e.g., KeyboardInterrupt)\u001b[0m\u001b[0;34m\u001b[0m\u001b[0;34m\u001b[0m\u001b[0m\n\u001b[1;32m    295\u001b[0m             \u001b[0;32mif\u001b[0m \u001b[0mtimeout\u001b[0m \u001b[0;32mis\u001b[0m \u001b[0;32mNone\u001b[0m\u001b[0;34m:\u001b[0m\u001b[0;34m\u001b[0m\u001b[0;34m\u001b[0m\u001b[0m\n\u001b[0;32m--> 296\u001b[0;31m                 \u001b[0mwaiter\u001b[0m\u001b[0;34m.\u001b[0m\u001b[0macquire\u001b[0m\u001b[0;34m(\u001b[0m\u001b[0;34m)\u001b[0m\u001b[0;34m\u001b[0m\u001b[0;34m\u001b[0m\u001b[0m\n\u001b[0m\u001b[1;32m    297\u001b[0m                 \u001b[0mgotit\u001b[0m \u001b[0;34m=\u001b[0m \u001b[0;32mTrue\u001b[0m\u001b[0;34m\u001b[0m\u001b[0;34m\u001b[0m\u001b[0m\n\u001b[1;32m    298\u001b[0m             \u001b[0;32melse\u001b[0m\u001b[0;34m:\u001b[0m\u001b[0;34m\u001b[0m\u001b[0;34m\u001b[0m\u001b[0m\n",
      "\u001b[0;31mKeyboardInterrupt\u001b[0m: "
     ]
    }
   ],
   "source": [
    "param_grid = {'n_factors': [2,5,30,50,70, 100,  120, 140,  160], 'n_epochs': [20], 'reg_all': [0.1]}\n",
    "gs_svd = GridSearchCV(SVD, param_grid, measures=['rmse', 'mae'], cv=5,joblib_verbose=10, n_jobs=2 )\n",
    "gs_svd.fit(data)"
   ]
  },
  {
   "cell_type": "code",
   "execution_count": null,
   "metadata": {},
   "outputs": [],
   "source": []
  },
  {
   "cell_type": "code",
   "execution_count": null,
   "metadata": {},
   "outputs": [],
   "source": [
    "\n",
    "svd_param_grid = { 'n_factors' : [5, 10, 25, 50, 100, 150, 200],\n",
    "                  'n_epochs': [20, 25], \n",
    "                  'lr_all': [0.007, 0.009, 0.01],\n",
    "                  'reg_all': [0.4, 0.6]}"
   ]
  },
  {
   "cell_type": "code",
   "execution_count": null,
   "metadata": {},
   "outputs": [],
   "source": [
    "svd_gs = GridSearchCV(SVD, svd_param_grid, measures=['rmse', 'mae'], cv=5, n_jobs=-1, joblib_verbose= 5)\n",
    "svd_gs.fit(data)"
   ]
  },
  {
   "cell_type": "code",
   "execution_count": null,
   "metadata": {},
   "outputs": [],
   "source": [
    "print('RMSE =', svd_gs.best_params['rmse'])\n",
    "print('MAE =', svd_gs.best_params['mae'])"
   ]
  },
  {
   "cell_type": "code",
   "execution_count": null,
   "metadata": {},
   "outputs": [],
   "source": [
    "full_trainset = data.build_full_trainset()"
   ]
  },
  {
   "cell_type": "code",
   "execution_count": null,
   "metadata": {
    "scrolled": true
   },
   "outputs": [],
   "source": [
    "svd = SVD()\n",
    "svd.fit(full_trainset)"
   ]
  },
  {
   "cell_type": "code",
   "execution_count": null,
   "metadata": {},
   "outputs": [],
   "source": [
    "pickle.dump(svd, open('./pickle/svd.pkl', 'wb'))"
   ]
  },
  {
   "cell_type": "code",
   "execution_count": null,
   "metadata": {},
   "outputs": [],
   "source": [
    "from surprise import KNNBaseline\n",
    "sim_options = {'name': 'pearson_baseline', 'user_based': False}\n",
    "knn = KNNBaseline(sim_options = sim_options)\n",
    "knn.fit(full_trainset)"
   ]
  },
  {
   "cell_type": "code",
   "execution_count": null,
   "metadata": {
    "scrolled": true
   },
   "outputs": [],
   "source": [
    "pickle.dump(knn, open('./pickle/knn.pkl', 'wb'), protocol=4)"
   ]
  },
  {
   "cell_type": "code",
   "execution_count": null,
   "metadata": {},
   "outputs": [],
   "source": [
    "pd.DataFrame([[1, 3, 0, 4, 2], [1, '?', 1, 4, 2], [4, 2, 0, 4, 1], ['?', '?', 2, '?', '?'], [0,0,1,'?',4]], columns = [f'Route {i}' for i in range(1,6)], \n",
    "            index = [f'User {i}' for i in range(1,6)])"
   ]
  },
  {
   "cell_type": "code",
   "execution_count": null,
   "metadata": {},
   "outputs": [],
   "source": [
    "if False:\n",
    "    predictions = svd.test(full_trainset.build_testset())\n",
    "    test = pd.DataFrame(predictions)\n",
    "    test = test.rename(columns={'uid':'user_id', 'iid': 'route_id', \n",
    "                                'r_ui':'actual', 'est':'prediction'})\n",
    "\n",
    "    cf_model = test.pivot_table(index='user_id', \n",
    "                                columns='route_id', values='prediction').fillna(0)\n",
    "\n",
    "    def get_users_predictions(user_id, n,model):\n",
    "        recommended_items = pd.DataFrame(model.loc[user_id])\n",
    "        recommended_items.columns = [\"predicted_rating\"]\n",
    "        recommended_items = recommended_items.sort_values('predicted_rating', ascending=False)    \n",
    "        #recommended_items = recommended_items\n",
    "        return recommended_items.index.tolist(),recommended_items['predicted_rating'].tolist()\n",
    "\n",
    "    def get_recs(model, k):\n",
    "        recs = []\n",
    "        rats = []\n",
    "        for user in model.index:\n",
    "            cf_predictions, cf_ratings = get_users_predictions(user, k, model)\n",
    "            recs.append(cf_predictions)\n",
    "            rats.append(cf_ratings)\n",
    "        return recs, rats    \n",
    "\n",
    "    # Top-10 recommendations for each user\n",
    "    k = 10\n",
    "    recs,rats  = get_recs(cf_model, k)\n",
    "    preds = pd.DataFrame(index=cf_model.index)\n"
   ]
  },
  {
   "cell_type": "code",
   "execution_count": null,
   "metadata": {},
   "outputs": [],
   "source": []
  },
  {
   "cell_type": "code",
   "execution_count": null,
   "metadata": {},
   "outputs": [],
   "source": [
    "def get_predictions(user_id):\n",
    "    preds = []\n",
    "    for route in routes['route_id'].unique():\n",
    "        preds.append((route,svd.predict(user_id, route).est))\n",
    "    return  zip(*sorted(preds,key = lambda x: x[1],reverse = True))\n",
    "\n",
    "\n",
    "def get_top_n(user_id, n= 10, area_ids = [], climb_types = [], min_climb_grade = 0, max_climb_grade = 71, min_boulder_grade = 0, max_boulder_grade = 71, pitches = 1, ignore_completed = True):\n",
    "    preds = pd.DataFrame(list(zip(*get_predictions(user_id))), columns = ['route_id', 'prediction'])\n",
    "\n",
    "    \n",
    "    user_preds = routes.merge(preds, on = 'route_id')\n",
    "    \n",
    "    if ignore_completed:\n",
    "        already_rated = ratings[ratings['user_id'] == user_id]['route_id'].values\n",
    "        user_preds = user_preds[~user_preds['route_id'].isin(already_rated)]\n",
    "\n",
    "    if climb_types == []:\n",
    "        climb_types = ['Boulder', 'Sport', 'Trad']\n",
    "\n",
    "    boulder_mask = (user_preds['type'] == 'Boulder') & (user_preds['grade_numeric'].isin(range(min_boulder_grade, max_boulder_grade+1))) if 'Boulder' in climb_types else False\n",
    "    sport_mask = (user_preds['type'] == 'Sport') & (user_preds['grade_numeric'].isin(range(min_climb_grade, max_climb_grade+1))) if 'Sport' in climb_types else False\n",
    "    trad_mask = (user_preds['type'] == 'Trad') & (user_preds['grade_numeric'].isin(range(min_climb_grade, max_climb_grade+1))) if 'Trad' in climb_types else False                                        \n",
    "                                                    \n",
    "    if area_ids == []: \n",
    "        area_mask = True                                        \n",
    "       # return user_preds[(user_preds['type'].isin(climb_types)) & (user_preds['grade_numeric'].isin(range(min_grade, max_grade+1))) & (user_preds['pitches'].isin(list(range(pitches, 100 if pitches != 1 else 2))))].sort_values('prediction', ascending = False).head(n).drop(columns = ['description', 'star_ratings'])\n",
    "    else:\n",
    "        subareas = functools.reduce(operator.iconcat, [area_tree.get_children(area_id) for area_id in area_ids], [])\n",
    "        area_mask = user_preds['area_id'].isin(subareas)\n",
    "    \n",
    "    pitch_mask = (user_preds['pitches'].isin(list(range(pitches,100 if pitches != 1 else 2))))\n",
    "    mask = (boulder_mask | sport_mask | trad_mask) & area_mask & pitch_mask                                            \n",
    "                                                  \n",
    "    return user_preds[mask].sort_values('prediction', ascending = False).head(n).drop(columns = ['description', 'star_ratings'])\n",
    "\n",
    "\n"
   ]
  },
  {
   "cell_type": "code",
   "execution_count": null,
   "metadata": {},
   "outputs": [],
   "source": [
    "def get_similar_users(user_id):\n",
    "    pass\n",
    "\n",
    "def get_similar_climbs(route_id):\n",
    "    \n",
    "    route_inner_id = knn.trainset.to_inner_iid(route_id)\n",
    "    route_neighbors = knn.get_neighbors(route_inner_id, k=10)\n",
    "    route_neighbors = (knn.trainset.to_raw_iid(inner_id)\n",
    "                       for inner_id in route_neighbors)\n",
    "    \n",
    "    return routes[routes['route_id'].isin(route_neighbors)].drop(columns = ['star_ratings', 'description'])"
   ]
  },
  {
   "cell_type": "code",
   "execution_count": null,
   "metadata": {},
   "outputs": [],
   "source": [
    "routes.shape"
   ]
  },
  {
   "cell_type": "code",
   "execution_count": null,
   "metadata": {},
   "outputs": [],
   "source": [
    "get_top_n(user_id = 200503731, climb_types = ['Sport'], area_ids = [], n = 10, ignore_completed = True).to_csv('./streamlit/test_rec.csv', index = False)"
   ]
  },
  {
   "cell_type": "code",
   "execution_count": null,
   "metadata": {},
   "outputs": [],
   "source": [
    "ratings[ratings['user_id'] == 200410792]"
   ]
  },
  {
   "cell_type": "code",
   "execution_count": null,
   "metadata": {},
   "outputs": [],
   "source": [
    "ratings[ratings['user_id'] == 200503731]['route_id'].values"
   ]
  },
  {
   "cell_type": "code",
   "execution_count": null,
   "metadata": {},
   "outputs": [],
   "source": [
    "get_top_n(200410792, area_id = 119375710, n = 40, climb_types = [ 'Sport'])"
   ]
  },
  {
   "cell_type": "code",
   "execution_count": null,
   "metadata": {},
   "outputs": [],
   "source": [
    "get_top_n_type(200503731, n= 10, climb_types = ['Sport'])"
   ]
  },
  {
   "cell_type": "code",
   "execution_count": null,
   "metadata": {},
   "outputs": [],
   "source": [
    "routes[routes['route_id'].isin(top_routes[:10])]  "
   ]
  },
  {
   "cell_type": "code",
   "execution_count": null,
   "metadata": {},
   "outputs": [],
   "source": []
  },
  {
   "cell_type": "code",
   "execution_count": null,
   "metadata": {},
   "outputs": [],
   "source": []
  },
  {
   "cell_type": "code",
   "execution_count": null,
   "metadata": {},
   "outputs": [],
   "source": [
    "full_trainset = data.build_full_trainset()"
   ]
  },
  {
   "cell_type": "code",
   "execution_count": null,
   "metadata": {},
   "outputs": [],
   "source": [
    "svd_full = SVD()\n",
    "svd_full.fit(full_trainset)"
   ]
  },
  {
   "cell_type": "code",
   "execution_count": null,
   "metadata": {},
   "outputs": [],
   "source": [
    "svd.predict(200760174, 106952812)"
   ]
  },
  {
   "cell_type": "code",
   "execution_count": null,
   "metadata": {},
   "outputs": [],
   "source": [
    "def get_top_n(uid, predictions, n=10):\n",
    "    \"\"\"Return the top-N recommendation for each user from a set of predictions.\n",
    "\n",
    "    Args:\n",
    "        predictions(list of Prediction objects): The list of predictions, as\n",
    "            returned by the test method of an algorithm.\n",
    "        n(int): The number of recommendation to output for each user. Default\n",
    "            is 10.\n",
    "\n",
    "    Returns:\n",
    "    A dict where keys are user (raw) ids and values are lists of tuples:\n",
    "        [(raw item id, rating estimation), ...] of size n.\n",
    "    \"\"\"\n",
    "\n",
    "    # First map the predictions to each user.\n",
    "    top_n = defaultdict(list)\n",
    "    for uid, iid, true_r, est, _ in predictions:\n",
    "        top_n[uid].append((iid, est))\n",
    "\n",
    "    # Then sort the predictions for each user and retrieve the k highest ones.\n",
    "    for uid, user_ratings in top_n.items():\n",
    "        user_ratings.sort(key=lambda x: x[1], reverse=True)\n",
    "        top_n[uid] = user_ratings[:n]\n",
    "\n",
    "    return top_n"
   ]
  },
  {
   "cell_type": "code",
   "execution_count": null,
   "metadata": {},
   "outputs": [],
   "source": [
    "anti_testset = trainset.build_anti_testset()\n",
    "predictions = svd.test(anti_testset)"
   ]
  },
  {
   "cell_type": "code",
   "execution_count": null,
   "metadata": {},
   "outputs": [],
   "source": [
    "predictions"
   ]
  },
  {
   "cell_type": "code",
   "execution_count": null,
   "metadata": {},
   "outputs": [],
   "source": [
    "anti_testset = trainset.build_anti_testset()\n",
    "predictions = svd.test(anti_testset)\n",
    "\n",
    "top_n = get_top_n(predictions, n=10)\n",
    "\n",
    "# Print the recommended items for each user\n",
    "for uid, user_ratings in top_n.items():\n",
    "    print(uid, [iid for (iid, _) in user_ratings])"
   ]
  },
  {
   "cell_type": "code",
   "execution_count": null,
   "metadata": {},
   "outputs": [],
   "source": []
  },
  {
   "cell_type": "code",
   "execution_count": null,
   "metadata": {},
   "outputs": [],
   "source": []
  },
  {
   "cell_type": "code",
   "execution_count": null,
   "metadata": {},
   "outputs": [],
   "source": []
  },
  {
   "cell_type": "code",
   "execution_count": null,
   "metadata": {},
   "outputs": [],
   "source": []
  },
  {
   "cell_type": "code",
   "execution_count": null,
   "metadata": {},
   "outputs": [],
   "source": []
  },
  {
   "cell_type": "code",
   "execution_count": null,
   "metadata": {},
   "outputs": [],
   "source": []
  },
  {
   "cell_type": "code",
   "execution_count": null,
   "metadata": {},
   "outputs": [],
   "source": [
    "\n",
    "def get_top_n(predictions, n=10):\n",
    "    \"\"\"Return the top-N recommendation for each user from a set of predictions.\n",
    "\n",
    "    Args:\n",
    "        predictions(list of Prediction objects): The list of predictions, as\n",
    "            returned by the test method of an algorithm.\n",
    "        n(int): The number of recommendation to output for each user. Default\n",
    "            is 10.\n",
    "\n",
    "    Returns:\n",
    "    A dict where keys are user (raw) ids and values are lists of tuples:\n",
    "        [(raw item id, rating estimation), ...] of size n.\n",
    "    \"\"\"\n",
    "\n",
    "    # First map the predictions to each user.\n",
    "    top_n = defaultdict(list)\n",
    "    for uid, iid, true_r, est, _ in predictions:\n",
    "        top_n[uid].append((iid, est))\n",
    "\n",
    "    # Then sort the predictions for each user and retrieve the k highest ones.\n",
    "    for uid, user_ratings in top_n.items():\n",
    "        user_ratings.sort(key=lambda x: x[1], reverse=True)\n",
    "        top_n[uid] = user_ratings[:n]\n",
    "\n",
    "    return top_n\n",
    "\n",
    "\n",
    "# First train an SVD algorithm on the movielens dataset.\n",
    "#data = Dataset.load_builtin('ml-100k')\n",
    "trainset = data.build_full_trainset()\n",
    "algo = SVD()\n",
    "algo.fit(trainset)\n",
    "\n",
    "# Than predict ratings for all pairs (u, i) that are NOT in the training set.\n",
    "testset = trainset.build_anti_testset()\n",
    "predictions = algo.test(testset)\n",
    "\n",
    "top_n = get_top_n(predictions, n=10)\n",
    "\n",
    "# Print the recommended items for each user\n",
    "for uid, user_ratings in top_n.items():\n",
    "    print(uid, [iid for (iid, _) in user_ratings])"
   ]
  },
  {
   "cell_type": "code",
   "execution_count": null,
   "metadata": {},
   "outputs": [],
   "source": []
  },
  {
   "cell_type": "code",
   "execution_count": null,
   "metadata": {},
   "outputs": [],
   "source": [
    "algo.predict(200503731, 105748813)"
   ]
  },
  {
   "cell_type": "code",
   "execution_count": null,
   "metadata": {},
   "outputs": [],
   "source": []
  },
  {
   "cell_type": "code",
   "execution_count": null,
   "metadata": {},
   "outputs": [],
   "source": []
  },
  {
   "cell_type": "code",
   "execution_count": null,
   "metadata": {},
   "outputs": [],
   "source": [
    "ratings.groupby('route_id')['rating'].count().mean()"
   ]
  },
  {
   "cell_type": "code",
   "execution_count": null,
   "metadata": {},
   "outputs": [],
   "source": [
    "ratings['rating_counts'] = pd.DataFrame(ratings.groupby('route_id')['rating'].count())"
   ]
  },
  {
   "cell_type": "code",
   "execution_count": null,
   "metadata": {},
   "outputs": [],
   "source": [
    "plt.figure(figsize=(8,6))\n",
    "plt.rcParams['patch.force_edgecolor'] = True\n",
    "ratings['rating'].hist(bins=50)"
   ]
  },
  {
   "cell_type": "code",
   "execution_count": null,
   "metadata": {},
   "outputs": [],
   "source": [
    "type('asdf')"
   ]
  },
  {
   "cell_type": "code",
   "execution_count": null,
   "metadata": {},
   "outputs": [],
   "source": [
    "count = 0\n",
    "for i, row in routes.iterrows():\n",
    "    if type(row.description) == str:\n",
    "        if 'zugzwang' in (row.description.lower()):\n",
    "            count +=1\n",
    "            print(row.description)\n",
    "count            "
   ]
  },
  {
   "cell_type": "code",
   "execution_count": null,
   "metadata": {},
   "outputs": [],
   "source": []
  },
  {
   "cell_type": "code",
   "execution_count": null,
   "metadata": {},
   "outputs": [],
   "source": []
  },
  {
   "cell_type": "code",
   "execution_count": null,
   "metadata": {},
   "outputs": [],
   "source": [
    "sns.distplot(ratings.groupby('route_id')['rating'].count())"
   ]
  },
  {
   "cell_type": "code",
   "execution_count": null,
   "metadata": {},
   "outputs": [],
   "source": []
  },
  {
   "cell_type": "code",
   "execution_count": null,
   "metadata": {},
   "outputs": [],
   "source": []
  },
  {
   "cell_type": "code",
   "execution_count": null,
   "metadata": {},
   "outputs": [],
   "source": []
  },
  {
   "cell_type": "code",
   "execution_count": null,
   "metadata": {},
   "outputs": [],
   "source": []
  },
  {
   "cell_type": "code",
   "execution_count": null,
   "metadata": {},
   "outputs": [],
   "source": [
    "pivot = pd.pivot_table(ratings, index='user_id', columns='route_id', values='rating')"
   ]
  },
  {
   "cell_type": "code",
   "execution_count": null,
   "metadata": {},
   "outputs": [],
   "source": []
  },
  {
   "cell_type": "code",
   "execution_count": null,
   "metadata": {},
   "outputs": [],
   "source": [
    "pivot.head()"
   ]
  },
  {
   "cell_type": "code",
   "execution_count": null,
   "metadata": {},
   "outputs": [],
   "source": [
    "from scipy import sparse"
   ]
  },
  {
   "cell_type": "code",
   "execution_count": null,
   "metadata": {},
   "outputs": [],
   "source": [
    "sparse_pivot = sparse.csr_matrix(pivot.fillna(0))\n",
    "print(sparse_pivot)"
   ]
  },
  {
   "cell_type": "code",
   "execution_count": null,
   "metadata": {},
   "outputs": [],
   "source": [
    "sparse_pivot.shape"
   ]
  },
  {
   "cell_type": "code",
   "execution_count": null,
   "metadata": {},
   "outputs": [],
   "source": [
    "from sklearn.metrics.pairwise import pairwise_distances, cosine_distances, cosine_similarity\n"
   ]
  },
  {
   "cell_type": "code",
   "execution_count": null,
   "metadata": {},
   "outputs": [],
   "source": [
    "dists = pairwise_distances(sparse_pivot, metric='cosine')\n",
    "# dists = cosine_distances(sparse_pivot)                         # Identical but more concise\n",
    "\n",
    "dists"
   ]
  },
  {
   "cell_type": "code",
   "execution_count": null,
   "metadata": {},
   "outputs": [],
   "source": [
    "similarities = cosine_similarity(sparse_pivot)\n"
   ]
  },
  {
   "cell_type": "code",
   "execution_count": null,
   "metadata": {},
   "outputs": [],
   "source": [
    "np.all(np.isclose((1.0 - dists), similarities))\n"
   ]
  },
  {
   "cell_type": "code",
   "execution_count": null,
   "metadata": {},
   "outputs": [],
   "source": [
    "recommender_df = pd.DataFrame(dists, \n",
    "                              columns=pivot.index, \n",
    "                              index=pivot.index)\n",
    "recommender_df.head()"
   ]
  },
  {
   "cell_type": "code",
   "execution_count": null,
   "metadata": {},
   "outputs": [],
   "source": [
    "route_ratings.user_id.value_counts()[route_ratings.user_id.value_counts() > 25]"
   ]
  },
  {
   "cell_type": "code",
   "execution_count": null,
   "metadata": {},
   "outputs": [],
   "source": [
    "titles = [110596403,200236355]\n",
    "\n",
    "for title in titles:\n",
    "    print(title)\n",
    "    print('Average rating', pivot.loc[title, :].mean())\n",
    "    print('Number of ratings', pivot.T[title].count())\n",
    "    print('')\n",
    "    print('10 closest movies')\n",
    "    print(recommender_df[title].sort_values()[1:11])\n",
    "    print('')"
   ]
  },
  {
   "cell_type": "code",
   "execution_count": null,
   "metadata": {},
   "outputs": [],
   "source": [
    "(route_ratings['user_id'] == 12988).sum()"
   ]
  },
  {
   "cell_type": "code",
   "execution_count": null,
   "metadata": {},
   "outputs": [],
   "source": [
    "route_ratings[route_ratings['user_id'] == 112082211]"
   ]
  },
  {
   "cell_type": "code",
   "execution_count": null,
   "metadata": {},
   "outputs": [],
   "source": []
  },
  {
   "cell_type": "code",
   "execution_count": null,
   "metadata": {},
   "outputs": [],
   "source": []
  },
  {
   "cell_type": "code",
   "execution_count": null,
   "metadata": {},
   "outputs": [],
   "source": []
  },
  {
   "cell_type": "code",
   "execution_count": null,
   "metadata": {},
   "outputs": [],
   "source": []
  },
  {
   "cell_type": "code",
   "execution_count": null,
   "metadata": {},
   "outputs": [],
   "source": []
  },
  {
   "cell_type": "code",
   "execution_count": null,
   "metadata": {},
   "outputs": [],
   "source": [
    "areas"
   ]
  },
  {
   "cell_type": "code",
   "execution_count": null,
   "metadata": {},
   "outputs": [],
   "source": [
    "areas.id.values"
   ]
  },
  {
   "cell_type": "code",
   "execution_count": null,
   "metadata": {},
   "outputs": [],
   "source": [
    "areas.parent_id = areas.parent_id.fillna(0).astype(int)"
   ]
  },
  {
   "cell_type": "code",
   "execution_count": null,
   "metadata": {},
   "outputs": [],
   "source": []
  },
  {
   "cell_type": "code",
   "execution_count": null,
   "metadata": {},
   "outputs": [],
   "source": []
  },
  {
   "cell_type": "code",
   "execution_count": null,
   "metadata": {},
   "outputs": [],
   "source": [
    "area_dict"
   ]
  },
  {
   "cell_type": "code",
   "execution_count": null,
   "metadata": {},
   "outputs": [],
   "source": [
    "area_dict[119622035]"
   ]
  },
  {
   "cell_type": "code",
   "execution_count": null,
   "metadata": {},
   "outputs": [],
   "source": [
    "import math\n",
    "for k,v in area_dict.items():\n",
    "    if area_dict[k]['parent']:\n",
    "        area_dict[k]['children'].append(k)"
   ]
  },
  {
   "cell_type": "code",
   "execution_count": null,
   "metadata": {},
   "outputs": [],
   "source": [
    "for k,v in area_dict.items():\n",
    "    print(k,v)"
   ]
  },
  {
   "cell_type": "code",
   "execution_count": null,
   "metadata": {},
   "outputs": [],
   "source": []
  },
  {
   "cell_type": "code",
   "execution_count": null,
   "metadata": {},
   "outputs": [],
   "source": [
    "max_depth(105708957)"
   ]
  },
  {
   "cell_type": "code",
   "execution_count": null,
   "metadata": {},
   "outputs": [],
   "source": []
  },
  {
   "cell_type": "code",
   "execution_count": null,
   "metadata": {},
   "outputs": [],
   "source": []
  },
  {
   "cell_type": "code",
   "execution_count": null,
   "metadata": {},
   "outputs": [],
   "source": [
    "get_parent_chain_names(105880441)"
   ]
  },
  {
   "cell_type": "code",
   "execution_count": null,
   "metadata": {},
   "outputs": [],
   "source": [
    "ratings[ratings['user_id'] == 200410792]"
   ]
  },
  {
   "cell_type": "code",
   "execution_count": null,
   "metadata": {},
   "outputs": [],
   "source": []
  }
 ],
 "metadata": {
  "kernelspec": {
   "display_name": "Python 3",
   "language": "python",
   "name": "python3"
  },
  "language_info": {
   "codemirror_mode": {
    "name": "ipython",
    "version": 3
   },
   "file_extension": ".py",
   "mimetype": "text/x-python",
   "name": "python",
   "nbconvert_exporter": "python",
   "pygments_lexer": "ipython3",
   "version": "3.7.1"
  }
 },
 "nbformat": 4,
 "nbformat_minor": 4
}
