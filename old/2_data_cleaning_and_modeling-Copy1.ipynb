{
 "cells": [
  {
   "cell_type": "code",
   "execution_count": 1,
   "metadata": {},
   "outputs": [],
   "source": [
    "import numpy as np\n",
    "import pandas as pd\n",
    "import seaborn as sns\n",
    "import matplotlib.pyplot as plt\n",
    "import ast\n",
    "import pickle\n",
    "import warnings\n",
    "warnings.filterwarnings('ignore')\n",
    "# For NLP operations such as tokenization, lemmatization, and stopword removal\n",
    "from nltk.tokenize import RegexpTokenizer\n",
    "from nltk.stem import WordNetLemmatizer\n",
    "from nltk.corpus import stopwords\n",
    "\n",
    "import requests\n",
    "from bs4 import BeautifulSoup\n",
    "import functools\n",
    "import operator\n",
    "\n",
    "pd.set_option('display.max_colwidth', 4000)\n"
   ]
  },
  {
   "cell_type": "markdown",
   "metadata": {},
   "source": [
    "# Data Cleaning and Preprocessing"
   ]
  },
  {
   "cell_type": "code",
   "execution_count": 2,
   "metadata": {},
   "outputs": [],
   "source": [
    "def clean_routes(routes, drop_unrated = True):\n",
    "    cleaned_routes = routes.drop_duplicates()\n",
    "    \n",
    "    if drop_unrated:\n",
    "        cleaned_routes = cleaned_routes[~cleaned_routes.star_ratings.isnull()]\n",
    "        cleaned_routes = cleaned_routes[cleaned_routes['star_ratings'] != '{}']\n",
    "        \n",
    "    cleaned_routes['description'] = cleaned_routes['description'].fillna('')\n",
    "    cleaned_routes['id'] = cleaned_routes['id'].astype(int)\n",
    "    cleaned_routes = cleaned_routes.rename(columns = {'id' : 'route_id', 'name' : 'route_name'})\n",
    "    cleaned_routes['area_id'] = cleaned_routes['area_id'].astype(int)\n",
    "    cleaned_routes['pitches'] = cleaned_routes['pitches'].astype(int)\n",
    "    cleaned_routes['votes'] = cleaned_routes['votes'].astype(int)\n",
    "    cleaned_routes['route_name'] = cleaned_routes['route_name'].fillna('Unnamed')\n",
    "    cleaned_routes['height'] = cleaned_routes['height'].map(lambda x: 'Unspecified' if x == 0 else x)\n",
    "    # dictionary of user ratings is saved as a string, convert to a python dict\n",
    "    cleaned_routes['star_ratings'] = cleaned_routes['star_ratings'].map(lambda x: ast.literal_eval(x))\n",
    "    boulder_grades = pd.read_csv('./data/boulder_grades.csv')\n",
    "    climb_grades = pd.read_csv('./data/climb_grades.csv')\n",
    "    \n",
    "    \n",
    "    grade_dict = {v:k for k,v in boulder_grades.to_dict()['grade'].items()}\n",
    "    grade_dict.update({v:k for k,v in climb_grades.to_dict()['grade'].items()})\n",
    "\n",
    "\n",
    "    \n",
    "    cleaned_routes = cleaned_routes[~cleaned_routes['grade'].isin(['5.?', 'V?', ''])]\n",
    "    cleaned_routes = cleaned_routes[cleaned_routes['grade'].isin(grade_dict.keys())]\n",
    "    \n",
    "    cleaned_routes = cleaned_routes[cleaned_routes['pitches'] != 80]\n",
    "    cleaned_routes['grade_numeric'] = cleaned_routes['grade'].map(grade_dict).astype(int)\n",
    "    return cleaned_routes\n",
    "\n",
    "def clean_area(areas):\n",
    "    cleaned_areas = areas.drop_duplicates()\n",
    "    \n",
    "    cleaned_areas['parent_id'] = cleaned_areas['parent_id'].fillna(0)\n",
    "    cleaned_areas['parent_id'] = cleaned_areas['parent_id'].astype(int)\n",
    "    cleaned_areas = cleaned_areas.rename(columns = {'id' : 'area_id', 'name' : 'area_name'})\n",
    "    return cleaned_areas"
   ]
  },
  {
   "cell_type": "code",
   "execution_count": 3,
   "metadata": {},
   "outputs": [],
   "source": [
    "# this is a list of words to be removed \n",
    "# consists of all stopwords, and stopwords with punctuation (apostrophes) removed as these show up often\n",
    "remove_words = list(set(stopwords.words('english') +  \\\n",
    "                        [x.replace(\"'\", \"\") for x in stopwords.words('english')]))\n",
    "\n",
    "\n",
    "tokenizer = RegexpTokenizer(r\"\\w+\")\n",
    "\n",
    "# tokenize text and remove stopwords and any\n",
    "def clean_text(text):\n",
    "    text_tokens = tokenizer.tokenize(text)\n",
    "    return ' '.join([word for word in text_tokens if ((word not in remove_words) & (word.isalpha()))])\n",
    "\n",
    "\n",
    "def process_descriptions(df):\n",
    "    \n",
    "    df = df.copy()\n",
    "    \n",
    "    # convert to lowercase\n",
    "    df['description_original'] = df['description'].copy()\n",
    "    df['description'] = df['description'].str.lower()\n",
    "\n",
    "    \n",
    "    \n",
    "    # First remove html converted symbols and hyperlinks from title and selftext\n",
    "    df['description'] = df['description'].str.replace(r'&\\w*;', '')\n",
    "\n",
    "    df['description'] = df['description'].replace('http\\S+', '', regex=True).replace('www\\S+', '', regex=True)\\\n",
    "                 .replace('#\\S+', '', regex=True).replace('\\n\\n\\S+', '', regex=True)\n",
    "    \n",
    "    \n",
    "    # apply stopword/symbol remover\n",
    "    df['description'] = df['description'].map(clean_text)\n",
    "    \n",
    "    # remove digits\n",
    "    df['description'] = df['description'].str.replace(r'\\d+', '')\n",
    "\n",
    "    return df\n",
    "    "
   ]
  },
  {
   "cell_type": "code",
   "execution_count": 4,
   "metadata": {},
   "outputs": [],
   "source": [
    "def get_ratings(routes):\n",
    "    ratings = []\n",
    "    for i,row in routes.iterrows():\n",
    "        for user, stars in row['star_ratings'].items():\n",
    "            ratings.append({'user_id': user, 'route_id' : row['route_id'], 'user_rating' : stars})\n",
    "\n",
    "    ratings = pd.DataFrame(ratings)\n",
    "    \n",
    "    return pd.merge(ratings, routes, left_on = 'route_id', right_on='route_id').drop(columns = 'star_ratings')"
   ]
  },
  {
   "cell_type": "code",
   "execution_count": 5,
   "metadata": {},
   "outputs": [],
   "source": [
    "class MPAreaTree:\n",
    "    def __init__(self, areas = None):\n",
    "        if(areas is not None):\n",
    "            self.build(areas)            \n",
    "        else:\n",
    "            self.area_dict = {}\n",
    "            self.areas = areas.copy()\n",
    "            \n",
    "    def build(self, areas):\n",
    "        self.area_dict = {}\n",
    "        self.areas = areas.copy()\n",
    "        for i,row in areas.iterrows():\n",
    "            self.area_dict[row['area_id']] = {'area_name' : row.area_name, 'parent' : row.parent_id, 'children' : []}\n",
    "        for i,row in areas.iterrows():\n",
    "            if row[\"parent_id\"] != 0:\n",
    "                self.area_dict[row[\"parent_id\"]]['children'].append(row[\"area_id\"])\n",
    "                \n",
    "    def get_name(self, area_id):\n",
    "        return self.areas[self.areas['area_id'] == area_id]['area_name'].unique()[0]\n",
    "\n",
    "    def get_parent_chain(self, area_id):\n",
    "        chain = []\n",
    "        current_id = area_id\n",
    "        while current_id != 0:\n",
    "            chain = [(self.get_name(current_id), current_id)] + chain\n",
    "            current_id = self.area_dict[current_id]['parent']\n",
    "        return chain\n",
    "    def get_children(self, area_id):\n",
    "        \n",
    "        return [area_id] + functools.reduce(operator.iconcat, [self.get_children(child) for child in self.area_dict[area_id]['children']], [])\n",
    "    def get_parent_chain_names(self, area_id):\n",
    "        chain = get_parent_chain(area_id)\n",
    "        return [self.get_name(x) for x in chain] \n",
    "    \n",
    "    def get_height(self,area_id):\n",
    "        if len(self.area_dict[area_id]['children']) == 0:\n",
    "            return 0\n",
    "        else:\n",
    "            return 1 + max([self.get_height(child) for child in self.area_dict[area_id]['children']]) \n",
    "\n",
    "    def get_formatted_name(self, area_id):\n",
    "        if self.area_dict[area_id]['parent'] == 0:\n",
    "            return self.area_dict[area_id]['area_name']\n",
    "        return self.get_formatted_name(self.area_dict[area_id]['parent']) + ' > ' + self.area_dict[area_id]['area_name']\n",
    "    \n",
    "    \n",
    "    def get_depth(self,area_id):\n",
    "        return len(self.get_parent_chain(area_id))-1\n",
    "    \n",
    "    "
   ]
  },
  {
   "cell_type": "code",
   "execution_count": 6,
   "metadata": {},
   "outputs": [],
   "source": [
    "import os \n",
    "\n",
    "def load_states(states):\n",
    "    routes = []\n",
    "    areas = []\n",
    "    for state in states:\n",
    "        if os.path.exists(f'./data/{state}_routes.csv') and os.path.exists(f'./data/{state}_areas.csv'):\n",
    "            print(f'Found route/area data for {state}.')\n",
    "            r = clean_routes(pd.read_csv(f'./data/{state}_routes.csv'))\n",
    "\n",
    "            a = clean_area(pd.read_csv(f'./data/{state}_areas.csv'))\n",
    "\n",
    "            r['state'] = state\n",
    "            a['state'] = state\n",
    "            r = r.merge(a[['area_id', 'area_name']], left_on = 'area_id', right_on = 'area_id')\n",
    "            routes.append(r)\n",
    "            areas.append(a)\n",
    "\n",
    "    routes = pd.concat(routes).reset_index(drop = True)\n",
    "    areas = pd.concat(areas).reset_index(drop = True)\n",
    "    \n",
    "    return routes, areas"
   ]
  },
  {
   "cell_type": "code",
   "execution_count": null,
   "metadata": {},
   "outputs": [],
   "source": []
  },
  {
   "cell_type": "code",
   "execution_count": 7,
   "metadata": {},
   "outputs": [
    {
     "name": "stdout",
     "output_type": "stream",
     "text": [
      "Found route/area data for Alabama.\n",
      "Found route/area data for Arkansas.\n",
      "Found route/area data for Colorado.\n",
      "Found route/area data for Delaware.\n",
      "Found route/area data for Florida.\n",
      "Found route/area data for Georgia.\n",
      "Found route/area data for Hawaii.\n",
      "Found route/area data for Iowa.\n",
      "Found route/area data for Illinois.\n",
      "Found route/area data for Indiana.\n",
      "Found route/area data for Kansas.\n",
      "Found route/area data for Kentucky.\n",
      "Found route/area data for Louisiana.\n",
      "Found route/area data for Maryland.\n",
      "Found route/area data for Maine.\n",
      "Found route/area data for Michigan.\n",
      "Found route/area data for Minnesota.\n",
      "Found route/area data for Missouri.\n",
      "Found route/area data for Mississippi.\n",
      "Found route/area data for North Dakota.\n",
      "Found route/area data for Nebraska.\n",
      "Found route/area data for New Hampshire.\n",
      "Found route/area data for New Jersey.\n",
      "Found route/area data for Ohio.\n",
      "Found route/area data for Oklahoma.\n",
      "Found route/area data for Oregon.\n",
      "Found route/area data for Rhode Island.\n",
      "Found route/area data for South Carolina.\n",
      "Found route/area data for Utah.\n",
      "Found route/area data for Vermont.\n",
      "Found route/area data for West Virginia.\n",
      "Found route/area data for Wyoming.\n"
     ]
    }
   ],
   "source": [
    "state_names = [\"Alaska\", \"Alabama\", \"Arkansas\", \"Arizona\", \"California\", \"Colorado\", \"Connecticut\", \n",
    "               \"Delaware\", \"Florida\", \"Georgia\",  \"Hawaii\", \"Iowa\", \"Idaho\", \"Illinois\", \"Indiana\", \"Kansas\",\n",
    "               \"Kentucky\", \"Louisiana\", \"Massachusetts\", \"Maryland\", \"Maine\", \"Michigan\", \"Minnesota\", \"Missouri\", \n",
    "               \"Mississippi\", \"Montana\", \"North Carolina\",  \"North Dakota\", \"Nebraska\", \"New Hampshire\", \n",
    "               \"New Jersey\", \"New Mexico\", \"Nevada\", \"New York\", \"Ohio\", \"Oklahoma\", \"Oregon\", \n",
    "               \"Pennsylvania\", \"Rhode Island\", \"South Carolina\", \"South Dakota\", \n",
    "               \"Tennessee\", \"Texas\", \"Utah\", \"Virginia\",  \"Vermont\", \n",
    "               \"Washington\", \"Wisconsin\", \"West Virginia\", \"Wyoming\"]\n",
    "routes, areas = load_states(state_names)"
   ]
  },
  {
   "cell_type": "code",
   "execution_count": null,
   "metadata": {},
   "outputs": [],
   "source": []
  },
  {
   "cell_type": "code",
   "execution_count": 8,
   "metadata": {},
   "outputs": [
    {
     "data": {
      "text/plain": [
       "(32,)"
      ]
     },
     "execution_count": 8,
     "metadata": {},
     "output_type": "execute_result"
    }
   ],
   "source": [
    "routes['state'].unique().shape"
   ]
  },
  {
   "cell_type": "code",
   "execution_count": 9,
   "metadata": {},
   "outputs": [],
   "source": [
    "area_tree = MPAreaTree(areas)"
   ]
  },
  {
   "cell_type": "code",
   "execution_count": 10,
   "metadata": {},
   "outputs": [
    {
     "data": {
      "text/plain": [
       "(17000, 7)"
      ]
     },
     "execution_count": 10,
     "metadata": {},
     "output_type": "execute_result"
    }
   ],
   "source": [
    "areas.shape"
   ]
  },
  {
   "cell_type": "code",
   "execution_count": 11,
   "metadata": {},
   "outputs": [
    {
     "data": {
      "text/plain": [
       "(75211, 14)"
      ]
     },
     "execution_count": 11,
     "metadata": {},
     "output_type": "execute_result"
    }
   ],
   "source": [
    "routes.shape"
   ]
  },
  {
   "cell_type": "code",
   "execution_count": 12,
   "metadata": {},
   "outputs": [],
   "source": [
    "ratings = get_ratings(routes)"
   ]
  },
  {
   "cell_type": "code",
   "execution_count": 13,
   "metadata": {},
   "outputs": [
    {
     "data": {
      "text/plain": [
       "(1171869, 15)"
      ]
     },
     "execution_count": 13,
     "metadata": {},
     "output_type": "execute_result"
    }
   ],
   "source": [
    "ratings.shape"
   ]
  },
  {
   "cell_type": "code",
   "execution_count": 35,
   "metadata": {},
   "outputs": [
    {
     "data": {
      "text/plain": [
       "<matplotlib.axes._subplots.AxesSubplot at 0x12d9a7c18>"
      ]
     },
     "execution_count": 35,
     "metadata": {},
     "output_type": "execute_result"
    },
    {
     "data": {
      "image/png": "[encoded data removed]",
      "text/plain": [
       "<Figure size 432x288 with 1 Axes>"
      ]
     },
     "metadata": {
      "needs_background": "light"
     },
     "output_type": "display_data"
    }
   ],
   "source": [
    "sns.distplot(ratings.groupby('user_id')['route_id'].count())"
   ]
  },
  {
   "cell_type": "code",
   "execution_count": 97,
   "metadata": {
    "scrolled": true
   },
   "outputs": [
    {
     "data": {
      "text/plain": [
       "Text(0.5, 0, 'Number of User Ratings')"
      ]
     },
     "execution_count": 97,
     "metadata": {},
     "output_type": "execute_result"
    },
    {
     "data": {
      "image/png": "[encoded data removed]",
      "text/plain": [
       "<Figure size 432x288 with 1 Axes>"
      ]
     },
     "metadata": {
      "needs_background": "light"
     },
     "output_type": "display_data"
    }
   ],
   "source": [
    "ratings.groupby('user_id')['route_id'].count().hist(bins = 100, grid = False)\n",
    "plt.ylim([0,500])\n",
    "plt.title('Histogram of number of ratings per route')\n",
    "plt.ylabel('Count')\n",
    "plt.xlabel('Number of User Ratings')"
   ]
  },
  {
   "cell_type": "code",
   "execution_count": 93,
   "metadata": {},
   "outputs": [
    {
     "data": {
      "text/plain": [
       "Text(0.5, 0, 'Unique Routes Rated')"
      ]
     },
     "execution_count": 93,
     "metadata": {},
     "output_type": "execute_result"
    },
    {
     "data": {
      "image/png": "[encoded data removed]",
      "text/plain": [
       "<Figure size 432x288 with 1 Axes>"
      ]
     },
     "metadata": {
      "needs_background": "light"
     },
     "output_type": "display_data"
    }
   ],
   "source": [
    "ratings.groupby('route_id')['user_id'].count().hist(bins = 100, grid = False)\n",
    "plt.ylim([0,500])\n",
    "plt.title('Histogram of number of routes rated per user')\n",
    "plt.ylabel('Count')\n",
    "plt.xlabel('Unique Routes Rated')"
   ]
  },
  {
   "cell_type": "code",
   "execution_count": 28,
   "metadata": {},
   "outputs": [
    {
     "data": {
      "text/plain": [
       "39367"
      ]
     },
     "execution_count": 28,
     "metadata": {},
     "output_type": "execute_result"
    }
   ],
   "source": [
    "len(ratings['user_id'].unique())"
   ]
  },
  {
   "cell_type": "code",
   "execution_count": 26,
   "metadata": {},
   "outputs": [
    {
     "data": {
      "text/plain": [
       "Text(0.5, 1.0, 'Number of Climbs by State')"
      ]
     },
     "execution_count": 26,
     "metadata": {},
     "output_type": "execute_result"
    },
    {
     "data": {
      "image/png": "[encoded data removed]",
      "text/plain": [
       "<Figure size 576x432 with 1 Axes>"
      ]
     },
     "metadata": {
      "needs_background": "light"
     },
     "output_type": "display_data"
    }
   ],
   "source": [
    "plt.figure(figsize = (8,6))\n",
    "routes.groupby('state')['score'].count().sort_values(ascending = True).plot.barh()\n",
    "plt.title('Number of Climbs by State')"
   ]
  },
  {
   "cell_type": "code",
   "execution_count": 57,
   "metadata": {},
   "outputs": [
    {
     "data": {
      "text/html": [
       "<div>\n",
       "<style scoped>\n",
       "    .dataframe tbody tr th:only-of-type {\n",
       "        vertical-align: middle;\n",
       "    }\n",
       "\n",
       "    .dataframe tbody tr th {\n",
       "        vertical-align: top;\n",
       "    }\n",
       "\n",
       "    .dataframe thead th {\n",
       "        text-align: right;\n",
       "    }\n",
       "</style>\n",
       "<table border=\"1\" class=\"dataframe\">\n",
       "  <thead>\n",
       "    <tr style=\"text-align: right;\">\n",
       "      <th></th>\n",
       "      <th>type</th>\n",
       "      <th>pitches</th>\n",
       "      <th>score</th>\n",
       "      <th>votes</th>\n",
       "      <th>state</th>\n",
       "    </tr>\n",
       "    <tr>\n",
       "      <th>route_name</th>\n",
       "      <th></th>\n",
       "      <th></th>\n",
       "      <th></th>\n",
       "      <th></th>\n",
       "      <th></th>\n",
       "    </tr>\n",
       "  </thead>\n",
       "  <tbody>\n",
       "    <tr>\n",
       "      <th>The Bastille Crack</th>\n",
       "      <td>Trad</td>\n",
       "      <td>5</td>\n",
       "      <td>3.5</td>\n",
       "      <td>1842</td>\n",
       "      <td>Colorado</td>\n",
       "    </tr>\n",
       "    <tr>\n",
       "      <th>Rewritten</th>\n",
       "      <td>Trad</td>\n",
       "      <td>6</td>\n",
       "      <td>3.7</td>\n",
       "      <td>1346</td>\n",
       "      <td>Colorado</td>\n",
       "    </tr>\n",
       "    <tr>\n",
       "      <th>Incredible Hand Crack</th>\n",
       "      <td>Trad</td>\n",
       "      <td>1</td>\n",
       "      <td>3.8</td>\n",
       "      <td>1147</td>\n",
       "      <td>Utah</td>\n",
       "    </tr>\n",
       "    <tr>\n",
       "      <th>5 Gallon Buckets</th>\n",
       "      <td>Sport</td>\n",
       "      <td>1</td>\n",
       "      <td>3.2</td>\n",
       "      <td>1117</td>\n",
       "      <td>Oregon</td>\n",
       "    </tr>\n",
       "    <tr>\n",
       "      <th>Supercrack of the Desert</th>\n",
       "      <td>Trad</td>\n",
       "      <td>3</td>\n",
       "      <td>3.8</td>\n",
       "      <td>1097</td>\n",
       "      <td>Utah</td>\n",
       "    </tr>\n",
       "    <tr>\n",
       "      <th>Direct Route</th>\n",
       "      <td>Trad</td>\n",
       "      <td>10</td>\n",
       "      <td>3.5</td>\n",
       "      <td>1081</td>\n",
       "      <td>Colorado</td>\n",
       "    </tr>\n",
       "    <tr>\n",
       "      <th>The Yellow Spur</th>\n",
       "      <td>Trad</td>\n",
       "      <td>6</td>\n",
       "      <td>3.8</td>\n",
       "      <td>1031</td>\n",
       "      <td>Colorado</td>\n",
       "    </tr>\n",
       "    <tr>\n",
       "      <th>Wind Ridge</th>\n",
       "      <td>Trad</td>\n",
       "      <td>4</td>\n",
       "      <td>3.1</td>\n",
       "      <td>1004</td>\n",
       "      <td>Colorado</td>\n",
       "    </tr>\n",
       "    <tr>\n",
       "      <th>Calypso</th>\n",
       "      <td>Trad</td>\n",
       "      <td>3</td>\n",
       "      <td>3.0</td>\n",
       "      <td>959</td>\n",
       "      <td>Colorado</td>\n",
       "    </tr>\n",
       "    <tr>\n",
       "      <th>27 Years of Climbing</th>\n",
       "      <td>Sport</td>\n",
       "      <td>1</td>\n",
       "      <td>3.5</td>\n",
       "      <td>944</td>\n",
       "      <td>Kentucky</td>\n",
       "    </tr>\n",
       "  </tbody>\n",
       "</table>\n",
       "</div>"
      ],
      "text/plain": [
       "                           type  pitches  score  votes     state\n",
       "route_name                                                      \n",
       "The Bastille Crack         Trad        5    3.5   1842  Colorado\n",
       "Rewritten                  Trad        6    3.7   1346  Colorado\n",
       "Incredible Hand Crack      Trad        1    3.8   1147      Utah\n",
       "5 Gallon Buckets          Sport        1    3.2   1117    Oregon\n",
       "Supercrack of the Desert   Trad        3    3.8   1097      Utah\n",
       "Direct Route               Trad       10    3.5   1081  Colorado\n",
       "The Yellow Spur            Trad        6    3.8   1031  Colorado\n",
       "Wind Ridge                 Trad        4    3.1   1004  Colorado\n",
       "Calypso                    Trad        3    3.0    959  Colorado\n",
       "27 Years of Climbing      Sport        1    3.5    944  Kentucky"
      ]
     },
     "execution_count": 57,
     "metadata": {},
     "output_type": "execute_result"
    }
   ],
   "source": [
    "routes.drop(columns = ['description', 'star_ratings']).sort_values('votes', ascending = False)[['route_name','type', 'pitches','score','votes','state']].head(10).set_index('route_name')"
   ]
  },
  {
   "cell_type": "code",
   "execution_count": 37,
   "metadata": {},
   "outputs": [
    {
     "data": {
      "text/html": [
       "<div>\n",
       "<style scoped>\n",
       "    .dataframe tbody tr th:only-of-type {\n",
       "        vertical-align: middle;\n",
       "    }\n",
       "\n",
       "    .dataframe tbody tr th {\n",
       "        vertical-align: top;\n",
       "    }\n",
       "\n",
       "    .dataframe thead th {\n",
       "        text-align: right;\n",
       "    }\n",
       "</style>\n",
       "<table border=\"1\" class=\"dataframe\">\n",
       "  <thead>\n",
       "    <tr style=\"text-align: right;\">\n",
       "      <th></th>\n",
       "      <th>route_id</th>\n",
       "      <th>user_id</th>\n",
       "      <th>route_name</th>\n",
       "      <th>type</th>\n",
       "      <th>area_id</th>\n",
       "      <th>grade</th>\n",
       "      <th>height</th>\n",
       "      <th>pitches</th>\n",
       "      <th>score</th>\n",
       "      <th>votes</th>\n",
       "      <th>description</th>\n",
       "      <th>star_ratings</th>\n",
       "      <th>grade_numeric</th>\n",
       "      <th>state</th>\n",
       "      <th>area_name</th>\n",
       "    </tr>\n",
       "  </thead>\n",
       "  <tbody>\n",
       "    <tr>\n",
       "      <th>0</th>\n",
       "      <td>105748490</td>\n",
       "      <td>1839</td>\n",
       "      <td>The Bastille Crack</td>\n",
       "      <td>Trad</td>\n",
       "      <td>105744723</td>\n",
       "      <td>5.7</td>\n",
       "      <td>350</td>\n",
       "      <td>5</td>\n",
       "      <td>3.5</td>\n",
       "      <td>1842</td>\n",
       "      <td>One of the most classic climbs in the country, it begins right off the road on the Bastille, a 350' cliff on the left as you enter the canyon. Often crowded, a weekday is probably the best time to attempt this climb.  The climb is north facing and in the shade until mid-afternoon. As Jim Erickson said in his classic 1980 Rocky Heights guidebook, \"avoid it like the plague if the weather is not warm, or you will shiver away much of its charm.\"  Start at the center of the north face of the Bastille, below a hand crack that starts 20' up the wall, with a huge, serrated flake to its right.  The first pitch has been the site of numerous accidents, so make sure you're solid on 5.7 crack climbing and placing pro before attempting to lead it.  P1. 5.7, 60'. Climb up to the flake and step left to the crack. Jam or layback up the polished crack (crux), then follow the crack up and left to a small stance at a 2-bolt anchor with chains. You can belay here (if you want to watch/coach your second through the crux), or continue with the second pitch.  P2. 5.6, 90'. Climb up to the chimney left of the bolts, and step left onto the face. Climb up to a finger crack, then traverse right above a little roof (crux). Continue up steep, enjoyable cracks and angle up left on easy ground to a sloping ledge by a steep wall. Belay at a crack with a fixed pin. If this belay is occupied, it's possible to belay about 20' lower at another stance.  Variation: near the top of P2, take a right-angling wide crack up and back left, 5.8. Bring a big cam (#4 Camalot) to protect this line.  P1 &amp; P2 can be combined with a 50m rope.  P3. 5.7, 50'. Climb up into a pod, then work up past a small roof (crux). Continue up the cracks to another sloping ledge. A #1 and #2 Camalot are useful for the belay anchor.  P1-3 can be combined with a 70m rope.  P4. 5.6, 100'. Traverse left to a short corner with a destroyed fixed pin. Continue traversing left on awkward, off-balance moves past another fixed pin (crux). Go all the way left to a hand crack and climb it to a corner. Don't start up too soon or you'll be off route on a harder variation. Climb the corner, then continue up and right on easy ramps to a belay stance below or just right of a chimney.  P5. Several options here:  a. Easy finish: 5.4, 60'. Climb the chimney to the top.  b. Fun finish: 5.8, 80'. Climb up a ramp right of the chimney to a huge corner with a wide crack. Climb up the face left of the corner to a fixed pin. Continue up the steep headwall and surmount a little roof at the top (crux). If you have a #3 and #4 Camalot, you can belay just above the roof (and watch/coach your second at the crux roof), otherwise continue up an easy gully and belay from a spike of rock at the top.  c. Grovel finish: 5.7, 80'. Climb the wide crack in the corner just right of the previous variation.  To descend: follow deep grooves to the south until you reach a dirt trail. Go 30' right (west) and then follow the marked Bastille descent trail north and down to the road at the base of the cliff.  (Ed. Note: beginner leaders--make sure you're solid on crack techique before trying this one. Placing gear is not trivial for the inexperienced.)</td>\n",
       "      <td>{105867487: 4, 106733454: 4, 10106: 4, 106692255: 4, 107066303: 4, 106740073: 4, 105787381: 4, 14185: 4, 14233: 4, 10114: 4, 11613: 4, 10520: 4, 106502223: 4, 106367966: 4, 11327: 4, 14209: 4, 105787407: 4, 105788780: 4, 106098377: 4, 106079202: 4, 105787249: 4, 11711: 4, 105793180: 4, 11466: 4, 106235451: 4, 10168: 4, 12407: 4, 105804873: 4, 106670905: 4, 107212777: 4, 105792600: 4, 105815478: 4, 13782: 4, 106945872: 4, 11916: 4, 106985478: 4, 14213: 4, 107521029: 4, 105790905: 4, 10762: 4, 106733673: 4, 105790750: 4, 107005232: 4, 106034624: 4, 106737176: 4, 105084823: 4, 107568252: 4, 12494: 4, 12448: 4, 105833163: 4, 105823335: 4, 10445: 4, 10769: 4, 11591: 4, 11344: 4, 105802320: 4, 105833454: 4, 11129: 4, 14193: 4, 106613611: 4, 105817062: 4, 105839281: 4, 10185: 4, 107578430: 4, 105825953: 4, 105811115: 4, 11181: 4, 107110253: 4, 10570: 4, 105794408: 4, 15116: 4, 10240: 4, 105860008: 4, 106842715: 4, 10351: 4, 105801073: 4, 105863852: 4, 105885105: 4, 105808302: 4, 11445: 4, 107032734: 4, 12121: 4, 105877184: 4, 106945549: 4, 105886042: 4, 107384266: 4, 107119857: 4, 107324472: 4, 106740767: 4, 107297633: 4, 107515236: 4, 14004: 4, 105890157: 4, 10481: 4, 105856868: 4, 107564909: 4, 107130114: 4, 106823395: 4, 105868316: 4, 13248: 4, ...}</td>\n",
       "      <td>10</td>\n",
       "      <td>Colorado</td>\n",
       "      <td>The Bastille - N Face</td>\n",
       "    </tr>\n",
       "    <tr>\n",
       "      <th>1</th>\n",
       "      <td>105750106</td>\n",
       "      <td>1343</td>\n",
       "      <td>Rewritten</td>\n",
       "      <td>Trad</td>\n",
       "      <td>105807704</td>\n",
       "      <td>5.7</td>\n",
       "      <td>650</td>\n",
       "      <td>6</td>\n",
       "      <td>3.7</td>\n",
       "      <td>1346</td>\n",
       "      <td>This is another excellent classic on Redgarden. Six pitches takes you to the summit of the Middle Buttress via Rebuffat's Arete. Start at the base of the West Chimney below the Middle Buttress about 15 feet left of an alcove.  P1 is a steep start but only 5.6 up a nice crack (~110 feet). There are two cracks starting here. The thinner crack on the right is The Great Zot (8+) and is one of my favorite 5.8s in Eldo. Take your pick.  P2. Climb an easy pitch up to the Red Ledge arcing left. Look for a large eyebolt.  P3. Continue up the left-facing dihedral to a belay stance on the right (6).  P4. This is the crux and most exciting pitch. From the belay, traverse the hand crack left, pull around the arete, and continue up the steep and exposed hand crack. Belay on a ledge to the left of where previously existed a large, detached block or the right. Caution: this block fell down; this 6 foot high piece of rock used to rock back and forth if you pulled on it!  P5. Follow the crack to the R (5) or straight (8) up Rebuffat's Arete. The arete is recommended as it more spectacular. Belay at a tree in the large V on the left.  P6. Find a clean, 5.5 crack to the summit. This is a great short pitch also with a nice view and bomber gear.  Descent: downclimb a notch to the North back to the West side of Redgarden Wall. The notch is beyond several towers to the NW. If it doesn't look like easy 4th Class, keep going.</td>\n",
       "      <td>{10102: 4, 107532284: 4, 107322231: 4, 107146196: 4, 11970: 4, 106706644: 4, 10797: 4, 12106: 4, 10962: 4, 11327: 4, 106156604: 4, 14185: 4, 106945872: 4, 105787249: 4, 11711: 4, 105792600: 4, 105883024: 4, 106670905: 4, 106001218: 4, 105802320: 4, 106565770: 4, 12494: 4, 105815478: 4, 107586857: 4, 106778384: 4, 106817666: 4, 14213: 4, 105813559: 4, 106576897: 4, 106339959: 4, 13954: 4, 105820266: 4, 106182300: 4, 105833853: 4, 12448: 4, 105824953: 4, 105964182: 4, 106211927: 4, 105083583: 4, 14193: 4, 105823335: 4, 105787381: 4, 105805621: 4, 10185: 4, 11466: 4, 105842979: 4, 11750: 4, 105819862: 4, 10240: 4, 105788806: 4, 12121: 4, 10186: 4, 105847271: 4, 105856868: 4, 11916: 4, 107124671: 4, 106945549: 4, 107237750: 4, 105828229: 4, 107515236: 4, 106434400: 4, 106736532: 4, 105849409: 4, 105846774: 4, 107161888: 4, 105841324: 4, 105853415: 4, 11246: 4, 10570: 4, 105812678: 4, 105905885: 4, 106192485: 4, 105899017: 4, 105829161: 4, 15093: 4, 106489988: 4, 13937: 4, 107540372: 4, 105860008: 4, 105898612: 4, 13111: 4, 10996: 4, 14281: 4, 107237572: 4, 107745681: 4, 107733639: 4, 107116332: 4, 105995286: 4, 107530257: 4, 105989024: 4, 105843498: 4, 106934094: 4, 105939248: 4, 106017527: 4, 14152: 4, 107749506: 4, 105807065: 4, 11802: 4, 10405: 4, 106055829: 4, ...}</td>\n",
       "      <td>10</td>\n",
       "      <td>Colorado</td>\n",
       "      <td>Redgarden - Lumpe to the top</td>\n",
       "    </tr>\n",
       "    <tr>\n",
       "      <th>2</th>\n",
       "      <td>105717367</td>\n",
       "      <td>1143</td>\n",
       "      <td>Incredible Hand Crack</td>\n",
       "      <td>Trad</td>\n",
       "      <td>105716946</td>\n",
       "      <td>5.10</td>\n",
       "      <td>100</td>\n",
       "      <td>1</td>\n",
       "      <td>3.8</td>\n",
       "      <td>1147</td>\n",
       "      <td>Route starts at the top of the trail from the parking lot to Supercrack Buttress.  Follows the obvious chalked hand crack in a corner through a large overhang.  Lieback up the corner to the roof.  Jam out the roof with perfect hands (crux) to a great rest at the end (#3 Camalot).  Finish up the corner to a bolt anchor at 95 feet.  It really is incredible!  Get there early because lines will form on the weekends.</td>\n",
       "      <td>{10124: 4, 10102: 4, 105990845: 4, 106910895: 4, 106129363: 4, 107075506: 4, 107300420: 4, 106637976: 4, 105805707: 4, 106246445: 4, 105884543: 4, 105812457: 4, 106831774: 4, 106168317: 4, 106404987: 4, 106569465: 4, 12622: 4, 14259: 4, 10788: 4, 105787222: 4, 105787249: 4, 105788208: 4, 105789816: 4, 107508091: 4, 107566018: 4, 105863172: 4, 106874601: 4, 107572777: 4, 105792600: 4, 106560803: 4, 105793180: 4, 105789175: 4, 12494: 4, 11287: 4, 105823132: 4, 106813046: 4, 106852268: 4, 14213: 4, 105842259: 4, 106985478: 4, 107521029: 4, 106162275: 4, 107075029: 4, 105817503: 4, 106484179: 4, 10185: 4, 11524: 4, 106351162: 4, 12448: 4, 105866515: 4, 12194: 4, 11965: 4, 10481: 4, 105887867: 4, 106945549: 4, 11469: 4, 10168: 4, 107314708: 4, 105870586: 4, 15142: 4, 105904878: 4, 105912413: 4, 105924761: 4, 14004: 4, 106337255: 4, 105829161: 4, 105797852: 4, 105863852: 4, 105936281: 4, 106838734: 4, 105929502: 4, 105812440: 4, 107410513: 4, 105787663: 4, 105849409: 4, 107737637: 4, 105976663: 4, 106380853: 4, 11029: 4, 107512665: 4, 14582: 4, 105868415: 4, 105912775: 4, 105795871: 4, 107256360: 4, 105939978: 4, 106493734: 4, 106506620: 4, 11246: 4, 13914: 4, 107745015: 4, 106874511: 4, 107254869: 4, 107419681: 4, 107545719: 4, 11563: 4, 106893421: 4, 107562804: 4, 106530958: 4, 105915753: 4, ...}</td>\n",
       "      <td>22</td>\n",
       "      <td>Utah</td>\n",
       "      <td>Supercrack Buttress</td>\n",
       "    </tr>\n",
       "    <tr>\n",
       "      <th>3</th>\n",
       "      <td>105789060</td>\n",
       "      <td>1113</td>\n",
       "      <td>5 Gallon Buckets</td>\n",
       "      <td>Sport</td>\n",
       "      <td>105789057</td>\n",
       "      <td>5.8</td>\n",
       "      <td>60</td>\n",
       "      <td>1</td>\n",
       "      <td>3.2</td>\n",
       "      <td>1117</td>\n",
       "      <td>The huge huecos of 5 Gallon Buckets are often the first piece of rock that a climber touches on his or her first trip to the park.  The fun and consistent 5.8 climbing is straightforward and enjoyable as a warmup or a toprope.  A Smith classic!    This is the left-most route on the big huecoed section of the wall.  There's one bolt that can't be seen from the ground (it's in one of the big huecos), so remember to bring a 'draw for it.    Due to its central location and easy grade this is possibly the most popular route at Smith Rock.  There is almost always a rope up on it and a crowd of people at the base.  It receives early morning sun and keeps it all day, making it a good starting point for the cold days.</td>\n",
       "      <td>{107503482: 4, 106834150: 4, 106560817: 4, 10116: 4, 105787493: 4, 105789175: 4, 107083009: 4, 106162549: 4, 105809872: 4, 107305609: 4, 105960937: 4, 105817062: 4, 106156272: 4, 14568: 4, 105878024: 4, 107250964: 4, 107111301: 4, 12407: 4, 105906559: 4, 107641541: 4, 107547214: 4, 107659386: 4, 11331: 4, 105937489: 4, 107383190: 4, 107741581: 4, 107568149: 4, 107539963: 4, 107390063: 4, 106702886: 4, 10431: 4, 107220219: 4, 107784044: 4, 106024234: 4, 107794181: 4, 107593475: 4, 106047496: 4, 107827482: 4, 107835001: 4, 106268558: 4, 107616008: 4, 106224129: 4, 105898385: 4, 106254516: 4, 106052853: 4, 107043617: 4, 106389541: 4, 106163972: 4, 107279580: 4, 105973110: 4, 106022334: 4, 106121271: 4, 106095805: 4, 106402803: 4, 10996: 4, 106489905: 4, 105894806: 4, 106046876: 4, 106477440: 4, 105982463: 4, 106174050: 4, 105825953: 4, 106046804: 4, 106718153: 4, 106817619: 4, 106489440: 4, 106761267: 4, 106858993: 4, 106860568: 4, 105846944: 4, 106761693: 4, 106767831: 4, 106506620: 4, 106632496: 4, 107086587: 4, 106202961: 4, 106486749: 4, 106892642: 4, 106776142: 4, 106847186: 4, 106892871: 4, 107138006: 4, 107370513: 4, 107120404: 4, 107075029: 4, 106476607: 4, 107370614: 4, 107402621: 4, 107408147: 4, 107578430: 4, 108046160: 4, 108036385: 4, 107712333: 4, 107967634: 4, 108120859: 4, 106102182: 4, 107607301: 4, 105873502: 4, 106601971: 4, 108197152: 4, ...}</td>\n",
       "      <td>13</td>\n",
       "      <td>Oregon</td>\n",
       "      <td>Morning Glory Wall</td>\n",
       "    </tr>\n",
       "    <tr>\n",
       "      <th>4</th>\n",
       "      <td>105717364</td>\n",
       "      <td>1094</td>\n",
       "      <td>Supercrack of the Desert</td>\n",
       "      <td>Trad</td>\n",
       "      <td>105716946</td>\n",
       "      <td>5.10</td>\n",
       "      <td>Unspecified</td>\n",
       "      <td>3</td>\n",
       "      <td>3.8</td>\n",
       "      <td>1097</td>\n",
       "      <td>This route is, well, super.Originally named Luxury Liner, this line has adopted the name Super Crack. Climb up the side of the detached flake (1.5 or 2 Friend) through the awkward crux (maybe 10c) to a top-of-the-flake ledge right below the crack. Although decent gear is available, groundfalls have occurred here, so heads-up. Climb the crack (sustained 5.9) for 80 feet, past the roof to a bolted anchor. While I typically don't like to give away the detailed beta, I'll make an exception here: hand jam, foot jam, hand jam, foot jam ... The crack widens a bit for the last 15 feet, so depending on the size of your mitts, you may have to revise this beta to include a cupped hand or two, and maybe even a fist.A 60m rope will just barely reach from the anchor for the rappel/TR. While it probably goes without saying, TR through draws and not the anchor.New full-length film from Rock and Ice on the first ascent of this line: rockandice.com/videos/climb…</td>\n",
       "      <td>{10141: 4, 106910895: 4, 107075506: 4, 106013776: 4, 107088550: 4, 106637976: 4, 106817666: 4, 105805707: 4, 106246445: 4, 107423531: 4, 106831774: 4, 106168317: 4, 106569465: 4, 107411285: 4, 14259: 4, 105787222: 4, 105788208: 4, 107508091: 4, 106622079: 4, 107566018: 4, 105787249: 4, 106840388: 4, 106874601: 4, 107572777: 4, 105807036: 4, 105792600: 4, 105789175: 4, 12494: 4, 105823132: 4, 106852268: 4, 14213: 4, 106985478: 4, 106162275: 4, 105802806: 4, 106059834: 4, 106535625: 4, 106484179: 4, 11524: 4, 105801559: 4, 105808302: 4, 107580987: 4, 106494505: 4, 11965: 4, 105887867: 4, 105863852: 4, 11287: 4, 106945549: 4, 10168: 4, 107572993: 4, 107314708: 4, 15142: 4, 105904878: 4, 14004: 4, 107512758: 4, 105872504: 4, 105937220: 4, 105890157: 4, 105797501: 4, 105829161: 4, 105797852: 4, 105936281: 4, 106838734: 4, 105812440: 4, 107410513: 4, 105787663: 4, 105849409: 4, 107737637: 4, 106000707: 4, 106380853: 4, 11029: 4, 105912775: 4, 107780032: 4, 107697400: 4, 13937: 4, 107256360: 4, 106493734: 4, 105915753: 4, 105843822: 4, 107088893: 4, 105846944: 4, 14977: 4, 13471: 4, 13055: 4, 106035843: 4, 13914: 4, 107745015: 4, 107254869: 4, 107545719: 4, 11563: 4, 106893421: 4, 107562804: 4, 105887231: 4, 105946742: 4, 107755807: 4, 105856868: 4, 106512094: 4, 105950084: 4, 106489136: 4, 106058154: 4, 106141870: 4, ...}</td>\n",
       "      <td>22</td>\n",
       "      <td>Utah</td>\n",
       "      <td>Supercrack Buttress</td>\n",
       "    </tr>\n",
       "  </tbody>\n",
       "</table>\n",
       "</div>"
      ],
      "text/plain": [
       "    route_id  user_id                route_name   type    area_id grade  \\\n",
       "0  105748490     1839        The Bastille Crack   Trad  105744723   5.7   \n",
       "1  105750106     1343                 Rewritten   Trad  105807704   5.7   \n",
       "2  105717367     1143     Incredible Hand Crack   Trad  105716946  5.10   \n",
       "3  105789060     1113          5 Gallon Buckets  Sport  105789057   5.8   \n",
       "4  105717364     1094  Supercrack of the Desert   Trad  105716946  5.10   \n",
       "\n",
       "        height  pitches  score  votes  \\\n",
       "0          350        5    3.5   1842   \n",
       "1          650        6    3.7   1346   \n",
       "2          100        1    3.8   1147   \n",
       "3           60        1    3.2   1117   \n",
       "4  Unspecified        3    3.8   1097   \n",
       "\n",
       "                                                                                                                                                                                                                                                                                                                                                                                                                                                                                                                                                                                                                                                                                                                                                                                                                                                                                                                                                                                                                                                                                                                                                                                                                                                                                                                                                                                                                                                                                                                                                                                                                                                                                                                                                                                                                                                                                                                                                                                                                                                                                                                                                                                                                                                                                                                                                                                                                                                                                                                                                                                                                                                                                                                                                                                                                                                                                                                                                                                                                                                                                                                                                                                                                                                                                                                  description  \\\n",
       "0  One of the most classic climbs in the country, it begins right off the road on the Bastille, a 350' cliff on the left as you enter the canyon. Often crowded, a weekday is probably the best time to attempt this climb.  The climb is north facing and in the shade until mid-afternoon. As Jim Erickson said in his classic 1980 Rocky Heights guidebook, \"avoid it like the plague if the weather is not warm, or you will shiver away much of its charm.\"  Start at the center of the north face of the Bastille, below a hand crack that starts 20' up the wall, with a huge, serrated flake to its right.  The first pitch has been the site of numerous accidents, so make sure you're solid on 5.7 crack climbing and placing pro before attempting to lead it.  P1. 5.7, 60'. Climb up to the flake and step left to the crack. Jam or layback up the polished crack (crux), then follow the crack up and left to a small stance at a 2-bolt anchor with chains. You can belay here (if you want to watch/coach your second through the crux), or continue with the second pitch.  P2. 5.6, 90'. Climb up to the chimney left of the bolts, and step left onto the face. Climb up to a finger crack, then traverse right above a little roof (crux). Continue up steep, enjoyable cracks and angle up left on easy ground to a sloping ledge by a steep wall. Belay at a crack with a fixed pin. If this belay is occupied, it's possible to belay about 20' lower at another stance.  Variation: near the top of P2, take a right-angling wide crack up and back left, 5.8. Bring a big cam (#4 Camalot) to protect this line.  P1 & P2 can be combined with a 50m rope.  P3. 5.7, 50'. Climb up into a pod, then work up past a small roof (crux). Continue up the cracks to another sloping ledge. A #1 and #2 Camalot are useful for the belay anchor.  P1-3 can be combined with a 70m rope.  P4. 5.6, 100'. Traverse left to a short corner with a destroyed fixed pin. Continue traversing left on awkward, off-balance moves past another fixed pin (crux). Go all the way left to a hand crack and climb it to a corner. Don't start up too soon or you'll be off route on a harder variation. Climb the corner, then continue up and right on easy ramps to a belay stance below or just right of a chimney.  P5. Several options here:  a. Easy finish: 5.4, 60'. Climb the chimney to the top.  b. Fun finish: 5.8, 80'. Climb up a ramp right of the chimney to a huge corner with a wide crack. Climb up the face left of the corner to a fixed pin. Continue up the steep headwall and surmount a little roof at the top (crux). If you have a #3 and #4 Camalot, you can belay just above the roof (and watch/coach your second at the crux roof), otherwise continue up an easy gully and belay from a spike of rock at the top.  c. Grovel finish: 5.7, 80'. Climb the wide crack in the corner just right of the previous variation.  To descend: follow deep grooves to the south until you reach a dirt trail. Go 30' right (west) and then follow the marked Bastille descent trail north and down to the road at the base of the cliff.  (Ed. Note: beginner leaders--make sure you're solid on crack techique before trying this one. Placing gear is not trivial for the inexperienced.)   \n",
       "1                                                                                                                                                                                                                                                                                                                                                                                                                                                                                                                                                                                                                                                                                                                                                                                                                                                                                                                                                                                                                                                                                                                                                                                                                                                                                                                                                                                                                                                                                                                                                                                                                                                                                                                                                                                                                                             This is another excellent classic on Redgarden. Six pitches takes you to the summit of the Middle Buttress via Rebuffat's Arete. Start at the base of the West Chimney below the Middle Buttress about 15 feet left of an alcove.  P1 is a steep start but only 5.6 up a nice crack (~110 feet). There are two cracks starting here. The thinner crack on the right is The Great Zot (8+) and is one of my favorite 5.8s in Eldo. Take your pick.  P2. Climb an easy pitch up to the Red Ledge arcing left. Look for a large eyebolt.  P3. Continue up the left-facing dihedral to a belay stance on the right (6).  P4. This is the crux and most exciting pitch. From the belay, traverse the hand crack left, pull around the arete, and continue up the steep and exposed hand crack. Belay on a ledge to the left of where previously existed a large, detached block or the right. Caution: this block fell down; this 6 foot high piece of rock used to rock back and forth if you pulled on it!  P5. Follow the crack to the R (5) or straight (8) up Rebuffat's Arete. The arete is recommended as it more spectacular. Belay at a tree in the large V on the left.  P6. Find a clean, 5.5 crack to the summit. This is a great short pitch also with a nice view and bomber gear.  Descent: downclimb a notch to the North back to the West side of Redgarden Wall. The notch is beyond several towers to the NW. If it doesn't look like easy 4th Class, keep going.   \n",
       "2                                                                                                                                                                                                                                                                                                                                                                                                                                                                                                                                                                                                                                                                                                                                                                                                                                                                                                                                                                                                                                                                                                                                                                                                                                                                                                                                                                                                                                                                                                                                                                                                                                                                                                                                                                                                                                                                                                                                                                                                                                                                                                                                                                                                                                                                                                                                                                                                                                                                                                                                                                                                                                                                                                                                                                                                                                                                                             Route starts at the top of the trail from the parking lot to Supercrack Buttress.  Follows the obvious chalked hand crack in a corner through a large overhang.  Lieback up the corner to the roof.  Jam out the roof with perfect hands (crux) to a great rest at the end (#3 Camalot).  Finish up the corner to a bolt anchor at 95 feet.  It really is incredible!  Get there early because lines will form on the weekends.   \n",
       "3                                                                                                                                                                                                                                                                                                                                                                                                                                                                                                                                                                                                                                                                                                                                                                                                                                                                                                                                                                                                                                                                                                                                                                                                                                                                                                                                                                                                                                                                                                                                                                                                                                                                                                                                                                                                                                                                                                                                                                                                                                                                                                                                                                                                                                                                                                                                                                                                                                                                                                                                                                              The huge huecos of 5 Gallon Buckets are often the first piece of rock that a climber touches on his or her first trip to the park.  The fun and consistent 5.8 climbing is straightforward and enjoyable as a warmup or a toprope.  A Smith classic!    This is the left-most route on the big huecoed section of the wall.  There's one bolt that can't be seen from the ground (it's in one of the big huecos), so remember to bring a 'draw for it.    Due to its central location and easy grade this is possibly the most popular route at Smith Rock.  There is almost always a rope up on it and a crowd of people at the base.  It receives early morning sun and keeps it all day, making it a good starting point for the cold days.   \n",
       "4                                                                                                                                                                                                                                                                                                                                                                                                                                                                                                                                                                                                                                                                                                                                                                                                                                                                                                                                                                                                                                                                                                                                                                                                                                                                                                                                                                                                                                                                                                                                                                                                                                                                                                                                                                                                                                                                                                                                                                                                                                                                                                                                                                                                                                                                                                                              This route is, well, super.Originally named Luxury Liner, this line has adopted the name Super Crack. Climb up the side of the detached flake (1.5 or 2 Friend) through the awkward crux (maybe 10c) to a top-of-the-flake ledge right below the crack. Although decent gear is available, groundfalls have occurred here, so heads-up. Climb the crack (sustained 5.9) for 80 feet, past the roof to a bolted anchor. While I typically don't like to give away the detailed beta, I'll make an exception here: hand jam, foot jam, hand jam, foot jam ... The crack widens a bit for the last 15 feet, so depending on the size of your mitts, you may have to revise this beta to include a cupped hand or two, and maybe even a fist.A 60m rope will just barely reach from the anchor for the rappel/TR. While it probably goes without saying, TR through draws and not the anchor.New full-length film from Rock and Ice on the first ascent of this line: rockandice.com/videos/climb…   \n",
       "\n",
       "                                                                                                                                                                                                                                                                                                                                                                                                                                                                                                                                                                                                                                                                                                                                                                                                                                                                                                                                                                                                                                                                                                                                                                                                                                                                                                                                                                                                                            star_ratings  \\\n",
       "0                                                                                                                      {105867487: 4, 106733454: 4, 10106: 4, 106692255: 4, 107066303: 4, 106740073: 4, 105787381: 4, 14185: 4, 14233: 4, 10114: 4, 11613: 4, 10520: 4, 106502223: 4, 106367966: 4, 11327: 4, 14209: 4, 105787407: 4, 105788780: 4, 106098377: 4, 106079202: 4, 105787249: 4, 11711: 4, 105793180: 4, 11466: 4, 106235451: 4, 10168: 4, 12407: 4, 105804873: 4, 106670905: 4, 107212777: 4, 105792600: 4, 105815478: 4, 13782: 4, 106945872: 4, 11916: 4, 106985478: 4, 14213: 4, 107521029: 4, 105790905: 4, 10762: 4, 106733673: 4, 105790750: 4, 107005232: 4, 106034624: 4, 106737176: 4, 105084823: 4, 107568252: 4, 12494: 4, 12448: 4, 105833163: 4, 105823335: 4, 10445: 4, 10769: 4, 11591: 4, 11344: 4, 105802320: 4, 105833454: 4, 11129: 4, 14193: 4, 106613611: 4, 105817062: 4, 105839281: 4, 10185: 4, 107578430: 4, 105825953: 4, 105811115: 4, 11181: 4, 107110253: 4, 10570: 4, 105794408: 4, 15116: 4, 10240: 4, 105860008: 4, 106842715: 4, 10351: 4, 105801073: 4, 105863852: 4, 105885105: 4, 105808302: 4, 11445: 4, 107032734: 4, 12121: 4, 105877184: 4, 106945549: 4, 105886042: 4, 107384266: 4, 107119857: 4, 107324472: 4, 106740767: 4, 107297633: 4, 107515236: 4, 14004: 4, 105890157: 4, 10481: 4, 105856868: 4, 107564909: 4, 107130114: 4, 106823395: 4, 105868316: 4, 13248: 4, ...}   \n",
       "1                                                                                                  {10102: 4, 107532284: 4, 107322231: 4, 107146196: 4, 11970: 4, 106706644: 4, 10797: 4, 12106: 4, 10962: 4, 11327: 4, 106156604: 4, 14185: 4, 106945872: 4, 105787249: 4, 11711: 4, 105792600: 4, 105883024: 4, 106670905: 4, 106001218: 4, 105802320: 4, 106565770: 4, 12494: 4, 105815478: 4, 107586857: 4, 106778384: 4, 106817666: 4, 14213: 4, 105813559: 4, 106576897: 4, 106339959: 4, 13954: 4, 105820266: 4, 106182300: 4, 105833853: 4, 12448: 4, 105824953: 4, 105964182: 4, 106211927: 4, 105083583: 4, 14193: 4, 105823335: 4, 105787381: 4, 105805621: 4, 10185: 4, 11466: 4, 105842979: 4, 11750: 4, 105819862: 4, 10240: 4, 105788806: 4, 12121: 4, 10186: 4, 105847271: 4, 105856868: 4, 11916: 4, 107124671: 4, 106945549: 4, 107237750: 4, 105828229: 4, 107515236: 4, 106434400: 4, 106736532: 4, 105849409: 4, 105846774: 4, 107161888: 4, 105841324: 4, 105853415: 4, 11246: 4, 10570: 4, 105812678: 4, 105905885: 4, 106192485: 4, 105899017: 4, 105829161: 4, 15093: 4, 106489988: 4, 13937: 4, 107540372: 4, 105860008: 4, 105898612: 4, 13111: 4, 10996: 4, 14281: 4, 107237572: 4, 107745681: 4, 107733639: 4, 107116332: 4, 105995286: 4, 107530257: 4, 105989024: 4, 105843498: 4, 106934094: 4, 105939248: 4, 106017527: 4, 14152: 4, 107749506: 4, 105807065: 4, 11802: 4, 10405: 4, 106055829: 4, ...}   \n",
       "2                                                                      {10124: 4, 10102: 4, 105990845: 4, 106910895: 4, 106129363: 4, 107075506: 4, 107300420: 4, 106637976: 4, 105805707: 4, 106246445: 4, 105884543: 4, 105812457: 4, 106831774: 4, 106168317: 4, 106404987: 4, 106569465: 4, 12622: 4, 14259: 4, 10788: 4, 105787222: 4, 105787249: 4, 105788208: 4, 105789816: 4, 107508091: 4, 107566018: 4, 105863172: 4, 106874601: 4, 107572777: 4, 105792600: 4, 106560803: 4, 105793180: 4, 105789175: 4, 12494: 4, 11287: 4, 105823132: 4, 106813046: 4, 106852268: 4, 14213: 4, 105842259: 4, 106985478: 4, 107521029: 4, 106162275: 4, 107075029: 4, 105817503: 4, 106484179: 4, 10185: 4, 11524: 4, 106351162: 4, 12448: 4, 105866515: 4, 12194: 4, 11965: 4, 10481: 4, 105887867: 4, 106945549: 4, 11469: 4, 10168: 4, 107314708: 4, 105870586: 4, 15142: 4, 105904878: 4, 105912413: 4, 105924761: 4, 14004: 4, 106337255: 4, 105829161: 4, 105797852: 4, 105863852: 4, 105936281: 4, 106838734: 4, 105929502: 4, 105812440: 4, 107410513: 4, 105787663: 4, 105849409: 4, 107737637: 4, 105976663: 4, 106380853: 4, 11029: 4, 107512665: 4, 14582: 4, 105868415: 4, 105912775: 4, 105795871: 4, 107256360: 4, 105939978: 4, 106493734: 4, 106506620: 4, 11246: 4, 13914: 4, 107745015: 4, 106874511: 4, 107254869: 4, 107419681: 4, 107545719: 4, 11563: 4, 106893421: 4, 107562804: 4, 106530958: 4, 105915753: 4, ...}   \n",
       "3  {107503482: 4, 106834150: 4, 106560817: 4, 10116: 4, 105787493: 4, 105789175: 4, 107083009: 4, 106162549: 4, 105809872: 4, 107305609: 4, 105960937: 4, 105817062: 4, 106156272: 4, 14568: 4, 105878024: 4, 107250964: 4, 107111301: 4, 12407: 4, 105906559: 4, 107641541: 4, 107547214: 4, 107659386: 4, 11331: 4, 105937489: 4, 107383190: 4, 107741581: 4, 107568149: 4, 107539963: 4, 107390063: 4, 106702886: 4, 10431: 4, 107220219: 4, 107784044: 4, 106024234: 4, 107794181: 4, 107593475: 4, 106047496: 4, 107827482: 4, 107835001: 4, 106268558: 4, 107616008: 4, 106224129: 4, 105898385: 4, 106254516: 4, 106052853: 4, 107043617: 4, 106389541: 4, 106163972: 4, 107279580: 4, 105973110: 4, 106022334: 4, 106121271: 4, 106095805: 4, 106402803: 4, 10996: 4, 106489905: 4, 105894806: 4, 106046876: 4, 106477440: 4, 105982463: 4, 106174050: 4, 105825953: 4, 106046804: 4, 106718153: 4, 106817619: 4, 106489440: 4, 106761267: 4, 106858993: 4, 106860568: 4, 105846944: 4, 106761693: 4, 106767831: 4, 106506620: 4, 106632496: 4, 107086587: 4, 106202961: 4, 106486749: 4, 106892642: 4, 106776142: 4, 106847186: 4, 106892871: 4, 107138006: 4, 107370513: 4, 107120404: 4, 107075029: 4, 106476607: 4, 107370614: 4, 107402621: 4, 107408147: 4, 107578430: 4, 108046160: 4, 108036385: 4, 107712333: 4, 107967634: 4, 108120859: 4, 106102182: 4, 107607301: 4, 105873502: 4, 106601971: 4, 108197152: 4, ...}   \n",
       "4                                              {10141: 4, 106910895: 4, 107075506: 4, 106013776: 4, 107088550: 4, 106637976: 4, 106817666: 4, 105805707: 4, 106246445: 4, 107423531: 4, 106831774: 4, 106168317: 4, 106569465: 4, 107411285: 4, 14259: 4, 105787222: 4, 105788208: 4, 107508091: 4, 106622079: 4, 107566018: 4, 105787249: 4, 106840388: 4, 106874601: 4, 107572777: 4, 105807036: 4, 105792600: 4, 105789175: 4, 12494: 4, 105823132: 4, 106852268: 4, 14213: 4, 106985478: 4, 106162275: 4, 105802806: 4, 106059834: 4, 106535625: 4, 106484179: 4, 11524: 4, 105801559: 4, 105808302: 4, 107580987: 4, 106494505: 4, 11965: 4, 105887867: 4, 105863852: 4, 11287: 4, 106945549: 4, 10168: 4, 107572993: 4, 107314708: 4, 15142: 4, 105904878: 4, 14004: 4, 107512758: 4, 105872504: 4, 105937220: 4, 105890157: 4, 105797501: 4, 105829161: 4, 105797852: 4, 105936281: 4, 106838734: 4, 105812440: 4, 107410513: 4, 105787663: 4, 105849409: 4, 107737637: 4, 106000707: 4, 106380853: 4, 11029: 4, 105912775: 4, 107780032: 4, 107697400: 4, 13937: 4, 107256360: 4, 106493734: 4, 105915753: 4, 105843822: 4, 107088893: 4, 105846944: 4, 14977: 4, 13471: 4, 13055: 4, 106035843: 4, 13914: 4, 107745015: 4, 107254869: 4, 107545719: 4, 11563: 4, 106893421: 4, 107562804: 4, 105887231: 4, 105946742: 4, 107755807: 4, 105856868: 4, 106512094: 4, 105950084: 4, 106489136: 4, 106058154: 4, 106141870: 4, ...}   \n",
       "\n",
       "   grade_numeric     state                     area_name  \n",
       "0             10  Colorado         The Bastille - N Face  \n",
       "1             10  Colorado  Redgarden - Lumpe to the top  \n",
       "2             22      Utah           Supercrack Buttress  \n",
       "3             13    Oregon            Morning Glory Wall  \n",
       "4             22      Utah           Supercrack Buttress  "
      ]
     },
     "execution_count": 37,
     "metadata": {},
     "output_type": "execute_result"
    }
   ],
   "source": []
  },
  {
   "cell_type": "code",
   "execution_count": 22,
   "metadata": {},
   "outputs": [
    {
     "data": {
      "text/plain": [
       "state\n",
       "Nebraska          1.750000\n",
       "Rhode Island      2.131811\n",
       "New Jersey        2.165278\n",
       "Mississippi       2.224000\n",
       "Delaware          2.248276\n",
       "New Hampshire     2.276436\n",
       "Colorado          2.283199\n",
       "Kansas            2.307182\n",
       "Michigan          2.360055\n",
       "Maryland          2.373169\n",
       "Hawaii            2.405882\n",
       "Oklahoma          2.420437\n",
       "Minnesota         2.430488\n",
       "Vermont           2.434837\n",
       "Missouri          2.436022\n",
       "Utah              2.454886\n",
       "North Dakota      2.463830\n",
       "Indiana           2.487736\n",
       "Arkansas          2.504466\n",
       "Georgia           2.519556\n",
       "Ohio              2.530954\n",
       "Alabama           2.532568\n",
       "South Carolina    2.552174\n",
       "West Virginia     2.588259\n",
       "Oregon            2.598898\n",
       "Illinois          2.603312\n",
       "Wyoming           2.604683\n",
       "Kentucky          2.609094\n",
       "Maine             2.633266\n",
       "Iowa              2.680478\n",
       "Florida           2.896000\n",
       "Louisiana         3.333333\n",
       "Name: score, dtype: float64"
      ]
     },
     "execution_count": 22,
     "metadata": {},
     "output_type": "execute_result"
    }
   ],
   "source": [
    "routes.groupby('state')['score'].mean().sort_values(ascending = True)"
   ]
  },
  {
   "cell_type": "code",
   "execution_count": 21,
   "metadata": {},
   "outputs": [
    {
     "data": {
      "text/plain": [
       "<matplotlib.axes._subplots.AxesSubplot at 0x1288abfd0>"
      ]
     },
     "execution_count": 21,
     "metadata": {},
     "output_type": "execute_result"
    },
    {
     "data": {
      "image/png": "[encoded data removed]",
      "text/plain": [
       "<Figure size 432x288 with 1 Axes>"
      ]
     },
     "metadata": {
      "needs_background": "light"
     },
     "output_type": "display_data"
    }
   ],
   "source": [
    "\n",
    "routes.groupby('state')['score'].mean().sort_values(ascending = True).plot.barh()"
   ]
  },
  {
   "cell_type": "code",
   "execution_count": 14,
   "metadata": {},
   "outputs": [
    {
     "data": {
      "text/plain": [
       "(39367,)"
      ]
     },
     "execution_count": 14,
     "metadata": {},
     "output_type": "execute_result"
    }
   ],
   "source": [
    "ratings['user_id'].unique().shape"
   ]
  },
  {
   "cell_type": "code",
   "execution_count": null,
   "metadata": {},
   "outputs": [],
   "source": []
  },
  {
   "cell_type": "code",
   "execution_count": null,
   "metadata": {},
   "outputs": [],
   "source": []
  },
  {
   "cell_type": "code",
   "execution_count": 15,
   "metadata": {},
   "outputs": [],
   "source": [
    "routes.to_csv('./data/routes.csv', index = False)\n",
    "areas.to_csv('./data/areas.csv', index = False)\n",
    "ratings.to_csv('./data/ratings.csv', index = False)"
   ]
  },
  {
   "cell_type": "code",
   "execution_count": 16,
   "metadata": {},
   "outputs": [],
   "source": [
    "pickle.dump(area_tree, open('./pickle/area_tree.pkl', 'wb'))"
   ]
  },
  {
   "cell_type": "code",
   "execution_count": null,
   "metadata": {},
   "outputs": [],
   "source": [
    "routes['score'].mean()"
   ]
  },
  {
   "cell_type": "code",
   "execution_count": null,
   "metadata": {},
   "outputs": [],
   "source": [
    "routes['votes'].mean()"
   ]
  },
  {
   "cell_type": "code",
   "execution_count": null,
   "metadata": {},
   "outputs": [],
   "source": [
    "ratings['user_rating'].mean()"
   ]
  },
  {
   "cell_type": "code",
   "execution_count": null,
   "metadata": {},
   "outputs": [],
   "source": [
    "ratings.groupby('user_id').count().mean()"
   ]
  },
  {
   "cell_type": "code",
   "execution_count": null,
   "metadata": {},
   "outputs": [],
   "source": [
    "sns.regplot(data = routes, x = 'score', y = 'votes')"
   ]
  },
  {
   "cell_type": "code",
   "execution_count": 152,
   "metadata": {},
   "outputs": [
    {
     "data": {
      "text/plain": [
       "Text(0, 0.5, '')"
      ]
     },
     "execution_count": 152,
     "metadata": {},
     "output_type": "execute_result"
    },
    {
     "data": {
      "image/png": "[encoded data removed]",
      "text/plain": [
       "<Figure size 432x288 with 1 Axes>"
      ]
     },
     "metadata": {},
     "output_type": "display_data"
    }
   ],
   "source": [
    "ratings['user_rating'].value_counts().plot.pie(autopct='%1.1f%%')\n",
    "plt.title('User Ratings')\n",
    "plt.ylabel('')"
   ]
  },
  {
   "cell_type": "code",
   "execution_count": 60,
   "metadata": {},
   "outputs": [
    {
     "data": {
      "text/plain": [
       "Text(0.5, 1.0, 'Star Rating Counts')"
      ]
     },
     "execution_count": 60,
     "metadata": {},
     "output_type": "execute_result"
    },
    {
     "data": {
      "image/png": "[encoded data removed]",
      "text/plain": [
       "<Figure size 432x288 with 1 Axes>"
      ]
     },
     "metadata": {
      "needs_background": "light"
     },
     "output_type": "display_data"
    }
   ],
   "source": [
    "#myarray = ratings['user_rating']\n",
    "#weights = np.ones_like(myarray)/float(len(myarray))\n",
    "#plt.hist(myarray, weights=weights, edgecolor = 'black')\n",
    "ratings['user_rating'].hist(bins = 5, grid=False,edgecolor = 'black', density = False)\n",
    "\n",
    "plt.xlabel('Star Rating')\n",
    "plt.ylabel('Count')\n",
    "plt.title('Star Rating Counts')"
   ]
  },
  {
   "cell_type": "code",
   "execution_count": null,
   "metadata": {},
   "outputs": [],
   "source": [
    "ratings.groupby('user_id').count()"
   ]
  },
  {
   "cell_type": "code",
   "execution_count": 75,
   "metadata": {},
   "outputs": [
    {
     "data": {
      "text/plain": [
       "<matplotlib.axes._subplots.AxesSubplot at 0x13281b860>"
      ]
     },
     "execution_count": 75,
     "metadata": {},
     "output_type": "execute_result"
    },
    {
     "data": {
      "image/png": "[encoded data removed]",
      "text/plain": [
       "<Figure size 432x288 with 1 Axes>"
      ]
     },
     "metadata": {
      "needs_background": "light"
     },
     "output_type": "display_data"
    }
   ],
   "source": [
    "sns.regplot( x = routes[routes['votes'] > 100]['score'], y = routes[routes['votes'] > 100]['votes'])"
   ]
  },
  {
   "cell_type": "code",
   "execution_count": 68,
   "metadata": {},
   "outputs": [
    {
     "data": {
      "text/plain": [
       "<matplotlib.collections.PathCollection at 0x1329424a8>"
      ]
     },
     "execution_count": 68,
     "metadata": {},
     "output_type": "execute_result"
    },
    {
     "data": {
      "image/png": "[encoded data removed]",
      "text/plain": [
       "<Figure size 432x288 with 1 Axes>"
      ]
     },
     "metadata": {
      "needs_background": "light"
     },
     "output_type": "display_data"
    }
   ],
   "source": [
    "plt.scatter( x = ratings.groupby('user_id').count()['user_rating'], y = ratings.groupby('user_id')['user_rating'].mean())"
   ]
  },
  {
   "cell_type": "code",
   "execution_count": 67,
   "metadata": {},
   "outputs": [
    {
     "data": {
      "text/plain": [
       "Text(0.5, 0, 'Average ratings')"
      ]
     },
     "execution_count": 67,
     "metadata": {},
     "output_type": "execute_result"
    },
    {
     "data": {
      "image/png": "[encoded data removed]",
      "text/plain": [
       "<Figure size 432x288 with 1 Axes>"
      ]
     },
     "metadata": {
      "needs_background": "light"
     },
     "output_type": "display_data"
    }
   ],
   "source": [
    "routes.groupby('type')['votes'].mean().sort_values(ascending = True).plot.barh()\n",
    "plt.title('Average number of user ratings by climb type')\n",
    "plt.xlabel('Average ratings')"
   ]
  },
  {
   "cell_type": "code",
   "execution_count": null,
   "metadata": {},
   "outputs": [],
   "source": []
  },
  {
   "cell_type": "code",
   "execution_count": 85,
   "metadata": {},
   "outputs": [
    {
     "data": {
      "text/html": [
       "<div>\n",
       "<style scoped>\n",
       "    .dataframe tbody tr th:only-of-type {\n",
       "        vertical-align: middle;\n",
       "    }\n",
       "\n",
       "    .dataframe tbody tr th {\n",
       "        vertical-align: top;\n",
       "    }\n",
       "\n",
       "    .dataframe thead th {\n",
       "        text-align: right;\n",
       "    }\n",
       "</style>\n",
       "<table border=\"1\" class=\"dataframe\">\n",
       "  <thead>\n",
       "    <tr style=\"text-align: right;\">\n",
       "      <th></th>\n",
       "      <th>route_name</th>\n",
       "      <th>type</th>\n",
       "      <th>pitches</th>\n",
       "      <th>score</th>\n",
       "      <th>votes</th>\n",
       "      <th>state</th>\n",
       "    </tr>\n",
       "  </thead>\n",
       "  <tbody>\n",
       "    <tr>\n",
       "      <th>74268</th>\n",
       "      <td>Spectreman</td>\n",
       "      <td>Trad</td>\n",
       "      <td>1</td>\n",
       "      <td>4.0</td>\n",
       "      <td>133</td>\n",
       "      <td>Wyoming</td>\n",
       "    </tr>\n",
       "    <tr>\n",
       "      <th>25425</th>\n",
       "      <td>Bullet the Blue Sky</td>\n",
       "      <td>Sport</td>\n",
       "      <td>1</td>\n",
       "      <td>4.0</td>\n",
       "      <td>79</td>\n",
       "      <td>Colorado</td>\n",
       "    </tr>\n",
       "    <tr>\n",
       "      <th>13170</th>\n",
       "      <td>Psychatomic</td>\n",
       "      <td>Sport</td>\n",
       "      <td>1</td>\n",
       "      <td>4.0</td>\n",
       "      <td>92</td>\n",
       "      <td>Colorado</td>\n",
       "    </tr>\n",
       "    <tr>\n",
       "      <th>56510</th>\n",
       "      <td>Sinestra</td>\n",
       "      <td>Trad</td>\n",
       "      <td>1</td>\n",
       "      <td>4.0</td>\n",
       "      <td>199</td>\n",
       "      <td>Utah</td>\n",
       "    </tr>\n",
       "    <tr>\n",
       "      <th>21561</th>\n",
       "      <td>The Scenic Cruise</td>\n",
       "      <td>Trad</td>\n",
       "      <td>13</td>\n",
       "      <td>4.0</td>\n",
       "      <td>224</td>\n",
       "      <td>Colorado</td>\n",
       "    </tr>\n",
       "    <tr>\n",
       "      <th>18342</th>\n",
       "      <td>Medicine Man</td>\n",
       "      <td>Trad</td>\n",
       "      <td>4</td>\n",
       "      <td>4.0</td>\n",
       "      <td>68</td>\n",
       "      <td>Colorado</td>\n",
       "    </tr>\n",
       "    <tr>\n",
       "      <th>25999</th>\n",
       "      <td>Wunsch's Dihedral</td>\n",
       "      <td>Trad</td>\n",
       "      <td>4</td>\n",
       "      <td>4.0</td>\n",
       "      <td>178</td>\n",
       "      <td>Colorado</td>\n",
       "    </tr>\n",
       "    <tr>\n",
       "      <th>2577</th>\n",
       "      <td>Gracious Grant</td>\n",
       "      <td>Sport</td>\n",
       "      <td>1</td>\n",
       "      <td>4.0</td>\n",
       "      <td>53</td>\n",
       "      <td>Arkansas</td>\n",
       "    </tr>\n",
       "    <tr>\n",
       "      <th>69466</th>\n",
       "      <td>Leave it to Jesus</td>\n",
       "      <td>Trad</td>\n",
       "      <td>1</td>\n",
       "      <td>4.0</td>\n",
       "      <td>58</td>\n",
       "      <td>West Virginia</td>\n",
       "    </tr>\n",
       "    <tr>\n",
       "      <th>7286</th>\n",
       "      <td>Death and Transfiguration</td>\n",
       "      <td>Trad</td>\n",
       "      <td>1</td>\n",
       "      <td>4.0</td>\n",
       "      <td>93</td>\n",
       "      <td>Colorado</td>\n",
       "    </tr>\n",
       "  </tbody>\n",
       "</table>\n",
       "</div>"
      ],
      "text/plain": [
       "                      route_name   type  pitches  score  votes          state\n",
       "74268                 Spectreman   Trad        1    4.0    133        Wyoming\n",
       "25425        Bullet the Blue Sky  Sport        1    4.0     79       Colorado\n",
       "13170                Psychatomic  Sport        1    4.0     92       Colorado\n",
       "56510                   Sinestra   Trad        1    4.0    199           Utah\n",
       "21561          The Scenic Cruise   Trad       13    4.0    224       Colorado\n",
       "18342               Medicine Man   Trad        4    4.0     68       Colorado\n",
       "25999          Wunsch's Dihedral   Trad        4    4.0    178       Colorado\n",
       "2577              Gracious Grant  Sport        1    4.0     53       Arkansas\n",
       "69466          Leave it to Jesus   Trad        1    4.0     58  West Virginia\n",
       "7286   Death and Transfiguration   Trad        1    4.0     93       Colorado"
      ]
     },
     "execution_count": 85,
     "metadata": {},
     "output_type": "execute_result"
    }
   ],
   "source": [
    "routes[routes['votes'] > 50].sort_values('score', ascending = False)[['route_name','type', 'pitches','score','votes','state']].head(10)"
   ]
  },
  {
   "cell_type": "code",
   "execution_count": 109,
   "metadata": {},
   "outputs": [],
   "source": [
    "boulder_grades = pd.read_csv('./data/boulder_grades.csv')\n",
    "climb_grades = pd.read_csv('./data/climb_grades.csv')\n",
    "    \n",
    "    \n",
    "grade_dict = {v:k for k,v in climb_grades.to_dict()['grade'].items()}\n",
    "#grade_dict.update({v:k for k,v in climb_grades.to_dict()['grade'].items()})"
   ]
  },
  {
   "cell_type": "code",
   "execution_count": 107,
   "metadata": {},
   "outputs": [
    {
     "data": {
      "text/plain": [
       "5.10a    63768\n",
       "5.9      57940\n",
       "5.8      50863\n",
       "5.10b    46146\n",
       "5.11a    40308\n",
       "         ...  \n",
       "5.15         1\n",
       "V10          1\n",
       "V1           1\n",
       "V3-4         1\n",
       "V3           1\n",
       "Name: grade, Length: 76, dtype: int64"
      ]
     },
     "execution_count": 107,
     "metadata": {},
     "output_type": "execute_result"
    }
   ],
   "source": [
    "ratings[ratings['type'] == 'Sport']['grade'].value_counts()"
   ]
  },
  {
   "cell_type": "code",
   "execution_count": 117,
   "metadata": {},
   "outputs": [
    {
     "ename": "KeyError",
     "evalue": "'grade_num'",
     "output_type": "error",
     "traceback": [
      "\u001b[0;31m---------------------------------------------------------------------------\u001b[0m",
      "\u001b[0;31mKeyError\u001b[0m                                  Traceback (most recent call last)",
      "\u001b[0;32m<ipython-input-117-123d22c8a30a>\u001b[0m in \u001b[0;36m<module>\u001b[0;34m\u001b[0m\n\u001b[0;32m----> 1\u001b[0;31m \u001b[0mratings\u001b[0m\u001b[0;34m[\u001b[0m\u001b[0;34m(\u001b[0m\u001b[0mratings\u001b[0m\u001b[0;34m[\u001b[0m\u001b[0;34m'type'\u001b[0m\u001b[0;34m]\u001b[0m \u001b[0;34m==\u001b[0m \u001b[0;34m'Sport'\u001b[0m\u001b[0;34m)\u001b[0m \u001b[0;34m&\u001b[0m \u001b[0;34m(\u001b[0m\u001b[0mratings\u001b[0m\u001b[0;34m[\u001b[0m\u001b[0;34m'grade'\u001b[0m\u001b[0;34m]\u001b[0m\u001b[0;34m.\u001b[0m\u001b[0misin\u001b[0m\u001b[0;34m(\u001b[0m\u001b[0mgrade_dict\u001b[0m\u001b[0;34m.\u001b[0m\u001b[0mkeys\u001b[0m\u001b[0;34m(\u001b[0m\u001b[0;34m)\u001b[0m\u001b[0;34m)\u001b[0m\u001b[0;34m)\u001b[0m\u001b[0;34m]\u001b[0m\u001b[0;34m.\u001b[0m\u001b[0mgroupby\u001b[0m\u001b[0;34m(\u001b[0m\u001b[0;34m[\u001b[0m\u001b[0;34m'grade_num'\u001b[0m\u001b[0;34m]\u001b[0m\u001b[0;34m)\u001b[0m\u001b[0;34m[\u001b[0m\u001b[0;34m'score'\u001b[0m\u001b[0;34m]\u001b[0m\u001b[0;34m.\u001b[0m\u001b[0mmean\u001b[0m\u001b[0;34m(\u001b[0m\u001b[0;34m)\u001b[0m\u001b[0;34m.\u001b[0m\u001b[0mreset_index\u001b[0m\u001b[0;34m(\u001b[0m\u001b[0;34m)\u001b[0m\u001b[0;34m\u001b[0m\u001b[0;34m\u001b[0m\u001b[0m\n\u001b[0m",
      "\u001b[0;32m/Library/Frameworks/Python.framework/Versions/3.7/lib/python3.7/site-packages/pandas/core/frame.py\u001b[0m in \u001b[0;36mgroupby\u001b[0;34m(self, by, axis, level, as_index, sort, group_keys, squeeze, observed, dropna)\u001b[0m\n\u001b[1;32m   6523\u001b[0m             \u001b[0msqueeze\u001b[0m\u001b[0;34m=\u001b[0m\u001b[0msqueeze\u001b[0m\u001b[0;34m,\u001b[0m\u001b[0;34m\u001b[0m\u001b[0;34m\u001b[0m\u001b[0m\n\u001b[1;32m   6524\u001b[0m             \u001b[0mobserved\u001b[0m\u001b[0;34m=\u001b[0m\u001b[0mobserved\u001b[0m\u001b[0;34m,\u001b[0m\u001b[0;34m\u001b[0m\u001b[0;34m\u001b[0m\u001b[0m\n\u001b[0;32m-> 6525\u001b[0;31m             \u001b[0mdropna\u001b[0m\u001b[0;34m=\u001b[0m\u001b[0mdropna\u001b[0m\u001b[0;34m,\u001b[0m\u001b[0;34m\u001b[0m\u001b[0;34m\u001b[0m\u001b[0m\n\u001b[0m\u001b[1;32m   6526\u001b[0m         )\n\u001b[1;32m   6527\u001b[0m \u001b[0;34m\u001b[0m\u001b[0m\n",
      "\u001b[0;32m/Library/Frameworks/Python.framework/Versions/3.7/lib/python3.7/site-packages/pandas/core/groupby/groupby.py\u001b[0m in \u001b[0;36m__init__\u001b[0;34m(self, obj, keys, axis, level, grouper, exclusions, selection, as_index, sort, group_keys, squeeze, observed, mutated, dropna)\u001b[0m\n\u001b[1;32m    531\u001b[0m                 \u001b[0mobserved\u001b[0m\u001b[0;34m=\u001b[0m\u001b[0mobserved\u001b[0m\u001b[0;34m,\u001b[0m\u001b[0;34m\u001b[0m\u001b[0;34m\u001b[0m\u001b[0m\n\u001b[1;32m    532\u001b[0m                 \u001b[0mmutated\u001b[0m\u001b[0;34m=\u001b[0m\u001b[0mself\u001b[0m\u001b[0;34m.\u001b[0m\u001b[0mmutated\u001b[0m\u001b[0;34m,\u001b[0m\u001b[0;34m\u001b[0m\u001b[0;34m\u001b[0m\u001b[0m\n\u001b[0;32m--> 533\u001b[0;31m                 \u001b[0mdropna\u001b[0m\u001b[0;34m=\u001b[0m\u001b[0mself\u001b[0m\u001b[0;34m.\u001b[0m\u001b[0mdropna\u001b[0m\u001b[0;34m,\u001b[0m\u001b[0;34m\u001b[0m\u001b[0;34m\u001b[0m\u001b[0m\n\u001b[0m\u001b[1;32m    534\u001b[0m             )\n\u001b[1;32m    535\u001b[0m \u001b[0;34m\u001b[0m\u001b[0m\n",
      "\u001b[0;32m/Library/Frameworks/Python.framework/Versions/3.7/lib/python3.7/site-packages/pandas/core/groupby/grouper.py\u001b[0m in \u001b[0;36mget_grouper\u001b[0;34m(obj, key, axis, level, sort, observed, mutated, validate, dropna)\u001b[0m\n\u001b[1;32m    784\u001b[0m                 \u001b[0min_axis\u001b[0m\u001b[0;34m,\u001b[0m \u001b[0mname\u001b[0m\u001b[0;34m,\u001b[0m \u001b[0mlevel\u001b[0m\u001b[0;34m,\u001b[0m \u001b[0mgpr\u001b[0m \u001b[0;34m=\u001b[0m \u001b[0;32mFalse\u001b[0m\u001b[0;34m,\u001b[0m \u001b[0;32mNone\u001b[0m\u001b[0;34m,\u001b[0m \u001b[0mgpr\u001b[0m\u001b[0;34m,\u001b[0m \u001b[0;32mNone\u001b[0m\u001b[0;34m\u001b[0m\u001b[0;34m\u001b[0m\u001b[0m\n\u001b[1;32m    785\u001b[0m             \u001b[0;32melse\u001b[0m\u001b[0;34m:\u001b[0m\u001b[0;34m\u001b[0m\u001b[0;34m\u001b[0m\u001b[0m\n\u001b[0;32m--> 786\u001b[0;31m                 \u001b[0;32mraise\u001b[0m \u001b[0mKeyError\u001b[0m\u001b[0;34m(\u001b[0m\u001b[0mgpr\u001b[0m\u001b[0;34m)\u001b[0m\u001b[0;34m\u001b[0m\u001b[0;34m\u001b[0m\u001b[0m\n\u001b[0m\u001b[1;32m    787\u001b[0m         \u001b[0;32melif\u001b[0m \u001b[0misinstance\u001b[0m\u001b[0;34m(\u001b[0m\u001b[0mgpr\u001b[0m\u001b[0;34m,\u001b[0m \u001b[0mGrouper\u001b[0m\u001b[0;34m)\u001b[0m \u001b[0;32mand\u001b[0m \u001b[0mgpr\u001b[0m\u001b[0;34m.\u001b[0m\u001b[0mkey\u001b[0m \u001b[0;32mis\u001b[0m \u001b[0;32mnot\u001b[0m \u001b[0;32mNone\u001b[0m\u001b[0;34m:\u001b[0m\u001b[0;34m\u001b[0m\u001b[0;34m\u001b[0m\u001b[0m\n\u001b[1;32m    788\u001b[0m             \u001b[0;31m# Add key to exclusions\u001b[0m\u001b[0;34m\u001b[0m\u001b[0;34m\u001b[0m\u001b[0;34m\u001b[0m\u001b[0m\n",
      "\u001b[0;31mKeyError\u001b[0m: 'grade_num'"
     ]
    }
   ],
   "source": [
    "ratings[(ratings['type'] == 'Sport') & (ratings['grade'].isin(grade_dict.keys()))].groupby(['grade_num'])['score'].mean().reset_index()"
   ]
  },
  {
   "cell_type": "code",
   "execution_count": 129,
   "metadata": {},
   "outputs": [
    {
     "data": {
      "text/html": [
       "<div>\n",
       "<style scoped>\n",
       "    .dataframe tbody tr th:only-of-type {\n",
       "        vertical-align: middle;\n",
       "    }\n",
       "\n",
       "    .dataframe tbody tr th {\n",
       "        vertical-align: top;\n",
       "    }\n",
       "\n",
       "    .dataframe thead th {\n",
       "        text-align: right;\n",
       "    }\n",
       "</style>\n",
       "<table border=\"1\" class=\"dataframe\">\n",
       "  <thead>\n",
       "    <tr style=\"text-align: right;\">\n",
       "      <th></th>\n",
       "      <th>user_id</th>\n",
       "      <th>route_id</th>\n",
       "      <th>user_rating</th>\n",
       "      <th>route_name</th>\n",
       "      <th>type</th>\n",
       "      <th>area_id</th>\n",
       "      <th>grade</th>\n",
       "      <th>height</th>\n",
       "      <th>pitches</th>\n",
       "      <th>score</th>\n",
       "      <th>votes</th>\n",
       "      <th>description</th>\n",
       "      <th>grade_numeric</th>\n",
       "      <th>state</th>\n",
       "      <th>area_name</th>\n",
       "    </tr>\n",
       "  </thead>\n",
       "  <tbody>\n",
       "    <tr>\n",
       "      <th>1111739</th>\n",
       "      <td>106603878</td>\n",
       "      <td>116194036</td>\n",
       "      <td>1</td>\n",
       "      <td>B. Sears - Closed Project</td>\n",
       "      <td>Sport</td>\n",
       "      <td>105827602</td>\n",
       "      <td>5.15d</td>\n",
       "      <td>65</td>\n",
       "      <td>1</td>\n",
       "      <td>1.0</td>\n",
       "      <td>1</td>\n",
       "      <td>Closed Project on the face right of \"American Nightmare\".</td>\n",
       "      <td>76</td>\n",
       "      <td>Wyoming</td>\n",
       "      <td>Fairfield Central</td>\n",
       "    </tr>\n",
       "    <tr>\n",
       "      <th>1111785</th>\n",
       "      <td>200158755</td>\n",
       "      <td>116194014</td>\n",
       "      <td>4</td>\n",
       "      <td>Diluted Limelight - Project</td>\n",
       "      <td>Sport</td>\n",
       "      <td>105827602</td>\n",
       "      <td>5.15d</td>\n",
       "      <td>50</td>\n",
       "      <td>1</td>\n",
       "      <td>2.5</td>\n",
       "      <td>2</td>\n",
       "      <td>Project/roof.  Obvious.</td>\n",
       "      <td>76</td>\n",
       "      <td>Wyoming</td>\n",
       "      <td>Fairfield Central</td>\n",
       "    </tr>\n",
       "    <tr>\n",
       "      <th>1111786</th>\n",
       "      <td>106603878</td>\n",
       "      <td>116194014</td>\n",
       "      <td>1</td>\n",
       "      <td>Diluted Limelight - Project</td>\n",
       "      <td>Sport</td>\n",
       "      <td>105827602</td>\n",
       "      <td>5.15d</td>\n",
       "      <td>50</td>\n",
       "      <td>1</td>\n",
       "      <td>2.5</td>\n",
       "      <td>2</td>\n",
       "      <td>Project/roof.  Obvious.</td>\n",
       "      <td>76</td>\n",
       "      <td>Wyoming</td>\n",
       "      <td>Fairfield Central</td>\n",
       "    </tr>\n",
       "  </tbody>\n",
       "</table>\n",
       "</div>"
      ],
      "text/plain": [
       "           user_id   route_id  user_rating                   route_name  \\\n",
       "1111739  106603878  116194036            1    B. Sears - Closed Project   \n",
       "1111785  200158755  116194014            4  Diluted Limelight - Project   \n",
       "1111786  106603878  116194014            1  Diluted Limelight - Project   \n",
       "\n",
       "          type    area_id  grade height  pitches  score  votes  \\\n",
       "1111739  Sport  105827602  5.15d     65        1    1.0      1   \n",
       "1111785  Sport  105827602  5.15d     50        1    2.5      2   \n",
       "1111786  Sport  105827602  5.15d     50        1    2.5      2   \n",
       "\n",
       "                                                       description  \\\n",
       "1111739  Closed Project on the face right of \"American Nightmare\".   \n",
       "1111785                                    Project/roof.  Obvious.   \n",
       "1111786                                    Project/roof.  Obvious.   \n",
       "\n",
       "         grade_numeric    state          area_name  \n",
       "1111739             76  Wyoming  Fairfield Central  \n",
       "1111785             76  Wyoming  Fairfield Central  \n",
       "1111786             76  Wyoming  Fairfield Central  "
      ]
     },
     "execution_count": 129,
     "metadata": {},
     "output_type": "execute_result"
    }
   ],
   "source": [
    "ratings[ratings['grade_numeric']==76]"
   ]
  },
  {
   "cell_type": "code",
   "execution_count": 130,
   "metadata": {},
   "outputs": [
    {
     "data": {
      "text/plain": [
       "grade_numeric\n",
       "0     1.731102\n",
       "1     1.923614\n",
       "2     2.068366\n",
       "4     2.110072\n",
       "8     2.228381\n",
       "        ...   \n",
       "58    3.491066\n",
       "64    3.547059\n",
       "68    3.600000\n",
       "61    3.622785\n",
       "66    3.871429\n",
       "Name: score, Length: 71, dtype: float64"
      ]
     },
     "execution_count": 130,
     "metadata": {},
     "output_type": "execute_result"
    }
   ],
   "source": [
    "ratings[ratings['grade_numeric']!=76].groupby(['grade_numeric'])['score'].mean().sort_values().head(100)"
   ]
  },
  {
   "cell_type": "code",
   "execution_count": 146,
   "metadata": {},
   "outputs": [
    {
     "data": {
      "text/plain": [
       "Text(0.5, 0, 'grade')"
      ]
     },
     "execution_count": 146,
     "metadata": {},
     "output_type": "execute_result"
    },
    {
     "data": {
      "text/plain": [
       "<Figure size 720x720 with 0 Axes>"
      ]
     },
     "metadata": {},
     "output_type": "display_data"
    },
    {
     "data": {
      "image/png": "[encoded data removed]",
      "text/plain": [
       "<Figure size 576x432 with 1 Axes>"
      ]
     },
     "metadata": {
      "needs_background": "light"
     },
     "output_type": "display_data"
    }
   ],
   "source": [
    "plt.figure(figsize = (10,10))\n",
    "ratings[ratings['grade_numeric']!=76].groupby(['grade_numeric'])['score'].mean().reset_index().plot(kind = 'scatter', x = 'grade_numeric', y = 'score',  figsize = (8,6))\n",
    "\n",
    "plt.title('Scatterplot of rating vs grade')\n",
    "plt.ylabel('rating')\n",
    "plt.xlabel('grade')\n",
    "\n",
    "\n"
   ]
  },
  {
   "cell_type": "code",
   "execution_count": 124,
   "metadata": {},
   "outputs": [
    {
     "data": {
      "text/plain": [
       "<matplotlib.axes._subplots.AxesSubplot at 0x13a697d30>"
      ]
     },
     "execution_count": 124,
     "metadata": {},
     "output_type": "execute_result"
    },
    {
     "data": {
      "image/png": "[encoded data removed]",
      "text/plain": [
       "<Figure size 864x1080 with 1 Axes>"
      ]
     },
     "metadata": {
      "needs_background": "light"
     },
     "output_type": "display_data"
    }
   ],
   "source": [
    "plt.figure(figsize = (12,15))\n",
    "ratings[(ratings['type'] == 'Sport') & (ratings['grade'].isin(grade_dict.keys()))].groupby(['grade'])['score'].mean().sort_values().plot.barh()"
   ]
  },
  {
   "cell_type": "code",
   "execution_count": null,
   "metadata": {},
   "outputs": [],
   "source": []
  },
  {
   "cell_type": "code",
   "execution_count": null,
   "metadata": {},
   "outputs": [],
   "source": []
  },
  {
   "cell_type": "code",
   "execution_count": null,
   "metadata": {},
   "outputs": [],
   "source": [
    "ratings['user_rating'].value_counts(normalize=True)"
   ]
  },
  {
   "cell_type": "code",
   "execution_count": null,
   "metadata": {},
   "outputs": [],
   "source": [
    "routes['score'].hist(bins = 10, grid = False, density = 1)"
   ]
  },
  {
   "cell_type": "code",
   "execution_count": null,
   "metadata": {},
   "outputs": [],
   "source": [
    "routes['pitches'].hist(bins = 20, grid = False)"
   ]
  },
  {
   "cell_type": "code",
   "execution_count": null,
   "metadata": {},
   "outputs": [],
   "source": [
    "routes['pitches'].value_counts().sort_values('index', ascending = False)"
   ]
  },
  {
   "cell_type": "code",
   "execution_count": null,
   "metadata": {},
   "outputs": [],
   "source": [
    "routes.info()"
   ]
  },
  {
   "cell_type": "code",
   "execution_count": null,
   "metadata": {},
   "outputs": [],
   "source": [
    "areas.info()"
   ]
  },
  {
   "cell_type": "code",
   "execution_count": null,
   "metadata": {},
   "outputs": [],
   "source": [
    "ratings.info()"
   ]
  },
  {
   "cell_type": "code",
   "execution_count": null,
   "metadata": {},
   "outputs": [],
   "source": [
    "routes['route_id'].value_counts()"
   ]
  },
  {
   "cell_type": "code",
   "execution_count": null,
   "metadata": {},
   "outputs": [],
   "source": [
    "ratings.head()"
   ]
  },
  {
   "cell_type": "code",
   "execution_count": null,
   "metadata": {},
   "outputs": [],
   "source": [
    "len(routes['route_id'].unique()) "
   ]
  },
  {
   "cell_type": "code",
   "execution_count": null,
   "metadata": {},
   "outputs": [],
   "source": [
    "ratings.groupby('route_id')['user_rating'].mean().sort_values(ascending = False)"
   ]
  },
  {
   "cell_type": "code",
   "execution_count": null,
   "metadata": {},
   "outputs": [],
   "source": [
    "ratings[ratings['user_id'] == 10232]"
   ]
  },
  {
   "cell_type": "code",
   "execution_count": null,
   "metadata": {},
   "outputs": [],
   "source": [
    "ratings.groupby('user_id')['user_id'].count().sort_values()"
   ]
  },
  {
   "cell_type": "code",
   "execution_count": null,
   "metadata": {},
   "outputs": [],
   "source": [
    "from surprise import Reader, Dataset"
   ]
  },
  {
   "cell_type": "code",
   "execution_count": null,
   "metadata": {},
   "outputs": [],
   "source": [
    "ratings_10 = ratings[ratings.groupby('user_id')['user_id'].transform('size') >= 50]"
   ]
  },
  {
   "cell_type": "code",
   "execution_count": null,
   "metadata": {},
   "outputs": [],
   "source": [
    "(ratings_10['user_id'].value_counts() > 10)"
   ]
  },
  {
   "cell_type": "code",
   "execution_count": null,
   "metadata": {},
   "outputs": [],
   "source": [
    "ratings_10['user_id'].value_counts()"
   ]
  },
  {
   "cell_type": "code",
   "execution_count": null,
   "metadata": {},
   "outputs": [],
   "source": []
  },
  {
   "cell_type": "markdown",
   "metadata": {},
   "source": [
    "# Modeling"
   ]
  },
  {
   "cell_type": "code",
   "execution_count": 43,
   "metadata": {},
   "outputs": [
    {
     "data": {
      "text/plain": [
       "(34, 15)"
      ]
     },
     "execution_count": 43,
     "metadata": {},
     "output_type": "execute_result"
    }
   ],
   "source": [
    "ratings[ratings['user_id'] == 200503731].shape"
   ]
  },
  {
   "cell_type": "code",
   "execution_count": 89,
   "metadata": {},
   "outputs": [
    {
     "data": {
      "text/plain": [
       "75211"
      ]
     },
     "execution_count": 89,
     "metadata": {},
     "output_type": "execute_result"
    }
   ],
   "source": [
    "sum(ratings['route_id'].value_counts() >0)"
   ]
  },
  {
   "cell_type": "code",
   "execution_count": 101,
   "metadata": {},
   "outputs": [],
   "source": [
    "\n",
    "ratings2 = ratings[ratings['user_id'].isin(ratings['user_id'].value_counts()[ratings['user_id'].value_counts()>=10].index)]"
   ]
  },
  {
   "cell_type": "code",
   "execution_count": 71,
   "metadata": {},
   "outputs": [
    {
     "data": {
      "text/plain": [
       "105748490    1839\n",
       "105750106    1343\n",
       "105717367    1143\n",
       "105789060    1113\n",
       "105717364    1094\n",
       "             ... \n",
       "119899537       1\n",
       "119801249       1\n",
       "118775902       1\n",
       "108521519       1\n",
       "111241171       1\n",
       "Name: route_id, Length: 75211, dtype: int64"
      ]
     },
     "execution_count": 71,
     "metadata": {},
     "output_type": "execute_result"
    }
   ],
   "source": [
    "ratings['route_id'].value_counts()"
   ]
  },
  {
   "cell_type": "code",
   "execution_count": null,
   "metadata": {},
   "outputs": [],
   "source": [
    "ratings['route_id'].value_counts()"
   ]
  },
  {
   "cell_type": "code",
   "execution_count": 77,
   "metadata": {},
   "outputs": [
    {
     "ename": "AttributeError",
     "evalue": "'tuple' object has no attribute 'head'",
     "output_type": "error",
     "traceback": [
      "\u001b[0;31m---------------------------------------------------------------------------\u001b[0m",
      "\u001b[0;31mAttributeError\u001b[0m                            Traceback (most recent call last)",
      "\u001b[0;32m<ipython-input-77-2c066a2da566>\u001b[0m in \u001b[0;36m<module>\u001b[0;34m\u001b[0m\n\u001b[0;32m----> 1\u001b[0;31m \u001b[0mratings2\u001b[0m\u001b[0;34m.\u001b[0m\u001b[0mhead\u001b[0m\u001b[0;34m(\u001b[0m\u001b[0;34m)\u001b[0m\u001b[0;34m\u001b[0m\u001b[0;34m\u001b[0m\u001b[0m\n\u001b[0m",
      "\u001b[0;31mAttributeError\u001b[0m: 'tuple' object has no attribute 'head'"
     ]
    }
   ],
   "source": [
    "ratings2.head()"
   ]
  },
  {
   "cell_type": "code",
   "execution_count": 103,
   "metadata": {},
   "outputs": [
    {
     "data": {
      "text/plain": [
       "105748490    True\n",
       "105750106    True\n",
       "105717367    True\n",
       "105717364    True\n",
       "105748657    True\n",
       "             ... \n",
       "110991250    True\n",
       "107130143    True\n",
       "117622546    True\n",
       "106357015    True\n",
       "112120559    True\n",
       "Name: route_id, Length: 19723, dtype: bool"
      ]
     },
     "execution_count": 103,
     "metadata": {},
     "output_type": "execute_result"
    }
   ],
   "source": [
    "ratings2['route_id'].value_counts()>=10"
   ]
  },
  {
   "cell_type": "code",
   "execution_count": 102,
   "metadata": {},
   "outputs": [],
   "source": [
    "ratings2 = ratings2[ratings2['route_id'].isin(ratings2['route_id'].value_counts()[ratings2['route_id'].value_counts()>=10].index)]"
   ]
  },
  {
   "cell_type": "code",
   "execution_count": null,
   "metadata": {},
   "outputs": [],
   "source": [
    "ratings2[]"
   ]
  },
  {
   "cell_type": "code",
   "execution_count": 72,
   "metadata": {},
   "outputs": [
    {
     "ename": "TypeError",
     "evalue": "tuple indices must be integers or slices, not str",
     "output_type": "error",
     "traceback": [
      "\u001b[0;31m---------------------------------------------------------------------------\u001b[0m",
      "\u001b[0;31mTypeError\u001b[0m                                 Traceback (most recent call last)",
      "\u001b[0;32m<ipython-input-72-ecbba07067fd>\u001b[0m in \u001b[0;36m<module>\u001b[0;34m\u001b[0m\n\u001b[0;32m----> 1\u001b[0;31m \u001b[0mratings2\u001b[0m \u001b[0;34m=\u001b[0m \u001b[0mratings2\u001b[0m\u001b[0;34m[\u001b[0m\u001b[0mratings2\u001b[0m\u001b[0;34m[\u001b[0m\u001b[0;34m'route_id'\u001b[0m\u001b[0;34m]\u001b[0m\u001b[0;34m.\u001b[0m\u001b[0misin\u001b[0m\u001b[0;34m(\u001b[0m\u001b[0mratings2\u001b[0m\u001b[0;34m[\u001b[0m\u001b[0;34m'route_id'\u001b[0m\u001b[0;34m]\u001b[0m\u001b[0;34m.\u001b[0m\u001b[0mvalue_counts\u001b[0m\u001b[0;34m(\u001b[0m\u001b[0;34m)\u001b[0m\u001b[0;34m[\u001b[0m\u001b[0mratings2\u001b[0m\u001b[0;34m[\u001b[0m\u001b[0;34m'route_id'\u001b[0m\u001b[0;34m]\u001b[0m\u001b[0;34m.\u001b[0m\u001b[0mvalue_counts\u001b[0m\u001b[0;34m(\u001b[0m\u001b[0;34m)\u001b[0m\u001b[0;34m>\u001b[0m\u001b[0;36m30\u001b[0m\u001b[0;34m]\u001b[0m\u001b[0;34m.\u001b[0m\u001b[0mindex\u001b[0m\u001b[0;34m)\u001b[0m\u001b[0;34m]\u001b[0m\u001b[0;34m\u001b[0m\u001b[0;34m\u001b[0m\u001b[0m\n\u001b[0m\u001b[1;32m      2\u001b[0m \u001b[0;34m\u001b[0m\u001b[0m\n\u001b[1;32m      3\u001b[0m \u001b[0;34m\u001b[0m\u001b[0m\n",
      "\u001b[0;31mTypeError\u001b[0m: tuple indices must be integers or slices, not str"
     ]
    }
   ],
   "source": [
    "ratings2 = ratings2[ratings2['route_id'].isin(ratings2['route_id'].value_counts()[ratings2['route_id'].value_counts()>30].index)]\n",
    "\n",
    "\n"
   ]
  },
  {
   "cell_type": "code",
   "execution_count": 104,
   "metadata": {},
   "outputs": [],
   "source": [
    "from surprise import SVD, KNNBasic,KNNWithMeans, SVDpp, NMF, BaselineOnly\n",
    "from surprise import Dataset, Reader\n",
    "from surprise import accuracy\n",
    "from surprise.model_selection import train_test_split, GridSearchCV\n",
    "df = ratings2[['user_id', 'route_id', 'user_rating']]\n",
    "reader = Reader(rating_scale = (0,4))\n",
    "data = Dataset.load_from_df(df, reader = reader)\n"
   ]
  },
  {
   "cell_type": "code",
   "execution_count": null,
   "metadata": {},
   "outputs": [],
   "source": [
    "if False:\n",
    "    trainset, testset = train_test_split(data, test_size=.25)\n",
    "\n",
    "    baseline = BaselineOnly()\n",
    "    svd = SVD()\n",
    "    svdpp = SVDpp()\n",
    "    knn = KNNBasic()\n",
    "    knnwithmeans = KNNWithMeans()\n",
    "    nmf = NMF()\n",
    "\n",
    "    for  name, algo in [('Baseline', baseline), ('SVD', svd), ('KNNBasic',knn), \n",
    "                 ('KNNWithMeans',knnwithmeans), ('NMF',nmf)]:\n",
    "\n",
    "        algo.fit(trainset)\n",
    "        predictions = algo.test(testset)\n",
    "\n",
    "\n",
    "        print(f'{name}:')\n",
    "        accuracy.rmse(predictions)"
   ]
  },
  {
   "cell_type": "markdown",
   "metadata": {},
   "source": [
    "Gridsearching"
   ]
  },
  {
   "cell_type": "code",
   "execution_count": 84,
   "metadata": {},
   "outputs": [
    {
     "ename": "IndexingError",
     "evalue": "Unalignable boolean Series provided as indexer (index of the boolean Series and of the indexed object do not match).",
     "output_type": "error",
     "traceback": [
      "\u001b[0;31m---------------------------------------------------------------------------\u001b[0m",
      "\u001b[0;31mIndexingError\u001b[0m                             Traceback (most recent call last)",
      "\u001b[0;32m<ipython-input-84-d0be78b47a86>\u001b[0m in \u001b[0;36m<module>\u001b[0;34m\u001b[0m\n\u001b[0;32m----> 1\u001b[0;31m \u001b[0mratings\u001b[0m\u001b[0;34m[\u001b[0m\u001b[0mratings\u001b[0m\u001b[0;34m[\u001b[0m\u001b[0;34m'user_id'\u001b[0m\u001b[0;34m]\u001b[0m\u001b[0;34m.\u001b[0m\u001b[0mvalue_counts\u001b[0m\u001b[0;34m(\u001b[0m\u001b[0;34m)\u001b[0m \u001b[0;34m==\u001b[0m\u001b[0;36m1\u001b[0m\u001b[0;34m]\u001b[0m\u001b[0;34m\u001b[0m\u001b[0;34m\u001b[0m\u001b[0m\n\u001b[0m",
      "\u001b[0;32m/Library/Frameworks/Python.framework/Versions/3.7/lib/python3.7/site-packages/pandas/core/frame.py\u001b[0m in \u001b[0;36m__getitem__\u001b[0;34m(self, key)\u001b[0m\n\u001b[1;32m   2895\u001b[0m         \u001b[0;31m# Do we have a (boolean) 1d indexer?\u001b[0m\u001b[0;34m\u001b[0m\u001b[0;34m\u001b[0m\u001b[0;34m\u001b[0m\u001b[0m\n\u001b[1;32m   2896\u001b[0m         \u001b[0;32mif\u001b[0m \u001b[0mcom\u001b[0m\u001b[0;34m.\u001b[0m\u001b[0mis_bool_indexer\u001b[0m\u001b[0;34m(\u001b[0m\u001b[0mkey\u001b[0m\u001b[0;34m)\u001b[0m\u001b[0;34m:\u001b[0m\u001b[0;34m\u001b[0m\u001b[0;34m\u001b[0m\u001b[0m\n\u001b[0;32m-> 2897\u001b[0;31m             \u001b[0;32mreturn\u001b[0m \u001b[0mself\u001b[0m\u001b[0;34m.\u001b[0m\u001b[0m_getitem_bool_array\u001b[0m\u001b[0;34m(\u001b[0m\u001b[0mkey\u001b[0m\u001b[0;34m)\u001b[0m\u001b[0;34m\u001b[0m\u001b[0;34m\u001b[0m\u001b[0m\n\u001b[0m\u001b[1;32m   2898\u001b[0m \u001b[0;34m\u001b[0m\u001b[0m\n\u001b[1;32m   2899\u001b[0m         \u001b[0;31m# We are left with two options: a single key, and a collection of keys,\u001b[0m\u001b[0;34m\u001b[0m\u001b[0;34m\u001b[0m\u001b[0;34m\u001b[0m\u001b[0m\n",
      "\u001b[0;32m/Library/Frameworks/Python.framework/Versions/3.7/lib/python3.7/site-packages/pandas/core/frame.py\u001b[0m in \u001b[0;36m_getitem_bool_array\u001b[0;34m(self, key)\u001b[0m\n\u001b[1;32m   2947\u001b[0m         \u001b[0;31m# check_bool_indexer will throw exception if Series key cannot\u001b[0m\u001b[0;34m\u001b[0m\u001b[0;34m\u001b[0m\u001b[0;34m\u001b[0m\u001b[0m\n\u001b[1;32m   2948\u001b[0m         \u001b[0;31m# be reindexed to match DataFrame rows\u001b[0m\u001b[0;34m\u001b[0m\u001b[0;34m\u001b[0m\u001b[0;34m\u001b[0m\u001b[0m\n\u001b[0;32m-> 2949\u001b[0;31m         \u001b[0mkey\u001b[0m \u001b[0;34m=\u001b[0m \u001b[0mcheck_bool_indexer\u001b[0m\u001b[0;34m(\u001b[0m\u001b[0mself\u001b[0m\u001b[0;34m.\u001b[0m\u001b[0mindex\u001b[0m\u001b[0;34m,\u001b[0m \u001b[0mkey\u001b[0m\u001b[0;34m)\u001b[0m\u001b[0;34m\u001b[0m\u001b[0;34m\u001b[0m\u001b[0m\n\u001b[0m\u001b[1;32m   2950\u001b[0m         \u001b[0mindexer\u001b[0m \u001b[0;34m=\u001b[0m \u001b[0mkey\u001b[0m\u001b[0;34m.\u001b[0m\u001b[0mnonzero\u001b[0m\u001b[0;34m(\u001b[0m\u001b[0;34m)\u001b[0m\u001b[0;34m[\u001b[0m\u001b[0;36m0\u001b[0m\u001b[0;34m]\u001b[0m\u001b[0;34m\u001b[0m\u001b[0;34m\u001b[0m\u001b[0m\n\u001b[1;32m   2951\u001b[0m         \u001b[0;32mreturn\u001b[0m \u001b[0mself\u001b[0m\u001b[0;34m.\u001b[0m\u001b[0m_take_with_is_copy\u001b[0m\u001b[0;34m(\u001b[0m\u001b[0mindexer\u001b[0m\u001b[0;34m,\u001b[0m \u001b[0maxis\u001b[0m\u001b[0;34m=\u001b[0m\u001b[0;36m0\u001b[0m\u001b[0;34m)\u001b[0m\u001b[0;34m\u001b[0m\u001b[0;34m\u001b[0m\u001b[0m\n",
      "\u001b[0;32m/Library/Frameworks/Python.framework/Versions/3.7/lib/python3.7/site-packages/pandas/core/indexing.py\u001b[0m in \u001b[0;36mcheck_bool_indexer\u001b[0;34m(index, key)\u001b[0m\n\u001b[1;32m   2181\u001b[0m         \u001b[0;32mif\u001b[0m \u001b[0mmask\u001b[0m\u001b[0;34m.\u001b[0m\u001b[0many\u001b[0m\u001b[0;34m(\u001b[0m\u001b[0;34m)\u001b[0m\u001b[0;34m:\u001b[0m\u001b[0;34m\u001b[0m\u001b[0;34m\u001b[0m\u001b[0m\n\u001b[1;32m   2182\u001b[0m             raise IndexingError(\n\u001b[0;32m-> 2183\u001b[0;31m                 \u001b[0;34m\"Unalignable boolean Series provided as \"\u001b[0m\u001b[0;34m\u001b[0m\u001b[0;34m\u001b[0m\u001b[0m\n\u001b[0m\u001b[1;32m   2184\u001b[0m                 \u001b[0;34m\"indexer (index of the boolean Series and of \"\u001b[0m\u001b[0;34m\u001b[0m\u001b[0;34m\u001b[0m\u001b[0m\n\u001b[1;32m   2185\u001b[0m                 \u001b[0;34m\"the indexed object do not match).\"\u001b[0m\u001b[0;34m\u001b[0m\u001b[0;34m\u001b[0m\u001b[0m\n",
      "\u001b[0;31mIndexingError\u001b[0m: Unalignable boolean Series provided as indexer (index of the boolean Series and of the indexed object do not match)."
     ]
    }
   ],
   "source": [
    "ratings[ratings['user_id'].value_counts() ==1]"
   ]
  },
  {
   "cell_type": "code",
   "execution_count": 82,
   "metadata": {},
   "outputs": [],
   "source": [
    "trainset, testset = train_test_split(data, test_size=.25)"
   ]
  },
  {
   "cell_type": "code",
   "execution_count": 109,
   "metadata": {},
   "outputs": [
    {
     "name": "stdout",
     "output_type": "stream",
     "text": [
      "RMSE: 0.6489\n"
     ]
    },
    {
     "data": {
      "text/plain": [
       "0.6489095736915519"
      ]
     },
     "execution_count": 109,
     "metadata": {},
     "output_type": "execute_result"
    }
   ],
   "source": [
    "svd = SVD(n_factors=10)\n",
    "svd.fit(trainset)\n",
    "predictions = svd.test(testset)\n",
    "\n",
    "accuracy.rmse(predictions)"
   ]
  },
  {
   "cell_type": "code",
   "execution_count": 22,
   "metadata": {},
   "outputs": [],
   "source": [
    "svd_param_grid = { 'n_factors' : [5, 10, 25, 50, 100, 150, 200],\n",
    "                  'n_epochs': [20, 25], \n",
    "                  'lr_all': [0.007, 0.009, 0.01],\n",
    "                  'reg_all': [0.4, 0.6]}"
   ]
  },
  {
   "cell_type": "code",
   "execution_count": null,
   "metadata": {},
   "outputs": [
    {
     "name": "stderr",
     "output_type": "stream",
     "text": [
      "[Parallel(n_jobs=-1)]: Using backend LokyBackend with 4 concurrent workers.\n",
      "[Parallel(n_jobs=-1)]: Done  10 tasks      | elapsed:  5.6min\n"
     ]
    }
   ],
   "source": [
    "svd_gs = GridSearchCV(SVD, svd_param_grid, measures=['rmse', 'mae'], cv=5, n_jobs=-1, joblib_verbose= 5)\n",
    "svd_gs.fit(data)"
   ]
  },
  {
   "cell_type": "code",
   "execution_count": 20,
   "metadata": {},
   "outputs": [
    {
     "ename": "NameError",
     "evalue": "name 'svd_gs' is not defined",
     "output_type": "error",
     "traceback": [
      "\u001b[0;31m---------------------------------------------------------------------------\u001b[0m",
      "\u001b[0;31mNameError\u001b[0m                                 Traceback (most recent call last)",
      "\u001b[0;32m<ipython-input-20-3e5bde854e8a>\u001b[0m in \u001b[0;36m<module>\u001b[0;34m\u001b[0m\n\u001b[0;32m----> 1\u001b[0;31m \u001b[0mprint\u001b[0m\u001b[0;34m(\u001b[0m\u001b[0;34m'RMSE ='\u001b[0m\u001b[0;34m,\u001b[0m \u001b[0msvd_gs\u001b[0m\u001b[0;34m.\u001b[0m\u001b[0mbest_params\u001b[0m\u001b[0;34m[\u001b[0m\u001b[0;34m'rmse'\u001b[0m\u001b[0;34m]\u001b[0m\u001b[0;34m)\u001b[0m\u001b[0;34m\u001b[0m\u001b[0;34m\u001b[0m\u001b[0m\n\u001b[0m\u001b[1;32m      2\u001b[0m \u001b[0mprint\u001b[0m\u001b[0;34m(\u001b[0m\u001b[0;34m'MAE ='\u001b[0m\u001b[0;34m,\u001b[0m \u001b[0msvd_gs\u001b[0m\u001b[0;34m.\u001b[0m\u001b[0mbest_params\u001b[0m\u001b[0;34m[\u001b[0m\u001b[0;34m'mae'\u001b[0m\u001b[0;34m]\u001b[0m\u001b[0;34m)\u001b[0m\u001b[0;34m\u001b[0m\u001b[0;34m\u001b[0m\u001b[0m\n",
      "\u001b[0;31mNameError\u001b[0m: name 'svd_gs' is not defined"
     ]
    }
   ],
   "source": [
    "print('RMSE =', svd_gs.best_params['rmse'])\n",
    "print('MAE =', svd_gs.best_params['mae'])"
   ]
  },
  {
   "cell_type": "code",
   "execution_count": 106,
   "metadata": {},
   "outputs": [],
   "source": [
    "full_trainset = data.build_full_trainset()"
   ]
  },
  {
   "cell_type": "code",
   "execution_count": 107,
   "metadata": {
    "scrolled": true
   },
   "outputs": [
    {
     "data": {
      "text/plain": [
       "<surprise.prediction_algorithms.matrix_factorization.SVD at 0x12c0ffb70>"
      ]
     },
     "execution_count": 107,
     "metadata": {},
     "output_type": "execute_result"
    }
   ],
   "source": [
    "svd = SVD()\n",
    "svd.fit(full_trainset)"
   ]
  },
  {
   "cell_type": "code",
   "execution_count": 108,
   "metadata": {},
   "outputs": [],
   "source": [
    "pickle.dump(svd, open('./pickle/svd.pkl', 'wb'))"
   ]
  },
  {
   "cell_type": "code",
   "execution_count": null,
   "metadata": {},
   "outputs": [],
   "source": [
    "from surprise import KNNBaseline\n",
    "sim_options = {'name': 'pearson_baseline', 'user_based': False}\n",
    "knn = KNNBaseline(sim_options = sim_options)\n",
    "knn.fit(full_trainset)"
   ]
  },
  {
   "cell_type": "code",
   "execution_count": null,
   "metadata": {
    "scrolled": true
   },
   "outputs": [],
   "source": [
    "pickle.dump(knn, open('./pickle/knn.pkl', 'wb'), protocol=4)"
   ]
  },
  {
   "cell_type": "code",
   "execution_count": null,
   "metadata": {},
   "outputs": [],
   "source": [
    "pd.DataFrame([[1, 3, 0, 4, 2], [1, '?', 1, 4, 2], [4, 2, 0, 4, 1], ['?', '?', 2, '?', '?'], [0,0,1,'?',4]], columns = [f'Route {i}' for i in range(1,6)], \n",
    "            index = [f'User {i}' for i in range(1,6)])"
   ]
  },
  {
   "cell_type": "code",
   "execution_count": null,
   "metadata": {},
   "outputs": [],
   "source": [
    "if False:\n",
    "    predictions = svd.test(full_trainset.build_testset())\n",
    "    test = pd.DataFrame(predictions)\n",
    "    test = test.rename(columns={'uid':'user_id', 'iid': 'route_id', \n",
    "                                'r_ui':'actual', 'est':'prediction'})\n",
    "\n",
    "    cf_model = test.pivot_table(index='user_id', \n",
    "                                columns='route_id', values='prediction').fillna(0)\n",
    "\n",
    "    def get_users_predictions(user_id, n,model):\n",
    "        recommended_items = pd.DataFrame(model.loc[user_id])\n",
    "        recommended_items.columns = [\"predicted_rating\"]\n",
    "        recommended_items = recommended_items.sort_values('predicted_rating', ascending=False)    \n",
    "        #recommended_items = recommended_items\n",
    "        return recommended_items.index.tolist(),recommended_items['predicted_rating'].tolist()\n",
    "\n",
    "    def get_recs(model, k):\n",
    "        recs = []\n",
    "        rats = []\n",
    "        for user in model.index:\n",
    "            cf_predictions, cf_ratings = get_users_predictions(user, k, model)\n",
    "            recs.append(cf_predictions)\n",
    "            rats.append(cf_ratings)\n",
    "        return recs, rats    \n",
    "\n",
    "    # Top-10 recommendations for each user\n",
    "    k = 10\n",
    "    recs,rats  = get_recs(cf_model, k)\n",
    "    preds = pd.DataFrame(index=cf_model.index)\n"
   ]
  },
  {
   "cell_type": "code",
   "execution_count": null,
   "metadata": {},
   "outputs": [],
   "source": []
  },
  {
   "cell_type": "code",
   "execution_count": null,
   "metadata": {},
   "outputs": [],
   "source": [
    "def get_predictions(user_id):\n",
    "    preds = []\n",
    "    for route in routes['route_id'].unique():\n",
    "        preds.append((route,svd.predict(user_id, route).est))\n",
    "    return  zip(*sorted(preds,key = lambda x: x[1],reverse = True))\n",
    "\n",
    "\n",
    "def get_top_n(user_id, n= 10, area_ids = [], climb_types = [], min_climb_grade = 0, max_climb_grade = 71, min_boulder_grade = 0, max_boulder_grade = 71, pitches = 1, ignore_completed = True):\n",
    "    preds = pd.DataFrame(list(zip(*get_predictions(user_id))), columns = ['route_id', 'prediction'])\n",
    "\n",
    "    \n",
    "    user_preds = routes.merge(preds, on = 'route_id')\n",
    "    \n",
    "    if ignore_completed:\n",
    "        already_rated = ratings[ratings['user_id'] == user_id]['route_id'].values\n",
    "        user_preds = user_preds[~user_preds['route_id'].isin(already_rated)]\n",
    "\n",
    "    if climb_types == []:\n",
    "        climb_types = ['Boulder', 'Sport', 'Trad']\n",
    "\n",
    "    boulder_mask = (user_preds['type'] == 'Boulder') & (user_preds['grade_numeric'].isin(range(min_boulder_grade, max_boulder_grade+1))) if 'Boulder' in climb_types else False\n",
    "    sport_mask = (user_preds['type'] == 'Sport') & (user_preds['grade_numeric'].isin(range(min_climb_grade, max_climb_grade+1))) if 'Sport' in climb_types else False\n",
    "    trad_mask = (user_preds['type'] == 'Trad') & (user_preds['grade_numeric'].isin(range(min_climb_grade, max_climb_grade+1))) if 'Trad' in climb_types else False                                        \n",
    "                                                    \n",
    "    if area_ids == []: \n",
    "        area_mask = True                                        \n",
    "       # return user_preds[(user_preds['type'].isin(climb_types)) & (user_preds['grade_numeric'].isin(range(min_grade, max_grade+1))) & (user_preds['pitches'].isin(list(range(pitches, 100 if pitches != 1 else 2))))].sort_values('prediction', ascending = False).head(n).drop(columns = ['description', 'star_ratings'])\n",
    "    else:\n",
    "        subareas = functools.reduce(operator.iconcat, [area_tree.get_children(area_id) for area_id in area_ids], [])\n",
    "        area_mask = user_preds['area_id'].isin(subareas)\n",
    "    \n",
    "    pitch_mask = (user_preds['pitches'].isin(list(range(pitches,100 if pitches != 1 else 2))))\n",
    "    mask = (boulder_mask | sport_mask | trad_mask) & area_mask & pitch_mask                                            \n",
    "                                                  \n",
    "    return user_preds[mask].sort_values('prediction', ascending = False).head(n).drop(columns = ['description', 'star_ratings'])\n",
    "\n",
    "\n"
   ]
  },
  {
   "cell_type": "code",
   "execution_count": null,
   "metadata": {},
   "outputs": [],
   "source": [
    "def get_similar_users(user_id):\n",
    "    pass\n",
    "\n",
    "def get_similar_climbs(route_id):\n",
    "    \n",
    "    route_inner_id = knn.trainset.to_inner_iid(route_id)\n",
    "    route_neighbors = knn.get_neighbors(route_inner_id, k=10)\n",
    "    route_neighbors = (knn.trainset.to_raw_iid(inner_id)\n",
    "                       for inner_id in route_neighbors)\n",
    "    \n",
    "    return routes[routes['route_id'].isin(route_neighbors)].drop(columns = ['star_ratings', 'description'])"
   ]
  },
  {
   "cell_type": "code",
   "execution_count": null,
   "metadata": {},
   "outputs": [],
   "source": [
    "routes.shape"
   ]
  },
  {
   "cell_type": "code",
   "execution_count": null,
   "metadata": {},
   "outputs": [],
   "source": [
    "get_top_n(user_id = 200503731, climb_types = ['Sport'], area_ids = [], n = 10, ignore_completed = True).to_csv('./streamlit/test_rec.csv', index = False)"
   ]
  },
  {
   "cell_type": "code",
   "execution_count": null,
   "metadata": {},
   "outputs": [],
   "source": [
    "ratings[ratings['user_id'] == 200410792]"
   ]
  },
  {
   "cell_type": "code",
   "execution_count": null,
   "metadata": {},
   "outputs": [],
   "source": [
    "ratings[ratings['user_id'] == 200503731]['route_id'].values"
   ]
  },
  {
   "cell_type": "code",
   "execution_count": null,
   "metadata": {},
   "outputs": [],
   "source": [
    "get_top_n(200410792, area_id = 119375710, n = 40, climb_types = [ 'Sport'])"
   ]
  },
  {
   "cell_type": "code",
   "execution_count": null,
   "metadata": {},
   "outputs": [],
   "source": [
    "get_top_n_type(200503731, n= 10, climb_types = ['Sport'])"
   ]
  },
  {
   "cell_type": "code",
   "execution_count": null,
   "metadata": {},
   "outputs": [],
   "source": [
    "routes[routes['route_id'].isin(top_routes[:10])]  "
   ]
  },
  {
   "cell_type": "code",
   "execution_count": null,
   "metadata": {},
   "outputs": [],
   "source": []
  },
  {
   "cell_type": "code",
   "execution_count": null,
   "metadata": {},
   "outputs": [],
   "source": []
  },
  {
   "cell_type": "code",
   "execution_count": null,
   "metadata": {},
   "outputs": [],
   "source": []
  },
  {
   "cell_type": "code",
   "execution_count": null,
   "metadata": {},
   "outputs": [],
   "source": []
  },
  {
   "cell_type": "code",
   "execution_count": null,
   "metadata": {},
   "outputs": [],
   "source": []
  },
  {
   "cell_type": "code",
   "execution_count": null,
   "metadata": {},
   "outputs": [],
   "source": []
  },
  {
   "cell_type": "code",
   "execution_count": null,
   "metadata": {},
   "outputs": [],
   "source": []
  },
  {
   "cell_type": "code",
   "execution_count": null,
   "metadata": {},
   "outputs": [],
   "source": []
  },
  {
   "cell_type": "code",
   "execution_count": null,
   "metadata": {},
   "outputs": [],
   "source": [
    "full_trainset = data.build_full_trainset()"
   ]
  },
  {
   "cell_type": "code",
   "execution_count": null,
   "metadata": {},
   "outputs": [],
   "source": [
    "svd_full = SVD()\n",
    "svd_full.fit(full_trainset)"
   ]
  },
  {
   "cell_type": "code",
   "execution_count": null,
   "metadata": {},
   "outputs": [],
   "source": [
    "svd.predict(200760174, 106952812)"
   ]
  },
  {
   "cell_type": "code",
   "execution_count": null,
   "metadata": {},
   "outputs": [],
   "source": [
    "def get_top_n(uid, predictions, n=10):\n",
    "    \"\"\"Return the top-N recommendation for each user from a set of predictions.\n",
    "\n",
    "    Args:\n",
    "        predictions(list of Prediction objects): The list of predictions, as\n",
    "            returned by the test method of an algorithm.\n",
    "        n(int): The number of recommendation to output for each user. Default\n",
    "            is 10.\n",
    "\n",
    "    Returns:\n",
    "    A dict where keys are user (raw) ids and values are lists of tuples:\n",
    "        [(raw item id, rating estimation), ...] of size n.\n",
    "    \"\"\"\n",
    "\n",
    "    # First map the predictions to each user.\n",
    "    top_n = defaultdict(list)\n",
    "    for uid, iid, true_r, est, _ in predictions:\n",
    "        top_n[uid].append((iid, est))\n",
    "\n",
    "    # Then sort the predictions for each user and retrieve the k highest ones.\n",
    "    for uid, user_ratings in top_n.items():\n",
    "        user_ratings.sort(key=lambda x: x[1], reverse=True)\n",
    "        top_n[uid] = user_ratings[:n]\n",
    "\n",
    "    return top_n"
   ]
  },
  {
   "cell_type": "code",
   "execution_count": null,
   "metadata": {},
   "outputs": [],
   "source": [
    "anti_testset = trainset.build_anti_testset()\n",
    "predictions = svd.test(anti_testset)"
   ]
  },
  {
   "cell_type": "code",
   "execution_count": null,
   "metadata": {},
   "outputs": [],
   "source": [
    "predictions"
   ]
  },
  {
   "cell_type": "code",
   "execution_count": null,
   "metadata": {},
   "outputs": [],
   "source": [
    "anti_testset = trainset.build_anti_testset()\n",
    "predictions = svd.test(anti_testset)\n",
    "\n",
    "top_n = get_top_n(predictions, n=10)\n",
    "\n",
    "# Print the recommended items for each user\n",
    "for uid, user_ratings in top_n.items():\n",
    "    print(uid, [iid for (iid, _) in user_ratings])"
   ]
  },
  {
   "cell_type": "code",
   "execution_count": null,
   "metadata": {},
   "outputs": [],
   "source": []
  },
  {
   "cell_type": "code",
   "execution_count": null,
   "metadata": {},
   "outputs": [],
   "source": []
  },
  {
   "cell_type": "code",
   "execution_count": null,
   "metadata": {},
   "outputs": [],
   "source": []
  },
  {
   "cell_type": "code",
   "execution_count": null,
   "metadata": {},
   "outputs": [],
   "source": []
  },
  {
   "cell_type": "code",
   "execution_count": null,
   "metadata": {},
   "outputs": [],
   "source": []
  },
  {
   "cell_type": "code",
   "execution_count": null,
   "metadata": {},
   "outputs": [],
   "source": []
  },
  {
   "cell_type": "code",
   "execution_count": null,
   "metadata": {},
   "outputs": [],
   "source": [
    "\n",
    "def get_top_n(predictions, n=10):\n",
    "    \"\"\"Return the top-N recommendation for each user from a set of predictions.\n",
    "\n",
    "    Args:\n",
    "        predictions(list of Prediction objects): The list of predictions, as\n",
    "            returned by the test method of an algorithm.\n",
    "        n(int): The number of recommendation to output for each user. Default\n",
    "            is 10.\n",
    "\n",
    "    Returns:\n",
    "    A dict where keys are user (raw) ids and values are lists of tuples:\n",
    "        [(raw item id, rating estimation), ...] of size n.\n",
    "    \"\"\"\n",
    "\n",
    "    # First map the predictions to each user.\n",
    "    top_n = defaultdict(list)\n",
    "    for uid, iid, true_r, est, _ in predictions:\n",
    "        top_n[uid].append((iid, est))\n",
    "\n",
    "    # Then sort the predictions for each user and retrieve the k highest ones.\n",
    "    for uid, user_ratings in top_n.items():\n",
    "        user_ratings.sort(key=lambda x: x[1], reverse=True)\n",
    "        top_n[uid] = user_ratings[:n]\n",
    "\n",
    "    return top_n\n",
    "\n",
    "\n",
    "# First train an SVD algorithm on the movielens dataset.\n",
    "#data = Dataset.load_builtin('ml-100k')\n",
    "trainset = data.build_full_trainset()\n",
    "algo = SVD()\n",
    "algo.fit(trainset)\n",
    "\n",
    "# Than predict ratings for all pairs (u, i) that are NOT in the training set.\n",
    "testset = trainset.build_anti_testset()\n",
    "predictions = algo.test(testset)\n",
    "\n",
    "top_n = get_top_n(predictions, n=10)\n",
    "\n",
    "# Print the recommended items for each user\n",
    "for uid, user_ratings in top_n.items():\n",
    "    print(uid, [iid for (iid, _) in user_ratings])"
   ]
  },
  {
   "cell_type": "code",
   "execution_count": null,
   "metadata": {},
   "outputs": [],
   "source": []
  },
  {
   "cell_type": "code",
   "execution_count": null,
   "metadata": {},
   "outputs": [],
   "source": [
    "algo.predict(200503731, 105748813)"
   ]
  },
  {
   "cell_type": "code",
   "execution_count": null,
   "metadata": {},
   "outputs": [],
   "source": []
  },
  {
   "cell_type": "code",
   "execution_count": null,
   "metadata": {},
   "outputs": [],
   "source": []
  },
  {
   "cell_type": "code",
   "execution_count": null,
   "metadata": {},
   "outputs": [],
   "source": [
    "ratings.groupby('route_id')['rating'].count().mean()"
   ]
  },
  {
   "cell_type": "code",
   "execution_count": null,
   "metadata": {},
   "outputs": [],
   "source": [
    "ratings['rating_counts'] = pd.DataFrame(ratings.groupby('route_id')['rating'].count())"
   ]
  },
  {
   "cell_type": "code",
   "execution_count": null,
   "metadata": {},
   "outputs": [],
   "source": [
    "plt.figure(figsize=(8,6))\n",
    "plt.rcParams['patch.force_edgecolor'] = True\n",
    "ratings['rating'].hist(bins=50)"
   ]
  },
  {
   "cell_type": "code",
   "execution_count": null,
   "metadata": {},
   "outputs": [],
   "source": [
    "type('asdf')"
   ]
  },
  {
   "cell_type": "code",
   "execution_count": null,
   "metadata": {},
   "outputs": [],
   "source": [
    "count = 0\n",
    "for i, row in routes.iterrows():\n",
    "    if type(row.description) == str:\n",
    "        if 'zugzwang' in (row.description.lower()):\n",
    "            count +=1\n",
    "            print(row.description)\n",
    "count            "
   ]
  },
  {
   "cell_type": "code",
   "execution_count": null,
   "metadata": {},
   "outputs": [],
   "source": []
  },
  {
   "cell_type": "code",
   "execution_count": null,
   "metadata": {},
   "outputs": [],
   "source": []
  },
  {
   "cell_type": "code",
   "execution_count": null,
   "metadata": {},
   "outputs": [],
   "source": [
    "sns.distplot(ratings.groupby('route_id')['rating'].count())"
   ]
  },
  {
   "cell_type": "code",
   "execution_count": null,
   "metadata": {},
   "outputs": [],
   "source": []
  },
  {
   "cell_type": "code",
   "execution_count": null,
   "metadata": {},
   "outputs": [],
   "source": []
  },
  {
   "cell_type": "code",
   "execution_count": null,
   "metadata": {},
   "outputs": [],
   "source": []
  },
  {
   "cell_type": "code",
   "execution_count": null,
   "metadata": {},
   "outputs": [],
   "source": []
  },
  {
   "cell_type": "code",
   "execution_count": null,
   "metadata": {},
   "outputs": [],
   "source": [
    "pivot = pd.pivot_table(ratings, index='user_id', columns='route_id', values='rating')"
   ]
  },
  {
   "cell_type": "code",
   "execution_count": null,
   "metadata": {},
   "outputs": [],
   "source": []
  },
  {
   "cell_type": "code",
   "execution_count": null,
   "metadata": {},
   "outputs": [],
   "source": [
    "pivot.head()"
   ]
  },
  {
   "cell_type": "code",
   "execution_count": null,
   "metadata": {},
   "outputs": [],
   "source": [
    "from scipy import sparse"
   ]
  },
  {
   "cell_type": "code",
   "execution_count": null,
   "metadata": {},
   "outputs": [],
   "source": [
    "sparse_pivot = sparse.csr_matrix(pivot.fillna(0))\n",
    "print(sparse_pivot)"
   ]
  },
  {
   "cell_type": "code",
   "execution_count": null,
   "metadata": {},
   "outputs": [],
   "source": [
    "sparse_pivot.shape"
   ]
  },
  {
   "cell_type": "code",
   "execution_count": null,
   "metadata": {},
   "outputs": [],
   "source": [
    "from sklearn.metrics.pairwise import pairwise_distances, cosine_distances, cosine_similarity\n"
   ]
  },
  {
   "cell_type": "code",
   "execution_count": null,
   "metadata": {},
   "outputs": [],
   "source": [
    "dists = pairwise_distances(sparse_pivot, metric='cosine')\n",
    "# dists = cosine_distances(sparse_pivot)                         # Identical but more concise\n",
    "\n",
    "dists"
   ]
  },
  {
   "cell_type": "code",
   "execution_count": null,
   "metadata": {},
   "outputs": [],
   "source": [
    "similarities = cosine_similarity(sparse_pivot)\n"
   ]
  },
  {
   "cell_type": "code",
   "execution_count": null,
   "metadata": {},
   "outputs": [],
   "source": [
    "np.all(np.isclose((1.0 - dists), similarities))\n"
   ]
  },
  {
   "cell_type": "code",
   "execution_count": null,
   "metadata": {},
   "outputs": [],
   "source": [
    "recommender_df = pd.DataFrame(dists, \n",
    "                              columns=pivot.index, \n",
    "                              index=pivot.index)\n",
    "recommender_df.head()"
   ]
  },
  {
   "cell_type": "code",
   "execution_count": null,
   "metadata": {},
   "outputs": [],
   "source": [
    "route_ratings.user_id.value_counts()[route_ratings.user_id.value_counts() > 25]"
   ]
  },
  {
   "cell_type": "code",
   "execution_count": null,
   "metadata": {},
   "outputs": [],
   "source": [
    "titles = [110596403,200236355]\n",
    "\n",
    "for title in titles:\n",
    "    print(title)\n",
    "    print('Average rating', pivot.loc[title, :].mean())\n",
    "    print('Number of ratings', pivot.T[title].count())\n",
    "    print('')\n",
    "    print('10 closest movies')\n",
    "    print(recommender_df[title].sort_values()[1:11])\n",
    "    print('')"
   ]
  },
  {
   "cell_type": "code",
   "execution_count": null,
   "metadata": {},
   "outputs": [],
   "source": [
    "(route_ratings['user_id'] == 12988).sum()"
   ]
  },
  {
   "cell_type": "code",
   "execution_count": null,
   "metadata": {},
   "outputs": [],
   "source": [
    "route_ratings[route_ratings['user_id'] == 112082211]"
   ]
  },
  {
   "cell_type": "code",
   "execution_count": null,
   "metadata": {},
   "outputs": [],
   "source": []
  },
  {
   "cell_type": "code",
   "execution_count": null,
   "metadata": {},
   "outputs": [],
   "source": []
  },
  {
   "cell_type": "code",
   "execution_count": null,
   "metadata": {},
   "outputs": [],
   "source": []
  },
  {
   "cell_type": "code",
   "execution_count": null,
   "metadata": {},
   "outputs": [],
   "source": []
  },
  {
   "cell_type": "code",
   "execution_count": null,
   "metadata": {},
   "outputs": [],
   "source": []
  },
  {
   "cell_type": "code",
   "execution_count": null,
   "metadata": {},
   "outputs": [],
   "source": [
    "areas"
   ]
  },
  {
   "cell_type": "code",
   "execution_count": null,
   "metadata": {},
   "outputs": [],
   "source": [
    "areas.id.values"
   ]
  },
  {
   "cell_type": "code",
   "execution_count": null,
   "metadata": {},
   "outputs": [],
   "source": [
    "areas.parent_id = areas.parent_id.fillna(0).astype(int)"
   ]
  },
  {
   "cell_type": "code",
   "execution_count": null,
   "metadata": {},
   "outputs": [],
   "source": []
  },
  {
   "cell_type": "code",
   "execution_count": null,
   "metadata": {},
   "outputs": [],
   "source": []
  },
  {
   "cell_type": "code",
   "execution_count": null,
   "metadata": {},
   "outputs": [],
   "source": [
    "area_dict"
   ]
  },
  {
   "cell_type": "code",
   "execution_count": null,
   "metadata": {},
   "outputs": [],
   "source": [
    "area_dict[119622035]"
   ]
  },
  {
   "cell_type": "code",
   "execution_count": null,
   "metadata": {},
   "outputs": [],
   "source": [
    "import math\n",
    "for k,v in area_dict.items():\n",
    "    if area_dict[k]['parent']:\n",
    "        area_dict[k]['children'].append(k)"
   ]
  },
  {
   "cell_type": "code",
   "execution_count": null,
   "metadata": {},
   "outputs": [],
   "source": [
    "for k,v in area_dict.items():\n",
    "    print(k,v)"
   ]
  },
  {
   "cell_type": "code",
   "execution_count": null,
   "metadata": {},
   "outputs": [],
   "source": []
  },
  {
   "cell_type": "code",
   "execution_count": null,
   "metadata": {},
   "outputs": [],
   "source": [
    "max_depth(105708957)"
   ]
  },
  {
   "cell_type": "code",
   "execution_count": null,
   "metadata": {},
   "outputs": [],
   "source": []
  },
  {
   "cell_type": "code",
   "execution_count": null,
   "metadata": {},
   "outputs": [],
   "source": []
  },
  {
   "cell_type": "code",
   "execution_count": null,
   "metadata": {},
   "outputs": [],
   "source": [
    "get_parent_chain_names(105880441)"
   ]
  },
  {
   "cell_type": "code",
   "execution_count": null,
   "metadata": {},
   "outputs": [],
   "source": [
    "ratings[ratings['user_id'] == 200410792]"
   ]
  },
  {
   "cell_type": "code",
   "execution_count": null,
   "metadata": {},
   "outputs": [],
   "source": []
  }
 ],
 "metadata": {
  "kernelspec": {
   "display_name": "Python 3",
   "language": "python",
   "name": "python3"
  },
  "language_info": {
   "codemirror_mode": {
    "name": "ipython",
    "version": 3
   },
   "file_extension": ".py",
   "mimetype": "text/x-python",
   "name": "python",
   "nbconvert_exporter": "python",
   "pygments_lexer": "ipython3",
   "version": "3.7.1"
  }
 },
 "nbformat": 4,
 "nbformat_minor": 4
}
